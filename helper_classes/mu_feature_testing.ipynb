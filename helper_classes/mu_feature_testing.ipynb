{
 "cells": [
  {
   "cell_type": "code",
   "execution_count": 1,
   "metadata": {},
   "outputs": [],
   "source": [
    "import configparser\n",
    "import numpy as np"
   ]
  },
  {
   "cell_type": "markdown",
   "metadata": {},
   "source": [
    "# Testing the things which we need to modify the run_routine.py in order to add the feature."
   ]
  },
  {
   "cell_type": "code",
   "execution_count": 2,
   "metadata": {},
   "outputs": [
    {
     "name": "stdout",
     "output_type": "stream",
     "text": [
      "Sections found: ['signal_sources', 'mass_to_mu_ranges', 'inference_parameters']\n",
      "The number of mu's to scan over  40\n"
     ]
    }
   ],
   "source": [
    "# Read the configuration file\n",
    "config = configparser.ConfigParser()\n",
    "config.read('/Users/amirr/Desktop/Flame/FlameFitSimple/analyses/wimp_sensitivity/inference_configs/mass_mu_test.ini')\n",
    "print(\"Sections found:\", config.sections())\n",
    "# Checks out\n",
    "\n",
    "n_mu = int(config['inference_parameters']['n_mu'])\n",
    "print(\"The number of mu's to scan over \",n_mu)"
   ]
  },
  {
   "cell_type": "code",
   "execution_count": 3,
   "metadata": {},
   "outputs": [
    {
     "name": "stdout",
     "output_type": "stream",
     "text": [
      "Mass-to-mu ranges:\n",
      "(0.0, 0.6, 0.1, 20.0)\n",
      "(0.6, 1.0, 1.0, 70.0)\n",
      "(1.0, 100.0, 0.1, 25.0)\n"
     ]
    }
   ],
   "source": [
    "# Extract mass-to-mu mappings from the config file\n",
    "mass_to_mu_ranges = []\n",
    "for key, value in config['mass_to_mu_ranges'].items():\n",
    "    values = value.split('#')[0].strip()  # Ignore comments\n",
    "    mass_min, mass_max, mu_min, mu_max = map(float, values.split(','))\n",
    "    mass_to_mu_ranges.append((mass_min, mass_max, mu_min, mu_max))\n",
    "\n",
    "# Print the parsed mass-to-mu ranges\n",
    "print(\"Mass-to-mu ranges:\")\n",
    "for range_tuple in mass_to_mu_ranges:\n",
    "    print(range_tuple)"
   ]
  },
  {
   "cell_type": "code",
   "execution_count": 4,
   "metadata": {},
   "outputs": [],
   "source": [
    "def get_mu_range(wimp_mass):\n",
    "    for mass_min, mass_max, mu_min, mu_max in mass_to_mu_ranges:\n",
    "        if mass_min <= wimp_mass < mass_max:\n",
    "            return mu_min, mu_max\n",
    "    raise ValueError(f\"No valid mu range found for WIMP mass {wimp_mass}\") # Just to make sure only masses in the config files are given as input"
   ]
  },
  {
   "cell_type": "code",
   "execution_count": 5,
   "metadata": {},
   "outputs": [
    {
     "name": "stdout",
     "output_type": "stream",
     "text": [
      "Extracted masses: [0.2, 0.5, 1.9, 2.0, 20.0]\n",
      "The keys of the dict containing the mus for specific masses dict_keys(['wimp002', 'wimp005', 'wimp019', 'wimp020', 'wimp0200'])\n",
      "For example for a WIMP of mass 0.2Gev, the range of mus that will be scanned over are (0.1, 20.0)\n"
     ]
    }
   ],
   "source": [
    "masses=[]\n",
    "mus_test_dict = dict()\n",
    "signal_sources = list(config['signal_sources'].keys())\n",
    "\n",
    "for signal_source in signal_sources:\n",
    "    # Extract mass from signal_source name (e.g., 'WIMP009' -> 9) \n",
    "    signal_name='wimp'\n",
    "    mass = float(signal_source.replace(signal_name, '')) / 10  # Divide by 10 to get the actual mass.\n",
    "    masses.append(mass)\n",
    "    masses.sort()\n",
    "    # Get the appropriate mu range for this mass\n",
    "    mu_min, mu_max = get_mu_range(mass)\n",
    "    mus_test_dict[signal_source] = (mu_min, mu_max)\n",
    "print(\"Extracted masses:\", masses)\n",
    "\n",
    "#mu_min, mu_max = get_mu_range(20)\n",
    "#print(mu_min, mu_max)  # Expected Output: 0.1, 25\n",
    "# checks out \n",
    "#mu_min, mu_max = get_mu_range(100000)\n",
    "#print(mu_min, mu_max)  # Expected Output: value error \n",
    "# checks out\n",
    "\n",
    "print(\"The keys of the dict containing the mus for specific masses\", mus_test_dict.keys())\n",
    "print(\"For example for a WIMP of mass 0.2Gev, the range of mus that will be scanned over are\", mus_test_dict[\"wimp002\"])\n"
   ]
  },
  {
   "cell_type": "code",
   "execution_count": 7,
   "metadata": {},
   "outputs": [
    {
     "data": {
      "text/plain": [
       "dict_items([('wimp002', (0.1, 20.0)), ('wimp005', (0.1, 20.0)), ('wimp019', (0.1, 25.0)), ('wimp020', (0.1, 25.0)), ('wimp0200', (0.1, 25.0))])"
      ]
     },
     "execution_count": 7,
     "metadata": {},
     "output_type": "execute_result"
    }
   ],
   "source": [
    "mus_test_dict.items()"
   ]
  },
  {
   "cell_type": "code",
   "execution_count": 14,
   "metadata": {},
   "outputs": [
    {
     "name": "stdout",
     "output_type": "stream",
     "text": [
      "Processing signal source 'wimp002' with mu range [0.1, 20.0]\n",
      "Processing signal source 'wimp005' with mu range [0.1, 20.0]\n",
      "Processing signal source 'wimp019' with mu range [0.1, 25.0]\n",
      "Processing signal source 'wimp020' with mu range [0.1, 25.0]\n",
      "Processing signal source 'wimp0200' with mu range [0.1, 25.0]\n",
      "{'wimp002': array([ 0.1       ,  0.1145515 ,  0.13122045,  0.150315  ,  0.17218808,\n",
      "        0.19724402,  0.22594598,  0.2588245 ,  0.29648734,  0.33963069,\n",
      "        0.38905203,  0.44566493,  0.51051585,  0.58480355,  0.66990122,\n",
      "        0.76738187,  0.87904742,  1.00696198,  1.15349003,  1.32134009,\n",
      "        1.51361486,  1.73386848,  1.9861723 ,  2.2751901 ,  2.60626432,\n",
      "        2.9855148 ,  3.41995189,  3.91760609,  4.48767642,  5.14070052,\n",
      "        5.88874941,  6.7456506 ,  7.72724375,  8.85167339, 10.13972438,\n",
      "       11.61520607, 13.30539243, 15.24152622, 17.45939645, 20.        ]), 'wimp005': array([ 0.1       ,  0.1145515 ,  0.13122045,  0.150315  ,  0.17218808,\n",
      "        0.19724402,  0.22594598,  0.2588245 ,  0.29648734,  0.33963069,\n",
      "        0.38905203,  0.44566493,  0.51051585,  0.58480355,  0.66990122,\n",
      "        0.76738187,  0.87904742,  1.00696198,  1.15349003,  1.32134009,\n",
      "        1.51361486,  1.73386848,  1.9861723 ,  2.2751901 ,  2.60626432,\n",
      "        2.9855148 ,  3.41995189,  3.91760609,  4.48767642,  5.14070052,\n",
      "        5.88874941,  6.7456506 ,  7.72724375,  8.85167339, 10.13972438,\n",
      "       11.61520607, 13.30539243, 15.24152622, 17.45939645, 20.        ]), 'wimp019': array([ 0.1       ,  0.1152088 ,  0.13273067,  0.15291741,  0.1761743 ,\n",
      "        0.2029683 ,  0.23383733,  0.26940118,  0.31037385,  0.35757798,\n",
      "        0.41196129,  0.47461565,  0.54679898,  0.62996052,  0.72576994,\n",
      "        0.83615082,  0.9633193 ,  1.10982857,  1.27862014,  1.47308289,\n",
      "        1.69712107,  1.95523276,  2.25260014,  2.59519352,  2.98989123,\n",
      "        3.44461772,  3.96850263,  4.57206413,  5.26742008,  6.0685313 ,\n",
      "        6.9914819 ,  8.05480218,  9.27984068, 10.69119279, 12.31719459,\n",
      "       14.19049169, 16.34869474, 18.83513452, 21.69973186, 25.        ]), 'wimp020': array([ 0.1       ,  0.1152088 ,  0.13273067,  0.15291741,  0.1761743 ,\n",
      "        0.2029683 ,  0.23383733,  0.26940118,  0.31037385,  0.35757798,\n",
      "        0.41196129,  0.47461565,  0.54679898,  0.62996052,  0.72576994,\n",
      "        0.83615082,  0.9633193 ,  1.10982857,  1.27862014,  1.47308289,\n",
      "        1.69712107,  1.95523276,  2.25260014,  2.59519352,  2.98989123,\n",
      "        3.44461772,  3.96850263,  4.57206413,  5.26742008,  6.0685313 ,\n",
      "        6.9914819 ,  8.05480218,  9.27984068, 10.69119279, 12.31719459,\n",
      "       14.19049169, 16.34869474, 18.83513452, 21.69973186, 25.        ]), 'wimp0200': array([ 0.1       ,  0.1152088 ,  0.13273067,  0.15291741,  0.1761743 ,\n",
      "        0.2029683 ,  0.23383733,  0.26940118,  0.31037385,  0.35757798,\n",
      "        0.41196129,  0.47461565,  0.54679898,  0.62996052,  0.72576994,\n",
      "        0.83615082,  0.9633193 ,  1.10982857,  1.27862014,  1.47308289,\n",
      "        1.69712107,  1.95523276,  2.25260014,  2.59519352,  2.98989123,\n",
      "        3.44461772,  3.96850263,  4.57206413,  5.26742008,  6.0685313 ,\n",
      "        6.9914819 ,  8.05480218,  9.27984068, 10.69119279, 12.31719459,\n",
      "       14.19049169, 16.34869474, 18.83513452, 21.69973186, 25.        ])}\n"
     ]
    }
   ],
   "source": [
    "mus_test_dict_1 = dict()\n",
    "for signal_source, (mu_min, mu_max) in mus_test_dict.items() :\n",
    "    print(f\"Processing signal source '{signal_source}' with mu range [{mu_min}, {mu_max}]\")\n",
    "    mus_test_dict_1[signal_source] = np.geomspace(mu_min, mu_max, n_mu)\n",
    "print(mus_test_dict_1)"
   ]
  },
  {
   "cell_type": "code",
   "execution_count": 23,
   "metadata": {},
   "outputs": [
    {
     "name": "stdout",
     "output_type": "stream",
     "text": [
      "[ 0.1         0.1145515   0.13122045  0.150315    0.17218808  0.19724402\n",
      "  0.22594598  0.2588245   0.29648734  0.33963069  0.38905203  0.44566493\n",
      "  0.51051585  0.58480355  0.66990122  0.76738187  0.87904742  1.00696198\n",
      "  1.15349003  1.32134009  1.51361486  1.73386848  1.9861723   2.2751901\n",
      "  2.60626432  2.9855148   3.41995189  3.91760609  4.48767642  5.14070052\n",
      "  5.88874941  6.7456506   7.72724375  8.85167339 10.13972438 11.61520607\n",
      " 13.30539243 15.24152622 17.45939645 20.        ]\n"
     ]
    }
   ],
   "source": [
    "# To cross check if the above range is indeed correct \n",
    "mu_min, mu_max = get_mu_range(0.2)\n",
    "print(np.geomspace(mu_min,mu_max,n_mu))"
   ]
  },
  {
   "cell_type": "markdown",
   "metadata": {},
   "source": [
    "Okay, now after the code remains OG code remoans the same, jst that everthing will come into a FOR loop ..."
   ]
  },
  {
   "cell_type": "code",
   "execution_count": 24,
   "metadata": {},
   "outputs": [],
   "source": [
    "# Changes to the run_routine.py to account for the changes we just made in the function.....actually it makes sense to make the change in the external script and run the exisiting function multiple times, however you will have to change the naming of the pkl files as now it would generate a pkl file everytime it does it for one set of ranges of masses ...how will you \"stich\" all that is the question ..."
   ]
  },
  {
   "cell_type": "markdown",
   "metadata": {},
   "source": [
    "This itself is enough, all you need to do is feed in different mu_min and mu_max for different masses , the np.geomspscae is already hapening in the OG function, just make a change in the run_routine script and out the functions run_routine in a loop that's all  \n",
    "\n",
    "However, this would create a different set of pkl files for every mass, so you would need to \"pre-stich\" the results before it goes into the actual stitching ! (do it tomrrow)  \n",
    "\n",
    "Apart from this you will also have to make a change in the original config file as now you have additional parameter mass_to_mu_ranges"
   ]
  },
  {
   "cell_type": "code",
   "execution_count": 27,
   "metadata": {},
   "outputs": [
    {
     "name": "stdout",
     "output_type": "stream",
     "text": [
      "['wimp002', 'wimp005', 'wimp019', 'wimp020', 'wimp0200']\n",
      "Mass-to-mu ranges:\n",
      "(0.0, 0.6, 0.1, 20.0)\n",
      "(0.6, 1.0, 1.0, 70.0)\n",
      "(1.0, 100.0, 0.1, 25.0)\n",
      "Extracted masses: [0.2, 0.5, 1.9, 2.0, 20.0]\n"
     ]
    },
    {
     "ename": "NameError",
     "evalue": "name 'InferenceHelper' is not defined",
     "output_type": "error",
     "traceback": [
      "\u001b[0;31m---------------------------------------------------------------------------\u001b[0m",
      "\u001b[0;31mNameError\u001b[0m                                 Traceback (most recent call last)",
      "Cell \u001b[0;32mIn[27], line 40\u001b[0m\n\u001b[1;32m     37\u001b[0m ntoys \u001b[38;5;241m=\u001b[39m \u001b[38;5;28mint\u001b[39m(config[\u001b[38;5;124m'\u001b[39m\u001b[38;5;124minference_parameters\u001b[39m\u001b[38;5;124m'\u001b[39m][\u001b[38;5;124m'\u001b[39m\u001b[38;5;124mntoys\u001b[39m\u001b[38;5;124m'\u001b[39m])\n\u001b[1;32m     39\u001b[0m \u001b[38;5;66;03m# Initialize the inference helper\u001b[39;00m\n\u001b[0;32m---> 40\u001b[0m inference_helper \u001b[38;5;241m=\u001b[39m \u001b[43mInferenceHelper\u001b[49m(likelihood_container, background_sources, signal_sources)\n\u001b[1;32m     42\u001b[0m \u001b[38;5;66;03m# Invoke the run routine with dynamic mu ranges\u001b[39;00m\n\u001b[1;32m     43\u001b[0m \u001b[38;5;28;01mfor\u001b[39;00m signal_source, (mu_min, mu_max) \u001b[38;5;129;01min\u001b[39;00m mus_test_dict\u001b[38;5;241m.\u001b[39mitems() :\n",
      "\u001b[0;31mNameError\u001b[0m: name 'InferenceHelper' is not defined"
     ]
    }
   ],
   "source": [
    "# Extract signal sources from the configuration\n",
    "signal_sources = list(config['signal_sources'].keys())  # Partition starts here\n",
    "print(signal_sources)\n",
    "\n",
    "# Extract mass-to-mu mappings from the config file\n",
    "mass_to_mu_ranges = []\n",
    "for key, value in config['mass_to_mu_ranges'].items():\n",
    "    values = value.split('#')[0].strip()  # Ignore comments\n",
    "    mass_min, mass_max, mu_min, mu_max = map(float, values.split(','))\n",
    "    mass_to_mu_ranges.append((mass_min, mass_max, mu_min, mu_max))\n",
    "\n",
    "# Print the parsed mass-to-mu ranges\n",
    "#print(\"Mass-to-mu ranges:\")\n",
    "#for range_tuple in mass_to_mu_ranges:\n",
    "#    print(range_tuple)\n",
    "\n",
    "# Function to get the appropriate mu range for a WIMP mass\n",
    "def get_mu_range(wimp_mass):\n",
    "    for mass_min, mass_max, mu_min, mu_max in mass_to_mu_ranges:\n",
    "        if mass_min <= wimp_mass < mass_max:\n",
    "            return mu_min, mu_max\n",
    "    raise ValueError(f\"No valid mu range found for WIMP mass {wimp_mass}\") # Just to make sure only masses in the config files are given as input\n",
    "\n",
    "# Validate WIMP masses and prepare mu parameters\n",
    "mus_test_dict= dict()\n",
    "masses=[]\n",
    "for signal_source in signal_sources:\n",
    "    # Extract WIMP mass (e.g., 'WIMP009' -> 0.9 GeV)\n",
    "    mass = int(''.join(filter(str.isdigit, signal_source))) / 10\n",
    "    masses.append(mass) \n",
    "    # Get the mu range for the mass\n",
    "    mu_min, mu_max= get_mu_range(mass)\n",
    "    mus_test_dict[signal_source] = (mu_min, mu_max)\n",
    "print(\"Extracted masses:\", masses)\n",
    "# Extract other inference parameters\n",
    "n_mu = int(config['inference_parameters']['n_mu'])\n",
    "ntoys = int(config['inference_parameters']['ntoys'])\n",
    "\n",
    "# Initialize the inference helper\n",
    "inference_helper = InferenceHelper(likelihood_container, background_sources, signal_sources)\n",
    "\n",
    "# Invoke the run routine with dynamic mu ranges\n",
    "for signal_source, (mu_min, mu_max) in mus_test_dict.items() :\n",
    "    print(f\"Processing signal source '{signal_source}' with mu range [{mu_min}, {mu_max}]\")\n",
    "    inference_helper.run_routine(\n",
    "        num_toys=ntoys, \n",
    "        output_dir=args.output,\n",
    "        mu_min=mu_min, \n",
    "        mu_max=mu_max, \n",
    "        n_mu=n_mu\n",
    "    )\n"
   ]
  }
 ],
 "metadata": {
  "kernelspec": {
   "display_name": "fire",
   "language": "python",
   "name": "python3"
  },
  "language_info": {
   "codemirror_mode": {
    "name": "ipython",
    "version": 3
   },
   "file_extension": ".py",
   "mimetype": "text/x-python",
   "name": "python",
   "nbconvert_exporter": "python",
   "pygments_lexer": "ipython3",
   "version": "3.12.4"
  }
 },
 "nbformat": 4,
 "nbformat_minor": 2
}
