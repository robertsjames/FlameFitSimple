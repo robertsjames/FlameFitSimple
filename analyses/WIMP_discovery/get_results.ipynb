{
 "cells": [
  {
   "cell_type": "code",
   "execution_count": 1,
   "id": "3742d92d-19ac-496f-8758-9348ca2bcb13",
   "metadata": {
    "tags": []
   },
   "outputs": [
    {
     "name": "stderr",
     "output_type": "stream",
     "text": [
      "/Users/Robert/anaconda3/envs/flamedisx/lib/python3.11/site-packages/tqdm/auto.py:21: TqdmWarning: IProgress not found. Please update jupyter and ipywidgets. See https://ipywidgets.readthedocs.io/en/stable/user_install.html\n",
      "  from .autonotebook import tqdm as notebook_tqdm\n",
      "/Users/Robert/anaconda3/envs/flamedisx/lib/python3.11/site-packages/wimprates/__init__.py:6: UserWarning: Default WIMP parameters are changed in accordance with https://arxiv.org/abs/2105.00599 (github.com/JelleAalbers/wimprates/pull/14)\n",
      "  warnings.warn(\n"
     ]
    }
   ],
   "source": [
    "import numpy as np\n",
    "import matplotlib.pyplot as plt\n",
    "\n",
    "import pickle as pkl\n",
    "\n",
    "import flamedisx as fd\n",
    "\n",
    "import os\n",
    "import glob\n",
    "\n",
    "import collections"
   ]
  },
  {
   "cell_type": "code",
   "execution_count": 2,
   "id": "bff9fd5b-79bc-4add-9661-ee5cc96943c8",
   "metadata": {
    "tags": []
   },
   "outputs": [],
   "source": [
    "def get_disco_bands(directory):\n",
    "    all_exposures = []\n",
    "    all_bands = []\n",
    "    \n",
    "    subfolders = [f.path for f in os.scandir(directory) if f.is_dir() and len(glob.glob(f'{f.path}/*.pkl')) > 0]\n",
    "    for subfolder in subfolders:\n",
    "        all_exposures.append(float(subfolder.split('_')[-1][:-2]))\n",
    "    \n",
    "        disco_sigs = pkl.load(open(f'{subfolder}/disco_sigs_0.pkl', 'rb'))\n",
    "        intervals = fd.IntervalCalculator(signal_source_names=['WIMP'],\n",
    "                                          stat_dists=disco_sigs)\n",
    "\n",
    "        bands, mus = intervals.get_bands_discovery()\n",
    "        all_bands.append(bands['WIMP'][mus['WIMP'][0]])\n",
    "\n",
    "    return all_exposures, all_bands"
   ]
  },
  {
   "cell_type": "code",
   "execution_count": 3,
   "id": "e8c1ada2-f670-466f-83c3-5521735f4ff3",
   "metadata": {
    "tags": []
   },
   "outputs": [],
   "source": [
    "def get_crossing(x, y, crit_val=5.):\n",
    "    crossing_points = np.argwhere(np.diff(np.sign(y - np.ones_like(y) * crit_val)) > 0.).flatten()\n",
    "    \n",
    "    try:\n",
    "        x_left = x[crossing_points[0]]\n",
    "        x_right = x[crossing_points[0] + 1]\n",
    "        y_left = y[crossing_points[0]]\n",
    "        y_right = y[crossing_points[0] + 1]\n",
    "    except:\n",
    "        return x[-1]\n",
    "    \n",
    "    gradient = (y_right - y_left) / (x_right - x_left)\n",
    "\n",
    "    return (crit_val - y_left) / gradient + x_left"
   ]
  },
  {
   "cell_type": "code",
   "execution_count": 4,
   "id": "ad54ef2d-89c0-4831-b397-d48ed53d526b",
   "metadata": {
    "tags": []
   },
   "outputs": [],
   "source": [
    "files_titles = {'outputs/WIMP_disco/benchmark': 'Benchmark parameters'}"
   ]
  },
  {
   "cell_type": "code",
   "execution_count": 5,
   "id": "7a6e1fd8-8ae1-4fe5-9060-591a9740c4ff",
   "metadata": {
    "tags": []
   },
   "outputs": [],
   "source": [
    "def produce_plot(file, title):\n",
    "    expsoures, bands = get_disco_bands(directory=file)\n",
    "    \n",
    "    plt.figure()\n",
    "    delta = 5\n",
    "\n",
    "    medians = dict()\n",
    "    for exposure, band in zip(expsoures, bands):\n",
    "\n",
    "        plt.plot([exposure-delta, exposure+delta],\n",
    "                 2*[band[0]],\n",
    "                 color='k', linewidth=2)\n",
    "        plt.fill_between([exposure-delta, exposure+delta],\n",
    "                         2*[band[-1]], 2*[band[1]],\n",
    "                         facecolor='#00ff00', alpha=0.5)\n",
    "        plt.fill_between([exposure-delta, exposure+delta],\n",
    "                         2*[band[-2]], 2*[band[2]],\n",
    "                         facecolor='#ffff00', alpha=0.5)\n",
    "\n",
    "        medians[exposure] = band[0]\n",
    "\n",
    "    medians = collections.OrderedDict(sorted(medians.items()))\n",
    "    exposures = list(medians.keys())\n",
    "    meds = list(medians.values())\n",
    "    crossing = get_crossing(exposures, meds)\n",
    "    \n",
    "    plt.hlines(5., np.min(exposures), np.max(exposures), color='darkred', linestyle='--', linewidth=1)\n",
    "    plt.text(np.min(exposures), 5.2, 'Discovery', color='darkred')\n",
    "\n",
    "    plt.xlabel(\"Exposure [ty]\")\n",
    "    plt.ylabel(\"Discovery potential [$\\sigma$]\")\n",
    "    plt.title(f\"{title}: {crossing:.2f} ty\")\n",
    "    plt.xticks(fontsize=12)\n",
    "    plt.yticks(fontsize=12)\n",
    "    ax = plt.gca()\n",
    "    ax.xaxis.get_label().set_fontsize(15)\n",
    "    ax.yaxis.get_label().set_fontsize(15)\n",
    "\n",
    "    plt.ylim (0., 10.)"
   ]
  },
  {
   "cell_type": "code",
   "execution_count": 6,
   "id": "c3aae934-795c-47d1-9f35-e8e851fbbb40",
   "metadata": {
    "tags": []
   },
   "outputs": [
    {
     "data": {
      "image/png": "[encoded data removed]",
      "text/plain": [
       "<Figure size 640x480 with 1 Axes>"
      ]
     },
     "metadata": {},
     "output_type": "display_data"
    }
   ],
   "source": [
    "for file, title in files_titles.items():\n",
    "    produce_plot(file, title)"
   ]
  },
  {
   "cell_type": "code",
   "execution_count": null,
   "id": "5e1824b4-5d8f-471e-9888-a317ed57da0e",
   "metadata": {},
   "outputs": [],
   "source": []
  }
 ],
 "metadata": {
  "kernelspec": {
   "display_name": "flamedisx",
   "language": "python",
   "name": "flamedisx"
  },
  "language_info": {
   "codemirror_mode": {
    "name": "ipython",
    "version": 3
   },
   "file_extension": ".py",
   "mimetype": "text/x-python",
   "name": "python",
   "nbconvert_exporter": "python",
   "pygments_lexer": "ipython3",
   "version": "3.11.11"
  }
 },
 "nbformat": 4,
 "nbformat_minor": 5
}
