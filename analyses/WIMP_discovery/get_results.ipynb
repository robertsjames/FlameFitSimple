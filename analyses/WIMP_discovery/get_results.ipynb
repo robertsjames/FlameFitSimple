{
 "cells": [
  {
   "cell_type": "code",
   "execution_count": 1,
   "id": "3742d92d-19ac-496f-8758-9348ca2bcb13",
   "metadata": {
    "tags": []
   },
   "outputs": [
    {
     "name": "stderr",
     "output_type": "stream",
     "text": [
      "2025-07-18 04:45:49.548162: E external/local_xla/xla/stream_executor/cuda/cuda_fft.cc:467] Unable to register cuFFT factory: Attempting to register factory for plugin cuFFT when one has already been registered\n",
      "WARNING: All log messages before absl::InitializeLog() is called are written to STDERR\n",
      "E0000 00:00:1752839149.574215 1676441 cuda_dnn.cc:8579] Unable to register cuDNN factory: Attempting to register factory for plugin cuDNN when one has already been registered\n",
      "E0000 00:00:1752839149.581714 1676441 cuda_blas.cc:1407] Unable to register cuBLAS factory: Attempting to register factory for plugin cuBLAS when one has already been registered\n",
      "W0000 00:00:1752839149.624039 1676441 computation_placer.cc:177] computation placer already registered. Please check linkage and avoid linking the same target more than once.\n",
      "W0000 00:00:1752839149.624071 1676441 computation_placer.cc:177] computation placer already registered. Please check linkage and avoid linking the same target more than once.\n",
      "W0000 00:00:1752839149.624075 1676441 computation_placer.cc:177] computation placer already registered. Please check linkage and avoid linking the same target more than once.\n",
      "W0000 00:00:1752839149.624078 1676441 computation_placer.cc:177] computation placer already registered. Please check linkage and avoid linking the same target more than once.\n",
      "2025-07-18 04:45:49.633547: I tensorflow/core/platform/cpu_feature_guard.cc:210] This TensorFlow binary is optimized to use available CPU instructions in performance-critical operations.\n",
      "To enable the following instructions: AVX2 FMA, in other operations, rebuild TensorFlow with the appropriate compiler flags.\n",
      "/global/cfs/cdirs/lz/users/rory_m/.conda/envs/flamedisx/lib/python3.11/site-packages/tqdm/auto.py:21: TqdmWarning: IProgress not found. Please update jupyter and ipywidgets. See https://ipywidgets.readthedocs.io/en/stable/user_install.html\n",
      "  from .autonotebook import tqdm as notebook_tqdm\n",
      "/global/cfs/cdirs/lz/users/rory_m/.conda/envs/flamedisx/lib/python3.11/site-packages/wimprates/__init__.py:6: UserWarning: Default WIMP parameters are changed in accordance with https://arxiv.org/abs/2105.00599 (github.com/JelleAalbers/wimprates/pull/14)\n",
      "  warnings.warn(\n",
      "W0000 00:00:1752839193.185314 1676441 gpu_device.cc:2341] Cannot dlopen some GPU libraries. Please make sure the missing libraries mentioned above are installed properly if you would like to use GPU. Follow the guide at https://www.tensorflow.org/install/gpu for how to download and setup the required libraries for your platform.\n",
      "Skipping registering GPU devices...\n"
     ]
    }
   ],
   "source": [
    "import numpy as np\n",
    "import matplotlib.pyplot as plt\n",
    "\n",
    "import pickle as pkl\n",
    "\n",
    "import flamedisx as fd\n",
    "\n",
    "import os\n",
    "import glob\n",
    "\n",
    "import collections"
   ]
  },
  {
   "cell_type": "code",
   "execution_count": 2,
   "id": "bff9fd5b-79bc-4add-9661-ee5cc96943c8",
   "metadata": {
    "tags": []
   },
   "outputs": [],
   "source": [
    "def get_disco_bands(directory):\n",
    "    all_exposures = []\n",
    "    all_bands = []\n",
    "    \n",
    "    subfolders = [f.path for f in os.scandir(directory) if f.is_dir() and len(glob.glob(f'{f.path}/*.pkl')) > 0]\n",
    "    for subfolder in subfolders:\n",
    "        all_exposures.append(float(subfolder.split('_')[-1][:-2]))\n",
    "    \n",
    "        disco_sigs = pkl.load(open(f'{subfolder}/disco_sigs_0.pkl', 'rb'))\n",
    "        intervals = fd.IntervalCalculator(signal_source_names=['WIMP'],\n",
    "                                          stat_dists=disco_sigs)\n",
    "\n",
    "        bands, mus = intervals.get_bands_discovery()\n",
    "        all_bands.append(bands['WIMP'][mus['WIMP'][0]])\n",
    "\n",
    "    return all_exposures, all_bands"
   ]
  },
  {
   "cell_type": "code",
   "execution_count": 3,
   "id": "e8c1ada2-f670-466f-83c3-5521735f4ff3",
   "metadata": {
    "tags": []
   },
   "outputs": [],
   "source": [
    "def get_crossing(x, y, crit_val=5.):\n",
    "    crossing_points = np.argwhere(np.diff(np.sign(y - np.ones_like(y) * crit_val)) > 0.).flatten()\n",
    "    \n",
    "    try:\n",
    "        x_left = x[crossing_points[0]]\n",
    "        x_right = x[crossing_points[0] + 1]\n",
    "        y_left = y[crossing_points[0]]\n",
    "        y_right = y[crossing_points[0] + 1]\n",
    "    except:\n",
    "        \n",
    "        return x[-1]\n",
    "    \n",
    "    gradient = (y_right - y_left) / (x_right - x_left)\n",
    "\n",
    "\n",
    "    return (crit_val - y_left) / gradient + x_left #re-arranged y-b = m(x-a) or (y-b)/m + a = x"
   ]
  },
  {
   "cell_type": "code",
   "execution_count": 21,
   "id": "ad54ef2d-89c0-4831-b397-d48ed53d526b",
   "metadata": {
    "tags": []
   },
   "outputs": [],
   "source": [
    "files_titles = {'/global/homes/r/rory_m/rory_m/XLZD/FlameFitSimple/analyses/WIMP_discovery/outputs/WIMP_disco_0.1_all_tester/benchmark_0.1_LNGS': 'Benchmark parameters'}"
   ]
  },
  {
   "cell_type": "code",
   "execution_count": 22,
   "id": "7a6e1fd8-8ae1-4fe5-9060-591a9740c4ff",
   "metadata": {
    "tags": []
   },
   "outputs": [],
   "source": [
    "def produce_plot(file, title):\n",
    "    exposures, bands = get_disco_bands(directory=file)\n",
    "    \n",
    "    plt.figure()\n",
    "    delta = 5\n",
    "\n",
    "    medians = dict()\n",
    "    for exposure, band in zip(exposures, bands):\n",
    "\n",
    "        plt.plot([exposure-delta, exposure+delta],\n",
    "                 2*[band[0]],\n",
    "                 color='k', linewidth=2)\n",
    "        plt.fill_between([exposure-delta, exposure+delta],\n",
    "                         2*[band[-1]], 2*[band[1]],\n",
    "                         facecolor='#00ff00', alpha=0.5)\n",
    "        plt.fill_between([exposure-delta, exposure+delta],\n",
    "                         2*[band[-2]], 2*[band[2]],\n",
    "                         facecolor='#ffff00', alpha=0.5)\n",
    "\n",
    "        medians[exposure] = band[0]\n",
    "\n",
    "    medians = collections.OrderedDict(sorted(medians.items()))\n",
    "    exposures = list(medians.keys())\n",
    "    meds = list(medians.values())\n",
    "    crossing = get_crossing(exposures, meds)\n",
    "    \n",
    "    plt.hlines(5., np.min(exposures), np.max(exposures), color='darkred', linestyle='--', linewidth=1)\n",
    "    plt.text(np.min(exposures), 5.2, 'Discovery', color='darkred')\n",
    "\n",
    "    plt.xlabel(\"Exposure [ty]\")\n",
    "    plt.ylabel(\"Discovery potential [$\\sigma$]\")\n",
    "    plt.title(f\"{title}: {crossing:.2f} ty\")\n",
    "    plt.xticks(fontsize=12)\n",
    "    plt.yticks(fontsize=12)\n",
    "    plt.ylim(0,10)\n",
    "    ax = plt.gca()\n",
    "    ax.xaxis.get_label().set_fontsize(15)\n",
    "    ax.yaxis.get_label().set_fontsize(15)\n",
    "\n",
    "    #plt.ylim (0., 10.)"
   ]
  },
  {
   "cell_type": "code",
   "execution_count": 23,
   "id": "c3aae934-795c-47d1-9f35-e8e851fbbb40",
   "metadata": {
    "tags": []
   },
   "outputs": [
    {
     "data": {
      "image/png": "[encoded data removed]",
      "text/plain": [
       "<Figure size 640x480 with 1 Axes>"
      ]
     },
     "metadata": {},
     "output_type": "display_data"
    }
   ],
   "source": [
    "for file, title in files_titles.items():\n",
    "    produce_plot(file, title)"
   ]
  },
  {
   "cell_type": "markdown",
   "id": "f3805e0b",
   "metadata": {},
   "source": [
    "## Obtaining error bars\n",
    "Using the bootstrap method. Note, this only works when we have exposures very close together and with jumps in there variation (i.e. like seen [here](https://docs.google.com/presentation/d/18RPyFE89ghDNJHqrGblvD8VyR5j_uLPfgXyuzuR0P2c/edit?slide=id.g366bd46f492_0_10#slide=id.g366bd46f492_0_10))"
   ]
  },
  {
   "cell_type": "code",
   "execution_count": 24,
   "id": "5e1824b4-5d8f-471e-9888-a317ed57da0e",
   "metadata": {},
   "outputs": [],
   "source": [
    "def bootstrap_1_sigma_upper(arr, percentile=85, cl=68, N=1000):\n",
    "\n",
    "    per = np.percentile(arr, percentile) \n",
    "\n",
    "    pers = [np.percentile(np.random.choice(arr, size=len(arr)), percentile) for _ in range(N)]\n",
    "    pers = np.array(pers)\n",
    "\n",
    "    perd = np.percentile(pers, 0.5*(100-cl))\n",
    "    peru = np.percentile(pers, 100-0.5*(100-cl))\n",
    "    \n",
    "    return per, perd, peru"
   ]
  },
  {
   "cell_type": "code",
   "execution_count": 25,
   "id": "d89c0846",
   "metadata": {},
   "outputs": [],
   "source": [
    "def bootstrap_1_sigma_lower(arr, percentile=15, cl=68, N=1000):\n",
    "\n",
    "    per = np.percentile(arr, percentile) \n",
    "\n",
    "    pers = [np.percentile(np.random.choice(arr, size=len(arr)), percentile) for _ in range(N)]\n",
    "    pers = np.array(pers)\n",
    "\n",
    "    perd = np.percentile(pers, 0.5*(100-cl))\n",
    "    peru = np.percentile(pers, 100-0.5*(100-cl))\n",
    "    \n",
    "    return per, perd, peru"
   ]
  },
  {
   "cell_type": "code",
   "execution_count": 26,
   "id": "87ee0f61",
   "metadata": {},
   "outputs": [
    {
     "name": "stdout",
     "output_type": "stream",
     "text": [
      "[550.0, 650.0, 600.0]\n",
      "[{0: np.float64(5.317644555166982), 1: np.float64(6.4046133223704516), -1: np.float64(4.237275433033612), 2: np.float64(7.507548284893011), -2: np.float64(3.133398552044791)}, {0: np.float64(5.729583277620771), 1: np.float64(6.820169067070623), -1: np.float64(4.627533090103192), 2: np.float64(7.890001625958966), -2: np.float64(3.4831190314622873)}, {0: np.float64(5.515956954565805), 1: np.float64(6.577661058461435), -1: np.float64(4.436386469110858), 2: np.float64(7.646531206882517), -2: np.float64(3.323044160491722)}]\n"
     ]
    }
   ],
   "source": [
    "for file, title in files_titles.items():\n",
    "    exposures, bands = get_disco_bands(file)\n",
    "    \n",
    "    print(exposures)\n",
    "    print(bands)\n",
    "   \n",
    "    medians = dict()\n",
    "    upper_lims = dict()\n",
    "    lower_lims = dict ()\n",
    "\n",
    "    for exposure, band in zip(exposures, bands):\n",
    "\n",
    "        medians[exposure] = band[0]             #obtains the median\n",
    "        upper_lims[exposure] = band[1]          #Obtains the upper limit\n",
    "        lower_lims[exposure] = band[-1]         #Obtains the lower limit\n",
    "\n",
    "    medians = collections.OrderedDict(sorted(medians.items()))\n",
    "    upper_lims = collections.OrderedDict(sorted(upper_lims.items()))\n",
    "    lower_lims = collections.OrderedDict(sorted(lower_lims.items()))\n",
    "\n",
    "    upper_limits = list(upper_lims.values())\n",
    "    lower_limits = list(lower_lims.values())\n",
    "\n",
    "    exposures = list(medians.keys())\n",
    "    meds = list(medians.values())\n",
    "    crossing = get_crossing(exposures, meds)"
   ]
  },
  {
   "cell_type": "code",
   "execution_count": 27,
   "id": "42b94c5b",
   "metadata": {},
   "outputs": [
    {
     "name": "stdout",
     "output_type": "stream",
     "text": [
      "[np.float64(5.317644555166982), np.float64(5.515956954565805), np.float64(5.729583277620771)]\n",
      "[np.float64(6.4046133223704516), np.float64(6.577661058461435), np.float64(6.820169067070623)]\n",
      "[np.float64(4.237275433033612), np.float64(4.436386469110858), np.float64(4.627533090103192)]\n"
     ]
    }
   ],
   "source": [
    "print(meds)\n",
    "print(upper_limits)\n",
    "print(lower_limits)"
   ]
  },
  {
   "cell_type": "code",
   "execution_count": 28,
   "id": "5d5e91e7",
   "metadata": {},
   "outputs": [],
   "source": [
    "med_up, up_top, up_bottom= bootstrap_1_sigma_upper(upper_limits)\n",
    "med_low, low_top, low_bottom = bootstrap_1_sigma_lower(lower_limits)"
   ]
  },
  {
   "cell_type": "code",
   "execution_count": 29,
   "id": "0b48ce1a",
   "metadata": {},
   "outputs": [
    {
     "name": "stdout",
     "output_type": "stream",
     "text": [
      "6.747416664487866 4.297008743856786\n"
     ]
    }
   ],
   "source": [
    "print(med_up, med_low)"
   ]
  },
  {
   "cell_type": "code",
   "execution_count": 30,
   "id": "497f585c",
   "metadata": {},
   "outputs": [],
   "source": [
    "def produce_plot(file, title):\n",
    "    exposures, bands = get_disco_bands(directory=file)\n",
    "    \n",
    "    plt.figure()\n",
    "    delta = 5\n",
    "\n",
    "    medians = dict()\n",
    "    for exposure, band in zip(exposures, bands):\n",
    "\n",
    "        plt.plot([exposure-delta, exposure+delta],\n",
    "                 2*[band[0]],\n",
    "                 color='k', linewidth=2)\n",
    "        plt.fill_between([exposure-delta, exposure+delta],\n",
    "                         2*[band[-1]], 2*[band[1]],\n",
    "                         facecolor='#00ff00', alpha=0.5)\n",
    "        plt.fill_between([exposure-delta, exposure+delta],\n",
    "                         2*[band[-2]], 2*[band[2]],\n",
    "                         facecolor='#ffff00', alpha=0.5)\n",
    "        \n",
    "        plt.fill_between([exposure-delta, exposure+delta],\n",
    "                         med_low, med_up,\n",
    "                         facecolor=\"#008cff\", alpha=0.5)\n",
    "\n",
    "        medians[exposure] = band[0]\n",
    "\n",
    "    medians = collections.OrderedDict(sorted(medians.items()))\n",
    "    exposures = list(medians.keys())\n",
    "    meds = list(medians.values())\n",
    "    crossing = get_crossing(exposures, meds)\n",
    "    \n",
    "    plt.hlines(5., np.min(exposures), np.max(exposures), color='darkred', linestyle='--', linewidth=1)\n",
    "    plt.text(np.min(exposures), 5.2, 'Discovery', color='darkred')\n",
    "\n",
    "    plt.xlabel(\"Exposure [ty]\")\n",
    "    plt.ylabel(\"Discovery potential [$\\sigma$]\")\n",
    "    plt.title(f\"{title}: {crossing:.2f} ty\")\n",
    "    plt.xticks(fontsize=12)\n",
    "    plt.yticks(fontsize=12)\n",
    "    plt.ylim(0,10)\n",
    "    ax = plt.gca()\n",
    "    ax.xaxis.get_label().set_fontsize(15)\n",
    "    ax.yaxis.get_label().set_fontsize(15)\n",
    "\n",
    "    #plt.ylim (0., 10.)"
   ]
  },
  {
   "cell_type": "code",
   "execution_count": 31,
   "id": "f468e755",
   "metadata": {},
   "outputs": [
    {
     "data": {
      "image/png": "[encoded data removed]",
      "text/plain": [
       "<Figure size 640x480 with 1 Axes>"
      ]
     },
     "metadata": {},
     "output_type": "display_data"
    }
   ],
   "source": [
    "for file, title in files_titles.items():\n",
    "    produce_plot(file, title)"
   ]
  }
 ],
 "metadata": {
  "kernelspec": {
   "display_name": "flamedisx",
   "language": "python",
   "name": "python3"
  },
  "language_info": {
   "codemirror_mode": {
    "name": "ipython",
    "version": 3
   },
   "file_extension": ".py",
   "mimetype": "text/x-python",
   "name": "python",
   "nbconvert_exporter": "python",
   "pygments_lexer": "ipython3",
   "version": "3.11.13"
  }
 },
 "nbformat": 4,
 "nbformat_minor": 5
}
