{
 "cells": [
  {
   "cell_type": "code",
   "execution_count": 1,
   "metadata": {
    "tags": []
   },
   "outputs": [
    {
     "name": "stderr",
     "output_type": "stream",
     "text": [
      "/Users/Robert/anaconda3/envs/flamedisx/lib/python3.11/site-packages/tqdm/auto.py:21: TqdmWarning: IProgress not found. Please update jupyter and ipywidgets. See https://ipywidgets.readthedocs.io/en/stable/user_install.html\n",
      "  from .autonotebook import tqdm as notebook_tqdm\n",
      "/Users/Robert/anaconda3/envs/flamedisx/lib/python3.11/site-packages/wimprates/__init__.py:6: UserWarning: Default WIMP parameters are changed in accordance with https://arxiv.org/abs/2105.00599 (github.com/JelleAalbers/wimprates/pull/14)\n",
      "  warnings.warn(\n"
     ]
    }
   ],
   "source": [
    "import numpy as np\n",
    "import matplotlib.pyplot as plt\n",
    "\n",
    "import pickle as pkl\n",
    "\n",
    "import sys\n",
    "sys.path.append('../../../xlzd_reqtask_nufog')\n",
    "from fogtask.fogtask import *"
   ]
  },
  {
   "cell_type": "code",
   "execution_count": 2,
   "metadata": {
    "tags": []
   },
   "outputs": [
    {
     "name": "stderr",
     "output_type": "stream",
     "text": [
      "/Users/Robert/anaconda3/envs/flamedisx/lib/python3.11/site-packages/flamedisx/source.py:271: UserWarning: Defaults for unused settings ignored: {'configuration': '60t'}\n",
      "  warnings.warn(f\"Defaults for unused settings ignored: {unused}\")\n",
      "/Users/Robert/anaconda3/envs/flamedisx/lib/python3.11/site-packages/flamedisx/source.py:271: UserWarning: Defaults for unused settings ignored: {'configuration': '60t'}\n",
      "  warnings.warn(f\"Defaults for unused settings ignored: {unused}\")\n",
      "/Users/Robert/anaconda3/envs/flamedisx/lib/python3.11/site-packages/flamedisx/source.py:271: UserWarning: Defaults for unused settings ignored: {'configuration': '60t'}\n",
      "  warnings.warn(f\"Defaults for unused settings ignored: {unused}\")\n",
      "/Users/Robert/anaconda3/envs/flamedisx/lib/python3.11/site-packages/flamedisx/source.py:271: UserWarning: Defaults for unused settings ignored: {'configuration': '60t'}\n",
      "  warnings.warn(f\"Defaults for unused settings ignored: {unused}\")\n",
      "/Users/Robert/anaconda3/envs/flamedisx/lib/python3.11/site-packages/flamedisx/source.py:271: UserWarning: Defaults for unused settings ignored: {'configuration': '60t'}\n",
      "  warnings.warn(f\"Defaults for unused settings ignored: {unused}\")\n",
      "/Users/Robert/anaconda3/envs/flamedisx/lib/python3.11/site-packages/flamedisx/source.py:271: UserWarning: Defaults for unused settings ignored: {'configuration': '60t'}\n",
      "  warnings.warn(f\"Defaults for unused settings ignored: {unused}\")\n",
      "/Users/Robert/anaconda3/envs/flamedisx/lib/python3.11/site-packages/flamedisx/source.py:271: UserWarning: Defaults for unused settings ignored: {'configuration': '60t'}\n",
      "  warnings.warn(f\"Defaults for unused settings ignored: {unused}\")\n",
      "/Users/Robert/anaconda3/envs/flamedisx/lib/python3.11/site-packages/flamedisx/source.py:271: UserWarning: Defaults for unused settings ignored: {'configuration': '60t'}\n",
      "  warnings.warn(f\"Defaults for unused settings ignored: {unused}\")\n",
      "/Users/Robert/anaconda3/envs/flamedisx/lib/python3.11/site-packages/flamedisx/source.py:271: UserWarning: Defaults for unused settings ignored: {'configuration': '60t'}\n",
      "  warnings.warn(f\"Defaults for unused settings ignored: {unused}\")\n",
      "/Users/Robert/anaconda3/envs/flamedisx/lib/python3.11/site-packages/flamedisx/source.py:271: UserWarning: Defaults for unused settings ignored: {'configuration': '60t'}\n",
      "  warnings.warn(f\"Defaults for unused settings ignored: {unused}\")\n",
      "100%|██████████| 10/10 [03:33<00:00, 21.33s/it]\n"
     ]
    },
    {
     "name": "stdout",
     "output_type": "stream",
     "text": [
      "SolarER: 11.726241042962647\n",
      "Pb214: 1.697441000927925\n",
      "Kr85: 6.982629550926971\n",
      "Xe136: 3.8651144446426393\n",
      "Xe124: 1.1514580659088134\n",
      "CEvNS_solar: 1.181692336355591\n",
      "CEvNS_other_LNGS: 0.04638595805106461\n",
      "neutrons: 0.004638595805106461\n",
      "WIMP: 0.14780235405941397\n",
      "WIMP5000: 4.083001014942072\n"
     ]
    }
   ],
   "source": [
    "generate_all_wimp_templates(nominal_only=True, use_radius=False)"
   ]
  },
  {
   "cell_type": "code",
   "execution_count": null,
   "metadata": {},
   "outputs": [],
   "source": []
  }
 ],
 "metadata": {
  "kernelspec": {
   "display_name": "flamedisx",
   "language": "python",
   "name": "flamedisx"
  },
  "language_info": {
   "codemirror_mode": {
    "name": "ipython",
    "version": 3
   },
   "file_extension": ".py",
   "mimetype": "text/x-python",
   "name": "python",
   "nbconvert_exporter": "python",
   "pygments_lexer": "ipython3",
   "version": "3.11.11"
  }
 },
 "nbformat": 4,
 "nbformat_minor": 4
}
