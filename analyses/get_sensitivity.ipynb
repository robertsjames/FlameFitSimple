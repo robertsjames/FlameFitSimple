{
 "cells": [
  {
   "cell_type": "code",
   "execution_count": null,
   "id": "8c112973",
   "metadata": {
    "tags": []
   },
   "outputs": [],
   "source": [
    "import os\n",
    "\n",
    "import numpy as np\n",
    "import matplotlib.pyplot as plt\n",
    "\n",
    "import pickle as pkl\n",
    "\n",
    "import sys\n",
    "\n",
    "sys.path.append('../helper_classes')\n",
    "from limit_utils import get_sensitivity_bands"
   ]
  },
  {
   "cell_type": "code",
   "execution_count": null,
   "id": "5fe3026e-62c5-49bf-8e3b-a14892692ce0",
   "metadata": {},
   "outputs": [],
   "source": [
    "def get_signal_rates_from_likelihood(likelihood_file, likelihood_module):\n",
    "    likelihood_class = __import__(likelihood_module, globals(), locals(), [])\n",
    "    class_names = [name for name in dir(likelihood_class) if isinstance(getattr(likelihood_class, name), type)]\n",
    "    globals().update({name: getattr(likelihood_class, name) for name in class_names})\n",
    "    \n",
    "    likelihood_container = pkl.load(open(likelihood_file, 'rb'))\n",
    "    signal_expected_mean = likelihood_container.expected_signal_counts\n",
    "    \n",
    "    return signal_expected_mean"
   ]
  },
  {
   "cell_type": "code",
   "execution_count": null,
   "id": "4da6c969-fdcb-48bb-b528-f6f259a5a487",
   "metadata": {
    "tags": []
   },
   "outputs": [],
   "source": [
    "def scaling_fn(mu, mu_ref):\n",
    "    return mu / mu_ref * 1e-45"
   ]
  },
  {
   "cell_type": "code",
   "execution_count": null,
   "id": "b30babda-cd12-432e-8517-75d8549f9c4a",
   "metadata": {},
   "outputs": [],
   "source": [
    "signal_expected_mean = get_signal_rates_from_likelihood('likelihoods/SI_40t_140ty.pkl', 'create_simple_template_likelihood')"
   ]
  },
  {
   "cell_type": "code",
   "execution_count": null,
   "id": "518ae449-7238-43cc-a0b6-0545e6893bfc",
   "metadata": {
    "tags": []
   },
   "outputs": [],
   "source": [
    "masses, bands = get_sensitivity_bands(directory='outputs/SI_40t_140ty',\n",
    "                                      scaling_fn=scaling_fn,\n",
    "                                      signal_name='WIMP',\n",
    "                                      signal_expected_mean=signal_expected_mean,\n",
    "                                      inference_config='wimp_sensitivity/inference_configs/SI_WIMP.ini')"
   ]
  },
  {
   "cell_type": "code",
   "execution_count": null,
   "id": "960f5459-7e0e-418e-b680-65aa22074dcc",
   "metadata": {
    "tags": []
   },
   "outputs": [],
   "source": [
    "fig = plt.figure()\n",
    "ax = fig.gca()\n",
    "\n",
    "plt.plot(masses, bands[0], color='black', lw=2.)\n",
    "plt.fill_between(masses, bands[-1], bands[1], facecolor='#00ff00', lw=0, alpha=0.3)\n",
    "plt.fill_between(masses, bands[-2], bands[2], facecolor='#ffff00', lw=0, alpha=0.3)\n",
    "\n",
    "plt.xticks(fontsize=15)\n",
    "plt.yticks(fontsize=15)\n",
    "\n",
    "xlab = r'WIMP Mass [GeV/c$^2$]'\n",
    "xlim = (8, 10000)\n",
    "\n",
    "ylab = r'WIMP-nucleon $\\sigma_{\\rm SI}$ [cm$^2$]'\n",
    "ylim = (5e-50, 1e-46)\n",
    "\n",
    "ax.set_xlabel(xlab, fontsize=15)\n",
    "ax.set_xlim(xlim)\n",
    "\n",
    "ax.set_ylabel(ylab, fontsize=15)\n",
    "ax.set_ylim(ylim)\n",
    "\n",
    "ax.set_yscale('log')\n",
    "ax.set_xscale('log')"
   ]
  },
  {
   "cell_type": "code",
   "execution_count": null,
   "id": "9967e0ab",
   "metadata": {},
   "outputs": [],
   "source": []
  }
 ],
 "metadata": {
  "kernelspec": {
   "display_name": "flamedisx",
   "language": "python",
   "name": "flamedisx"
  },
  "language_info": {
   "codemirror_mode": {
    "name": "ipython",
    "version": 3
   },
   "file_extension": ".py",
   "mimetype": "text/x-python",
   "name": "python",
   "nbconvert_exporter": "python",
   "pygments_lexer": "ipython3",
   "version": "3.11.10"
  }
 },
 "nbformat": 4,
 "nbformat_minor": 5
}
