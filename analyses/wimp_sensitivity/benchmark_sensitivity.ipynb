{
 "cells": [
  {
   "cell_type": "code",
   "execution_count": 1,
   "id": "8c112973",
   "metadata": {
    "tags": []
   },
   "outputs": [
    {
     "name": "stderr",
     "output_type": "stream",
     "text": [
      "2025-05-29 11:01:15.210164: E external/local_xla/xla/stream_executor/cuda/cuda_fft.cc:467] Unable to register cuFFT factory: Attempting to register factory for plugin cuFFT when one has already been registered\n",
      "WARNING: All log messages before absl::InitializeLog() is called are written to STDERR\n",
      "E0000 00:00:1748541675.226354 1826645 cuda_dnn.cc:8579] Unable to register cuDNN factory: Attempting to register factory for plugin cuDNN when one has already been registered\n",
      "E0000 00:00:1748541675.231371 1826645 cuda_blas.cc:1407] Unable to register cuBLAS factory: Attempting to register factory for plugin cuBLAS when one has already been registered\n",
      "W0000 00:00:1748541675.246586 1826645 computation_placer.cc:177] computation placer already registered. Please check linkage and avoid linking the same target more than once.\n",
      "W0000 00:00:1748541675.246600 1826645 computation_placer.cc:177] computation placer already registered. Please check linkage and avoid linking the same target more than once.\n",
      "W0000 00:00:1748541675.246602 1826645 computation_placer.cc:177] computation placer already registered. Please check linkage and avoid linking the same target more than once.\n",
      "W0000 00:00:1748541675.246604 1826645 computation_placer.cc:177] computation placer already registered. Please check linkage and avoid linking the same target more than once.\n",
      "2025-05-29 11:01:15.252892: I tensorflow/core/platform/cpu_feature_guard.cc:210] This TensorFlow binary is optimized to use available CPU instructions in performance-critical operations.\n",
      "To enable the following instructions: AVX2 FMA, in other operations, rebuild TensorFlow with the appropriate compiler flags.\n",
      "/global/homes/r/rory_m/.conda/envs/flamedisx/lib/python3.11/site-packages/tqdm/auto.py:21: TqdmWarning: IProgress not found. Please update jupyter and ipywidgets. See https://ipywidgets.readthedocs.io/en/stable/user_install.html\n",
      "  from .autonotebook import tqdm as notebook_tqdm\n",
      "/global/homes/r/rory_m/.conda/envs/flamedisx/lib/python3.11/site-packages/wimprates/__init__.py:6: UserWarning: Default WIMP parameters are changed in accordance with https://arxiv.org/abs/2105.00599 (github.com/JelleAalbers/wimprates/pull/14)\n",
      "  warnings.warn(\n",
      "W0000 00:00:1748541679.911721 1826645 gpu_device.cc:2341] Cannot dlopen some GPU libraries. Please make sure the missing libraries mentioned above are installed properly if you would like to use GPU. Follow the guide at https://www.tensorflow.org/install/gpu for how to download and setup the required libraries for your platform.\n",
      "Skipping registering GPU devices...\n"
     ]
    }
   ],
   "source": [
    "import os\n",
    "\n",
    "import numpy as np\n",
    "import matplotlib.pyplot as plt\n",
    "\n",
    "import pickle as pkl\n",
    "\n",
    "import sys\n",
    "\n",
    "sys.path.append('../../helper_classes')\n",
    "from limit_utils import get_sensitivity_bands"
   ]
  },
  {
   "cell_type": "code",
   "execution_count": 2,
   "id": "5fe3026e-62c5-49bf-8e3b-a14892692ce0",
   "metadata": {},
   "outputs": [],
   "source": [
    "def get_signal_rates_from_likelihood(likelihood_file):\n",
    "    sys.path.append('..')\n",
    "    likelihood_class = __import__('create_simple_template_likelihood', globals(), locals(), [])\n",
    "    class_names = [name for name in dir(likelihood_class) if isinstance(getattr(likelihood_class, name), type)]\n",
    "    globals().update({name: getattr(likelihood_class, name) for name in class_names})\n",
    "    \n",
    "    likelihood_container = pkl.load(open(likelihood_file, 'rb'))\n",
    "    signal_expected_mean = likelihood_container.expected_signal_counts\n",
    "    \n",
    "    return signal_expected_mean"
   ]
  },
  {
   "cell_type": "code",
   "execution_count": 3,
   "id": "4da6c969-fdcb-48bb-b528-f6f259a5a487",
   "metadata": {
    "tags": []
   },
   "outputs": [],
   "source": [
    "def scaling_fn(mu, mu_ref):\n",
    "    return mu / mu_ref * 1e-45"
   ]
  },
  {
   "cell_type": "code",
   "execution_count": 4,
   "id": "b30babda-cd12-432e-8517-75d8549f9c4a",
   "metadata": {},
   "outputs": [],
   "source": [
    "signal_expected_mean = get_signal_rates_from_likelihood('../wimp_sensitivity/likelihoods/SI_60t_benchmark_0.1.pkl')"
   ]
  },
  {
   "cell_type": "code",
   "execution_count": 5,
   "id": "518ae449-7238-43cc-a0b6-0545e6893bfc",
   "metadata": {
    "tags": []
   },
   "outputs": [
    {
     "name": "stdout",
     "output_type": "stream",
     "text": [
      "Found 86 failed toy for WIMP10; removing...\n",
      "Found 221 failed toy for WIMP60; removing...\n",
      "Found 299 failed toy for WIMP1000; removing...\n"
     ]
    }
   ],
   "source": [
    "masses, bands = get_sensitivity_bands(directory='../wimp_sensitivity/outputs/SI_60t_benchmark_0.1',\n",
    "                                      scaling_fn=scaling_fn,\n",
    "                                      signal_name='WIMP',\n",
    "                                      signal_expected_mean=signal_expected_mean,\n",
    "                                      inference_config='../wimp_sensitivity/inference_configs/SI_WIMP_benchmark.ini')"
   ]
  },
  {
   "cell_type": "code",
   "execution_count": 6,
   "id": "dc554f87-06bf-45f4-8a53-9b57f4a070fd",
   "metadata": {},
   "outputs": [
    {
     "data": {
      "image/png": "[encoded data removed]",
      "text/plain": [
       "<Figure size 640x480 with 1 Axes>"
      ]
     },
     "metadata": {},
     "output_type": "display_data"
    }
   ],
   "source": [
    "fig = plt.figure()\n",
    "ax = fig.gca()\n",
    "delta = 0.05\n",
    "\n",
    "ticks_plot = {0.2: 0,\n",
    "              0.5: 1,\n",
    "              0.78: 2}\n",
    "for tick, i in ticks_plot.items():\n",
    "\n",
    "    plt.plot([tick-delta, tick+delta],\n",
    "             2*[bands[0][i]],\n",
    "             color='k', linewidth=2)\n",
    "    plt.fill_between([tick-delta, tick+delta],\n",
    "                     2*[bands[-1][i]], 2*[bands[1][i]],\n",
    "                     facecolor='#00ff00', alpha=0.5)\n",
    "    plt.fill_between([tick-delta, tick+delta],\n",
    "                     2*[bands[-2][i]], 2*[bands[2][i]],\n",
    "                     facecolor='#ffff00', alpha=0.5)\n",
    "\n",
    "xlab = r'WIMP Mass [GeV/c$^2$]'\n",
    "ax.set_xlabel(xlab, fontsize=15)\n",
    "plt.xticks([0.2, 0.5, 0.8], labels=[9, 65, 5000])\n",
    "\n",
    "ylab = r'WIMP-nucleon $\\sigma_{\\rm SI}$ [cm$^2$]'\n",
    "ylim = (5e-50, 1e-46)\n",
    "ax.set_ylabel(ylab, fontsize=15)\n",
    "ax.set_ylim(ylim)\n",
    "\n",
    "ax.set_yscale('log')"
   ]
  },
  {
   "cell_type": "code",
   "execution_count": null,
   "id": "9967e0ab",
   "metadata": {},
   "outputs": [],
   "source": []
  }
 ],
 "metadata": {
  "kernelspec": {
   "display_name": "flamedisx",
   "language": "python",
   "name": "python3"
  },
  "language_info": {
   "codemirror_mode": {
    "name": "ipython",
    "version": 3
   },
   "file_extension": ".py",
   "mimetype": "text/x-python",
   "name": "python",
   "nbconvert_exporter": "python",
   "pygments_lexer": "ipython3",
   "version": "3.11.12"
  }
 },
 "nbformat": 4,
 "nbformat_minor": 5
}
