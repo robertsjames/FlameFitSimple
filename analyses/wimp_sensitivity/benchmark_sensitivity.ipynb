{
 "cells": [
  {
   "cell_type": "code",
   "execution_count": 1,
   "id": "8c112973",
   "metadata": {
    "tags": []
   },
   "outputs": [
    {
     "name": "stderr",
     "output_type": "stream",
     "text": [
      "2025-06-03 07:52:06.244106: E external/local_xla/xla/stream_executor/cuda/cuda_fft.cc:467] Unable to register cuFFT factory: Attempting to register factory for plugin cuFFT when one has already been registered\n",
      "WARNING: All log messages before absl::InitializeLog() is called are written to STDERR\n",
      "E0000 00:00:1748962326.264416  409532 cuda_dnn.cc:8579] Unable to register cuDNN factory: Attempting to register factory for plugin cuDNN when one has already been registered\n",
      "E0000 00:00:1748962326.270679  409532 cuda_blas.cc:1407] Unable to register cuBLAS factory: Attempting to register factory for plugin cuBLAS when one has already been registered\n",
      "W0000 00:00:1748962326.289426  409532 computation_placer.cc:177] computation placer already registered. Please check linkage and avoid linking the same target more than once.\n",
      "W0000 00:00:1748962326.289445  409532 computation_placer.cc:177] computation placer already registered. Please check linkage and avoid linking the same target more than once.\n",
      "W0000 00:00:1748962326.289448  409532 computation_placer.cc:177] computation placer already registered. Please check linkage and avoid linking the same target more than once.\n",
      "W0000 00:00:1748962326.289451  409532 computation_placer.cc:177] computation placer already registered. Please check linkage and avoid linking the same target more than once.\n",
      "2025-06-03 07:52:06.296113: I tensorflow/core/platform/cpu_feature_guard.cc:210] This TensorFlow binary is optimized to use available CPU instructions in performance-critical operations.\n",
      "To enable the following instructions: AVX2 FMA, in other operations, rebuild TensorFlow with the appropriate compiler flags.\n",
      "/global/homes/r/rory_m/.conda/envs/flamedisx/lib/python3.11/site-packages/tqdm/auto.py:21: TqdmWarning: IProgress not found. Please update jupyter and ipywidgets. See https://ipywidgets.readthedocs.io/en/stable/user_install.html\n",
      "  from .autonotebook import tqdm as notebook_tqdm\n",
      "/global/homes/r/rory_m/.conda/envs/flamedisx/lib/python3.11/site-packages/wimprates/__init__.py:6: UserWarning: Default WIMP parameters are changed in accordance with https://arxiv.org/abs/2105.00599 (github.com/JelleAalbers/wimprates/pull/14)\n",
      "  warnings.warn(\n",
      "W0000 00:00:1748962347.216712  409532 gpu_device.cc:2341] Cannot dlopen some GPU libraries. Please make sure the missing libraries mentioned above are installed properly if you would like to use GPU. Follow the guide at https://www.tensorflow.org/install/gpu for how to download and setup the required libraries for your platform.\n",
      "Skipping registering GPU devices...\n"
     ]
    }
   ],
   "source": [
    "import os\n",
    "\n",
    "import numpy as np\n",
    "import matplotlib.pyplot as plt\n",
    "\n",
    "import pickle as pkl\n",
    "\n",
    "import sys\n",
    "\n",
    "sys.path.append('../../helper_classes')\n",
    "from limit_utils import get_sensitivity_bands"
   ]
  },
  {
   "cell_type": "code",
   "execution_count": 2,
   "id": "5fe3026e-62c5-49bf-8e3b-a14892692ce0",
   "metadata": {},
   "outputs": [],
   "source": [
    "def get_signal_rates_from_likelihood(likelihood_file):\n",
    "    sys.path.append('..')\n",
    "    likelihood_class = __import__('create_simple_template_likelihood', globals(), locals(), [])\n",
    "    class_names = [name for name in dir(likelihood_class) if isinstance(getattr(likelihood_class, name), type)]\n",
    "    globals().update({name: getattr(likelihood_class, name) for name in class_names})\n",
    "    \n",
    "    likelihood_container = pkl.load(open(likelihood_file, 'rb'))\n",
    "    signal_expected_mean = likelihood_container.expected_signal_counts\n",
    "    \n",
    "    return signal_expected_mean"
   ]
  },
  {
   "cell_type": "code",
   "execution_count": 3,
   "id": "4da6c969-fdcb-48bb-b528-f6f259a5a487",
   "metadata": {
    "tags": []
   },
   "outputs": [],
   "source": [
    "def scaling_fn(mu, mu_ref):\n",
    "    return mu / mu_ref * 1e-45"
   ]
  },
  {
   "cell_type": "code",
   "execution_count": 4,
   "id": "dc554f87-06bf-45f4-8a53-9b57f4a070fd",
   "metadata": {},
   "outputs": [
    {
     "name": "stdout",
     "output_type": "stream",
     "text": [
      "Found 99 failed toy for WIMP10; removing...\n",
      "Found 206 failed toy for WIMP60; removing...\n",
      "Found 278 failed toy for WIMP1000; removing...\n"
     ]
    },
    {
     "data": {
      "image/png": "[encoded data removed]",
      "text/plain": [
       "<Figure size 640x480 with 1 Axes>"
      ]
     },
     "metadata": {},
     "output_type": "display_data"
    }
   ],
   "source": [
    "param = 'SI_60t_benchmark_0.0079'\n",
    "param_title = 'Pb-214_0.0079'\n",
    "signal_expected_mean = get_signal_rates_from_likelihood(f'../wimp_sensitivity/likelihoods/{param}.pkl')\n",
    "\n",
    "masses, bands = get_sensitivity_bands(directory=f'../wimp_sensitivity/outputs/{param}',\n",
    "                                      scaling_fn=scaling_fn,\n",
    "                                      signal_name='WIMP',\n",
    "                                      signal_expected_mean=signal_expected_mean,\n",
    "                                      inference_config='../wimp_sensitivity/inference_configs/SI_WIMP_benchmark.ini')\n",
    "\n",
    "fig = plt.figure()\n",
    "ax = fig.gca()\n",
    "delta = 0.05\n",
    "\n",
    "ticks_plot = {0.2: 0,\n",
    "              0.5: 1,\n",
    "              0.78: 2}\n",
    "for tick, i in ticks_plot.items():\n",
    "\n",
    "    plt.plot([tick-delta, tick+delta],\n",
    "             2*[bands[0][i]],\n",
    "             color='k', linewidth=2)\n",
    "    plt.fill_between([tick-delta, tick+delta],\n",
    "                     2*[bands[-1][i]], 2*[bands[1][i]],\n",
    "                     facecolor='#00ff00', alpha=0.5)\n",
    "    plt.fill_between([tick-delta, tick+delta],\n",
    "                     2*[bands[-2][i]], 2*[bands[2][i]],\n",
    "                     facecolor='#ffff00', alpha=0.5)\n",
    "    plt.text(tick - 0.05, bands[0][i] * 2.5, \"{:.3E}\".format(bands[0][i]))\n",
    "\n",
    "plt.text(0.12, 5e-47, param_title, fontsize=15)\n",
    "\n",
    "    \n",
    "\n",
    "xlab = r'WIMP Mass [GeV/c$^2$]'\n",
    "ax.set_xlabel(xlab, fontsize=15)\n",
    "plt.xticks([0.2, 0.5, 0.8], labels=[10, 60, 1000])\n",
    "\n",
    "ylab = r'WIMP-nucleon $\\sigma_{\\rm SI}$ [cm$^2$]'\n",
    "ylim = (5e-50, 1e-46)\n",
    "ax.set_ylabel(ylab, fontsize=15)\n",
    "ax.set_ylim(ylim)\n",
    "\n",
    "ax.set_yscale('log')"
   ]
  },
  {
   "cell_type": "code",
   "execution_count": 5,
   "id": "7a829bc4",
   "metadata": {},
   "outputs": [
    {
     "name": "stdout",
     "output_type": "stream",
     "text": [
      "{0: [np.float64(1.5335043863041408e-48), np.float64(1.5034953749078683e-49), np.float64(1.8496141895252702e-48)], -1: [np.float64(8.421636247939598e-49), np.float64(9.216254620452704e-50), np.float64(1.1932422721070586e-48)], 1: [np.float64(2.528331297890506e-48), np.float64(2.289536949846321e-49), np.float64(2.7323189656247863e-48)], -2: [np.float64(5.80897338600847e-49), np.float64(6.45676845422504e-50), np.float64(8.465731619572051e-49)], 2: [np.float64(3.113741461688099e-48), np.float64(2.7543005860924593e-49), np.float64(3.165642255941825e-48)]}\n"
     ]
    }
   ],
   "source": [
    "print(bands)"
   ]
  },
  {
   "cell_type": "code",
   "execution_count": 6,
   "id": "cc39a267",
   "metadata": {},
   "outputs": [
    {
     "name": "stdout",
     "output_type": "stream",
     "text": [
      "8.421636247939598e-49 2.528331297890506e-48 1 sig\n",
      "5.80897338600847e-49 3.113741461688099e-48 2 sig\n"
     ]
    }
   ],
   "source": [
    "print(bands[-1][0],bands[1][0], '1 sig')\n",
    "\n",
    "print(bands[-2][0], bands[2][0], '2 sig')"
   ]
  },
  {
   "cell_type": "markdown",
   "id": "db372732",
   "metadata": {},
   "source": [
    "'bands[0]' are the medians. 'bands[1&-1]' are our quartiles."
   ]
  },
  {
   "cell_type": "markdown",
   "id": "3ce23fcc",
   "metadata": {},
   "source": [
    "The code below saves the sensitivities into a .txt file for each WIMP mass. Everytime you run it, it adds a new row to each file."
   ]
  },
  {
   "cell_type": "code",
   "execution_count": 7,
   "id": "c2e68a13",
   "metadata": {},
   "outputs": [],
   "source": [
    "# Text file names per band key\n",
    "band_names = {\n",
    "    0: \"sensitivity\",\n",
    "    -1: \"1_sigma_lower\",\n",
    "    1: \"1_sigma_upper\",\n",
    "    -2: \"2_sigma_lower\",\n",
    "    2: \"2_sigma_upper\"\n",
    "}\n",
    "\n",
    "column_headers = [\"10 GeV\", \"60 GeV\", \"1000 GeV\"]\n",
    "\n",
    "#Making the subfolders for each backgroun level\n",
    "\n",
    "counts = 0.0079\n",
    "main_folder = \"sen_outputs\"\n",
    "parent_folder = os.path.join(main_folder, f\"sen_bands_{counts}\")\n",
    "sub_folder = os.path.join(parent_folder, \"band_outputs\")\n",
    "\n",
    "os.makedirs(sub_folder, exist_ok=True)\n",
    "\n",
    "# Save each band's values to its own file\n",
    "for band_key, values in bands.items():\n",
    "    title = band_names.get(band_key, \"\")\n",
    "    filename = f\"{title}.txt\"\n",
    "    filepath = os.path.join(sub_folder, filename)\n",
    "    file_exists = os.path.isfile(filepath)\n",
    "\n",
    "    with open(filepath, \"a\") as file:\n",
    "        # Write header if file is new\n",
    "        if not file_exists:\n",
    "            file.write(\"\\t\".join(column_headers) + \"\\n\")\n",
    "        # Write the data row\n",
    "        file.write(\"\\t\".join(f\"{v:.18e}\" for v in values) + \"\\n\")"
   ]
  }
 ],
 "metadata": {
  "kernelspec": {
   "display_name": "flamedisx",
   "language": "python",
   "name": "python3"
  },
  "language_info": {
   "codemirror_mode": {
    "name": "ipython",
    "version": 3
   },
   "file_extension": ".py",
   "mimetype": "text/x-python",
   "name": "python",
   "nbconvert_exporter": "python",
   "pygments_lexer": "ipython3",
   "version": "3.11.12"
  }
 },
 "nbformat": 4,
 "nbformat_minor": 5
}
