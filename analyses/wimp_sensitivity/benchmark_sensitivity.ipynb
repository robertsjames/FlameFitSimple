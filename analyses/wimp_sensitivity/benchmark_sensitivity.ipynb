{
 "cells": [
  {
   "cell_type": "code",
   "execution_count": 1,
   "id": "8c112973",
   "metadata": {
    "tags": []
   },
   "outputs": [
    {
     "name": "stderr",
     "output_type": "stream",
     "text": [
      "2025-05-30 02:16:23.220872: E external/local_xla/xla/stream_executor/cuda/cuda_fft.cc:467] Unable to register cuFFT factory: Attempting to register factory for plugin cuFFT when one has already been registered\n",
      "WARNING: All log messages before absl::InitializeLog() is called are written to STDERR\n",
      "E0000 00:00:1748596583.237969  494695 cuda_dnn.cc:8579] Unable to register cuDNN factory: Attempting to register factory for plugin cuDNN when one has already been registered\n",
      "E0000 00:00:1748596583.243240  494695 cuda_blas.cc:1407] Unable to register cuBLAS factory: Attempting to register factory for plugin cuBLAS when one has already been registered\n",
      "W0000 00:00:1748596583.259187  494695 computation_placer.cc:177] computation placer already registered. Please check linkage and avoid linking the same target more than once.\n",
      "W0000 00:00:1748596583.259202  494695 computation_placer.cc:177] computation placer already registered. Please check linkage and avoid linking the same target more than once.\n",
      "W0000 00:00:1748596583.259204  494695 computation_placer.cc:177] computation placer already registered. Please check linkage and avoid linking the same target more than once.\n",
      "W0000 00:00:1748596583.259206  494695 computation_placer.cc:177] computation placer already registered. Please check linkage and avoid linking the same target more than once.\n",
      "2025-05-30 02:16:23.264412: I tensorflow/core/platform/cpu_feature_guard.cc:210] This TensorFlow binary is optimized to use available CPU instructions in performance-critical operations.\n",
      "To enable the following instructions: AVX2 FMA, in other operations, rebuild TensorFlow with the appropriate compiler flags.\n",
      "/global/homes/r/rory_m/.conda/envs/flamedisx/lib/python3.11/site-packages/tqdm/auto.py:21: TqdmWarning: IProgress not found. Please update jupyter and ipywidgets. See https://ipywidgets.readthedocs.io/en/stable/user_install.html\n",
      "  from .autonotebook import tqdm as notebook_tqdm\n",
      "/global/homes/r/rory_m/.conda/envs/flamedisx/lib/python3.11/site-packages/wimprates/__init__.py:6: UserWarning: Default WIMP parameters are changed in accordance with https://arxiv.org/abs/2105.00599 (github.com/JelleAalbers/wimprates/pull/14)\n",
      "  warnings.warn(\n",
      "W0000 00:00:1748596587.590499  494695 gpu_device.cc:2341] Cannot dlopen some GPU libraries. Please make sure the missing libraries mentioned above are installed properly if you would like to use GPU. Follow the guide at https://www.tensorflow.org/install/gpu for how to download and setup the required libraries for your platform.\n",
      "Skipping registering GPU devices...\n"
     ]
    }
   ],
   "source": [
    "import os\n",
    "\n",
    "import numpy as np\n",
    "import matplotlib.pyplot as plt\n",
    "\n",
    "import pickle as pkl\n",
    "\n",
    "import sys\n",
    "\n",
    "sys.path.append('../../helper_classes')\n",
    "from limit_utils import get_sensitivity_bands"
   ]
  },
  {
   "cell_type": "code",
   "execution_count": 2,
   "id": "5fe3026e-62c5-49bf-8e3b-a14892692ce0",
   "metadata": {},
   "outputs": [],
   "source": [
    "def get_signal_rates_from_likelihood(likelihood_file):\n",
    "    sys.path.append('..')\n",
    "    likelihood_class = __import__('create_simple_template_likelihood', globals(), locals(), [])\n",
    "    class_names = [name for name in dir(likelihood_class) if isinstance(getattr(likelihood_class, name), type)]\n",
    "    globals().update({name: getattr(likelihood_class, name) for name in class_names})\n",
    "    \n",
    "    likelihood_container = pkl.load(open(likelihood_file, 'rb'))\n",
    "    signal_expected_mean = likelihood_container.expected_signal_counts\n",
    "    \n",
    "    return signal_expected_mean"
   ]
  },
  {
   "cell_type": "code",
   "execution_count": 3,
   "id": "4da6c969-fdcb-48bb-b528-f6f259a5a487",
   "metadata": {
    "tags": []
   },
   "outputs": [],
   "source": [
    "def scaling_fn(mu, mu_ref):\n",
    "    return mu / mu_ref * 1e-45"
   ]
  },
  {
   "cell_type": "code",
   "execution_count": 4,
   "id": "b30babda-cd12-432e-8517-75d8549f9c4a",
   "metadata": {},
   "outputs": [],
   "source": [
    "signal_expected_mean = get_signal_rates_from_likelihood('../wimp_sensitivity/likelihoods/SI_60t_benchmark_0.61.pkl')"
   ]
  },
  {
   "cell_type": "code",
   "execution_count": 5,
   "id": "518ae449-7238-43cc-a0b6-0545e6893bfc",
   "metadata": {
    "tags": []
   },
   "outputs": [
    {
     "name": "stdout",
     "output_type": "stream",
     "text": [
      "Found 110 failed toy for WIMP10; removing...\n",
      "Found 257 failed toy for WIMP60; removing...\n",
      "Found 331 failed toy for WIMP1000; removing...\n"
     ]
    }
   ],
   "source": [
    "masses, bands = get_sensitivity_bands(directory='../wimp_sensitivity/outputs/SI_60t_benchmark_0.61',\n",
    "                                      scaling_fn=scaling_fn,\n",
    "                                      signal_name='WIMP',\n",
    "                                      signal_expected_mean=signal_expected_mean,\n",
    "                                      inference_config='../wimp_sensitivity/inference_configs/SI_WIMP_benchmark.ini')"
   ]
  },
  {
   "cell_type": "code",
   "execution_count": 6,
   "id": "dc554f87-06bf-45f4-8a53-9b57f4a070fd",
   "metadata": {},
   "outputs": [
    {
     "name": "stdout",
     "output_type": "stream",
     "text": [
      "1 sigma band for 0: [np.float64(6.0795877617654235e-49), np.float64(3.12857162428886e-48)]\n",
      "2 sigma band for 0: [np.float64(8.761199847790158e-49), np.float64(2.5066846823630764e-48)]\n",
      "1 sigma band for 1: [np.float64(6.655698850413837e-50), np.float64(2.7512428932830516e-49)]\n",
      "2 sigma band for 1: [np.float64(9.273870606077461e-50), np.float64(2.276449337076889e-49)]\n",
      "1 sigma band for 2: [np.float64(8.377680778168075e-49), np.float64(3.1647446748570675e-48)]\n",
      "2 sigma band for 2: [np.float64(1.1843653374193385e-48), np.float64(2.6994045216319076e-48)]\n"
     ]
    },
    {
     "data": {
      "image/png": "[encoded data removed]",
      "text/plain": [
       "<Figure size 640x480 with 1 Axes>"
      ]
     },
     "metadata": {},
     "output_type": "display_data"
    }
   ],
   "source": [
    "fig = plt.figure()\n",
    "ax = fig.gca()\n",
    "delta = 0.05\n",
    "\n",
    "ticks_plot = {0.2: 0,\n",
    "              0.5: 1,\n",
    "              0.78: 2}\n",
    "for tick, i in ticks_plot.items():\n",
    "\n",
    "    plt.plot([tick-delta, tick+delta],\n",
    "             2*[bands[0][i]],\n",
    "             color='k', linewidth=2)\n",
    "    plt.fill_between([tick-delta, tick+delta],\n",
    "                     2*[bands[-1][i]], 2*[bands[1][i]],\n",
    "                     facecolor='#00ff00', alpha=0.5) #green # 1 sigma\n",
    "\n",
    "    plt.fill_between([tick-delta, tick+delta],\n",
    "                     2*[bands[-2][i]], 2*[bands[2][i]],\n",
    "                     facecolor='#ffff00', alpha=0.5) #yellow # 2 sigma\n",
    "    print(f\"1 sigma band for {i}: {[bands[-2][i], bands[2][i]]}\")\n",
    "    print(f\"2 sigma band for {i}: {[bands[-1][i], bands[1][i]]}\")\n",
    "    \n",
    "\n",
    "xlab = r'WIMP Mass [GeV/c$^2$]'\n",
    "ax.set_xlabel(xlab, fontsize=15)\n",
    "plt.xticks([0.2, 0.5, 0.8], labels=[10, 60, 1000])\n",
    "\n",
    "ylab = r'WIMP-nucleon $\\sigma_{\\rm SI}$ [cm$^2$]'\n",
    "ylim = (5e-50, 1e-46)\n",
    "ax.set_ylabel(ylab, fontsize=15)\n",
    "ax.set_ylim(ylim)\n",
    "\n",
    "ax.set_yscale('log')"
   ]
  },
  {
   "cell_type": "code",
   "execution_count": 7,
   "id": "7a829bc4",
   "metadata": {},
   "outputs": [
    {
     "name": "stdout",
     "output_type": "stream",
     "text": [
      "{0: [np.float64(1.488435950308984e-48), np.float64(1.484214750536932e-49), np.float64(1.8423487039581437e-48)], -1: [np.float64(8.761199847790158e-49), np.float64(9.273870606077461e-50), np.float64(1.1843653374193385e-48)], 1: [np.float64(2.5066846823630764e-48), np.float64(2.276449337076889e-49), np.float64(2.6994045216319076e-48)], -2: [np.float64(6.0795877617654235e-49), np.float64(6.655698850413837e-50), np.float64(8.377680778168075e-49)], 2: [np.float64(3.12857162428886e-48), np.float64(2.7512428932830516e-49), np.float64(3.1647446748570675e-48)]}\n"
     ]
    }
   ],
   "source": [
    "print(bands)"
   ]
  },
  {
   "cell_type": "code",
   "execution_count": 8,
   "id": "cc39a267",
   "metadata": {},
   "outputs": [
    {
     "name": "stdout",
     "output_type": "stream",
     "text": [
      "8.761199847790158e-49 2.5066846823630764e-48 1 sig\n",
      "6.0795877617654235e-49 3.12857162428886e-48 2 sig\n"
     ]
    }
   ],
   "source": [
    "print(bands[-1][0],bands[1][0], '1 sig')\n",
    "\n",
    "print(bands[-2][0], bands[2][0], '2 sig')"
   ]
  },
  {
   "cell_type": "markdown",
   "id": "db372732",
   "metadata": {},
   "source": [
    "'bands[0]' are the medians. 'bands[1&-1]' are our quartiles."
   ]
  },
  {
   "cell_type": "markdown",
   "id": "3ce23fcc",
   "metadata": {},
   "source": [
    "The code below saves the sensitivities into a .txt file for each WIMP mass. Everytime you run it, it adds a new row to each file."
   ]
  },
  {
   "cell_type": "code",
   "execution_count": 9,
   "id": "c2e68a13",
   "metadata": {},
   "outputs": [],
   "source": [
    "# Text file names per band key\n",
    "band_names = {\n",
    "    0: \"sensitivity\",\n",
    "    -1: \"1_sigma_lower\",\n",
    "    1: \"1_sigma_upper\",\n",
    "    -2: \"2_sigma_lower\",\n",
    "    2: \"2_sigma_upper\"\n",
    "}\n",
    "\n",
    "column_headers = [\"10 GeV\", \"60 GeV\", \"1000 GeV\"]\n",
    "\n",
    "output_folder = \"band_outputs\"\n",
    "\n",
    "os.makedirs(output_folder, exist_ok=True)\n",
    "\n",
    "# Save each band's values to its own file\n",
    "for band_key, values in bands.items():\n",
    "    title = band_names.get(band_key, \"\")\n",
    "    filename = f\"{title}.txt\"\n",
    "    filepath = os.path.join(output_folder, filename)\n",
    "    file_exists = os.path.isfile(filepath)\n",
    "\n",
    "    with open(filepath, \"a\") as file:\n",
    "        # Write header if file is new\n",
    "        if not file_exists:\n",
    "            file.write(\"\\t\".join(column_headers) + \"\\n\")\n",
    "        # Write the data row\n",
    "        file.write(\"\\t\".join(f\"{v:.18e}\" for v in values) + \"\\n\")"
   ]
  }
 ],
 "metadata": {
  "kernelspec": {
   "display_name": "flamedisx",
   "language": "python",
   "name": "python3"
  },
  "language_info": {
   "codemirror_mode": {
    "name": "ipython",
    "version": 3
   },
   "file_extension": ".py",
   "mimetype": "text/x-python",
   "name": "python",
   "nbconvert_exporter": "python",
   "pygments_lexer": "ipython3",
   "version": "3.11.12"
  }
 },
 "nbformat": 4,
 "nbformat_minor": 5
}
