{
 "cells": [
  {
   "cell_type": "code",
   "execution_count": 2,
   "metadata": {},
   "outputs": [],
   "source": [
    "import numpy as np\n",
    "import matplotlib.pyplot as plt\n",
    "%matplotlib inline\n",
    "\n",
    "import wimprates\n",
    "import numericalunits as nu"
   ]
  },
  {
   "cell_type": "code",
   "execution_count": 3,
   "metadata": {},
   "outputs": [
    {
     "name": "stdout",
     "output_type": "stream",
     "text": [
      "1.2538601917165568e+18\n",
      "1.7588200107721633e+18\n"
     ]
    }
   ],
   "source": [
    "# Checking out the numericalunits package \n",
    "\n",
    "from numericalunits import V, cm, e, me, m, s\n",
    "Efield = 1e5* (V / cm)\n",
    "force = e * Efield\n",
    "a=force/me\n",
    "print(a)\n",
    "print(a / (m / s**2))"
   ]
  },
  {
   "cell_type": "code",
   "execution_count": 4,
   "metadata": {},
   "outputs": [
    {
     "name": "stdout",
     "output_type": "stream",
     "text": [
      "Help on package wimprates:\n",
      "\n",
      "NAME\n",
      "    wimprates\n",
      "\n",
      "PACKAGE CONTENTS\n",
      "    bremsstrahlung\n",
      "    elastic_nr\n",
      "    electron\n",
      "    halo\n",
      "    migdal\n",
      "    summary\n",
      "    utils\n",
      "\n",
      "SUBMODULES\n",
      "    data\n",
      "\n",
      "DATA\n",
      "    ATOMIC_WEIGHT = {'Ar': 39.948, 'Ge': 72.64, 'Si': 28.0855, 'Xe': 131.2...\n",
      "    DATA_DIR = '/Users/amirr/Desktop/Flame/wimprates/wimprates'\n",
      "    __warningregistry__ = {'version': 148, ('Default WIMP parameters are c...\n",
      "    dme_shells = [(5, 1), (5, 0), (4, 2), (4, 1), (4, 0)]\n",
      "    l_to_letter = {0: 's', 1: 'p', 2: 'd', 3: 'f'}\n",
      "    l_to_number = {'d': 2, 'f': 3, 'p': 1, 's': 0}\n",
      "\n",
      "VERSION\n",
      "    0.5.0\n",
      "\n",
      "FILE\n",
      "    /Users/amirr/Desktop/Flame/wimprates/wimprates/__init__.py\n",
      "\n",
      "\n"
     ]
    }
   ],
   "source": [
    "help(wimprates)"
   ]
  },
  {
   "cell_type": "code",
   "execution_count": 5,
   "metadata": {},
   "outputs": [
    {
     "name": "stdout",
     "output_type": "stream",
     "text": [
      "Help on module wimprates.summary in wimprates:\n",
      "\n",
      "NAME\n",
      "    wimprates.summary - Summary functions\n",
      "\n",
      "FUNCTIONS\n",
      "    rate_wimp(es, mw, sigma_nucleon, interaction='SI', detection_mechanism='elastic_nr', m_med=inf, t=None, halo_model=None, **kwargs)\n",
      "        Differential rate per unit time, unit detector mass\n",
      "        and unit recoil energy of WIMP-nucleus scattering.\n",
      "        Use numericalunits to get variables in/out in the right units.\n",
      "\n",
      "        :param es: Energy of recoil (for elastic_nr)\n",
      "        or emitted photon(for bremsstrahlung and Migdal)\n",
      "        :param mw: Mass of WIMP\n",
      "        :param sigma_nucleon: WIMP-nucleon cross-section\n",
      "        :param interaction: string describing DM-nucleus interaction. Options:\n",
      "            'SI' for spin-independent scattering;\n",
      "                equal coupling to protons and neutrons.\n",
      "            'SD_n_xxx' for spin-dependent scattering\n",
      "                n can be 'n' or 'p' for neutron or proton coupling (at first order)\n",
      "                x can be 'central', 'up' or 'down' for\n",
      "                    theoretical uncertainty on structure function.\n",
      "        :param detection_mechanism: Detection mechanism, can be\n",
      "             'elastic_nr' for regular elastic nuclear recoils\n",
      "             'bremsstrahlung' for Bremsstrahlung photons\n",
      "             'migdal' for the Migdal effect\n",
      "        :param migdal_model: model of Migdal effect\n",
      "             'Ibe' for model implemented in Ibe et al: https://arxiv.org/abs/1707.07258\n",
      "             'Cox' for exclusive transition model implemented\n",
      "                in Cox et al: https://journals.aps.org/prd/abstract/10.1103/PhysRevD.107.035032\n",
      "        :param m_med: Mediator mass. If not given, assumed very heavy.\n",
      "        :param halo_model: A class giving velocity distribution and dark matter density.\n",
      "        :param t: A J2000.0 timestamp.\n",
      "        If not given, conservative velocity distribution is used.\n",
      "        :param progress_bar: if True, show a progress bar during evaluation\n",
      "        for multiple energies (if es is an array)\n",
      "\n",
      "        :returns: numpy array of same length as es with\n",
      "        differential WIMP-nucleus scattering rates.\n",
      "\n",
      "        Further kwargs are passed to scipy.integrate.quad numeric integrator\n",
      "        (e.g. error tolerance).\n",
      "\n",
      "    rate_wimp_std(es, mw, sigma_nucleon, m_med=inf, t=None, halo_model=None, **kwargs)\n",
      "        Differential rate per (ton year keV) of WIMP-nucleus scattering.\n",
      "        :param es: Recoil energies in keV\n",
      "        :param mw: WIMP mass in GeV/c^2\n",
      "        :param sigma_nucleon: WIMP-nucleon cross-section in cm^2\n",
      "        :param m_med: Medator mass in GeV/c^2. If not given, assumed very heavy.\n",
      "        :param t: A J2000.0 timestamp. If not given,\n",
      "        conservative velocity distribution is used.\n",
      "        :function halo_model : class (similar to the standard\n",
      "        halo model) giving velocity distribution and dark matter density\n",
      "        :returns: numpy array of same length as es\n",
      "\n",
      "        Further arguments are as for rate_wimp; see docstring of rate_wimp.\n",
      "\n",
      "DATA\n",
      "    __all__ = ['rate_wimp', 'rate_wimp_std']\n",
      "\n",
      "FILE\n",
      "    /Users/amirr/Desktop/Flame/wimprates/wimprates/summary.py\n",
      "\n",
      "\n"
     ]
    }
   ],
   "source": [
    "help(wimprates.summary)"
   ]
  },
  {
   "cell_type": "markdown",
   "metadata": {},
   "source": [
    "MIgdal Tutorial"
   ]
  },
  {
   "cell_type": "code",
   "execution_count": 6,
   "metadata": {},
   "outputs": [],
   "source": [
    "import matplotlib.pyplot as plt\n",
    "import numericalunits as nu\n",
    "import numpy as np\n",
    "import pandas as pd\n",
    "import seaborn as sns\n",
    "\n",
    "import wimprates as wr\n",
    "\n",
    "sns.set_theme()\n",
    "sns.set_style('ticks')"
   ]
  }
 ],
 "metadata": {
  "kernelspec": {
   "display_name": "fire",
   "language": "python",
   "name": "python3"
  },
  "language_info": {
   "codemirror_mode": {
    "name": "ipython",
    "version": 3
   },
   "file_extension": ".py",
   "mimetype": "text/x-python",
   "name": "python",
   "nbconvert_exporter": "python",
   "pygments_lexer": "ipython3",
   "version": "3.12.4"
  }
 },
 "nbformat": 4,
 "nbformat_minor": 2
}
