{
 "cells": [
  {
   "cell_type": "code",
   "execution_count": 1,
   "metadata": {},
   "outputs": [
    {
     "name": "stdout",
     "output_type": "stream",
     "text": [
      "Type of loaded object: <class 'list'>\n",
      "The loaded object is of type: <class 'list'>\n",
      "[{'SolarER': <multihist.Histdd object at 0x1045fb530>, 'Xe136': <multihist.Histdd object at 0x1667dd220>, 'Pb214': <multihist.Histdd object at 0x1667dd2b0>, 'Kr85': <multihist.Histdd object at 0x1667dd370>, 'CEvNS_solar': <multihist.Histdd object at 0x1667dd3a0>, 'CEvNS_other': <multihist.Histdd object at 0x1667dd820>, 'AC_temp': <multihist.Histdd object at 0x1667dd880>}, {'WIMP003': <multihist.Histdd object at 0x1667dda00>, 'WIMP010': <multihist.Histdd object at 0x1667ddb50>, 'WIMP020': <multihist.Histdd object at 0x1667ddca0>, 'WIMP004': <multihist.Histdd object at 0x1667dddf0>, 'WIMP006': <multihist.Histdd object at 0x1667ddf40>, 'WIMP008': <multihist.Histdd object at 0x1667de090>, 'WIMP012': <multihist.Histdd object at 0x1667de1e0>, 'WIMP014': <multihist.Histdd object at 0x1667de330>, 'WIMP016': <multihist.Histdd object at 0x1667de480>, 'WIMP018': <multihist.Histdd object at 0x1667de5d0>}]\n"
     ]
    }
   ],
   "source": [
    "# Script to open and chck pkl files \n",
    "import numpy as np \n",
    "import pickle as pkl\n",
    "import os\n",
    "#os.chdir('/Users/amirr/Desktop/Flame/FlameFitSimple/analyses/wimp_sensitivity/PDFs')\n",
    "#os.chdir('/Users/amirr/Desktop/Flame/FlameFitSimple/analyses/wimp_sensitivity/PDFs')\n",
    "#os.chdir('/Users/amirr/Desktop/Flame/FlameFitSimple/analyses/likelihoods')\n",
    "#os.chdir('/Users/amirr/Desktop/Flame/FlameFitSimple/analyses')\n",
    "# Load the pickle file\n",
    "#file_path = 'simulate_dict_B.pkl'\n",
    "#file_path=\"outputs/SI_40t_140ty_mig_0.2-2.0Gev_500/test_stat_dists_b.pkl\"\n",
    "file_path = '/Users/amirr/Desktop/Flame/FlameFitSimple/analyses/wimp_sensitivity/PDFs/pdfs_mig_SI_80t_0.3-2.0Gev_test_AC_4fold.pkl'\n",
    "\n",
    "#file_path = 'FlameFitSimple/analyses/wimp_sensitivity/SI_40t_140ty/SI_40t_140ty_likelihood.pkl'\n",
    "with open(file_path, 'rb') as file:\n",
    "    loaded_object = pkl.load(file)\n",
    "\n",
    "# Check the type of the loaded object\n",
    "print(\"Type of loaded object:\", type(loaded_object))\n",
    "\n",
    "# If it's a dictionary, print the keys\n",
    "if isinstance(loaded_object, dict):\n",
    "    print(\"Keys in the loaded pickle file:\")\n",
    "    for key in loaded_object.keys():\n",
    "        print(key)\n",
    "# If it's an object, print its attributes\n",
    "elif hasattr(loaded_object, '__dict__'):\n",
    "    print(\"Attributes of the loaded object:\")\n",
    "    for attribute in dir(loaded_object):\n",
    "        if not attribute.startswith('__'):  # Skip special attributes\n",
    "            print(attribute)\n",
    "else:\n",
    "    print(\"The loaded object is of type:\", type(loaded_object))\n",
    "\n",
    "\n",
    "print(loaded_object)\n"
   ]
  },
  {
   "cell_type": "code",
   "execution_count": 3,
   "metadata": {},
   "outputs": [
    {
     "ename": "AttributeError",
     "evalue": "Can't get attribute 'BasicTemplateSource' on <module '__main__'>",
     "output_type": "error",
     "traceback": [
      "\u001b[0;31m---------------------------------------------------------------------------\u001b[0m",
      "\u001b[0;31mAttributeError\u001b[0m                            Traceback (most recent call last)",
      "Cell \u001b[0;32mIn[3], line 16\u001b[0m\n\u001b[1;32m     14\u001b[0m \u001b[38;5;66;03m#file_path = 'FlameFitSimple/analyses/wimp_sensitivity/SI_40t_140ty/SI_40t_140ty_likelihood.pkl'\u001b[39;00m\n\u001b[1;32m     15\u001b[0m \u001b[38;5;28;01mwith\u001b[39;00m \u001b[38;5;28mopen\u001b[39m(file_path, \u001b[38;5;124m'\u001b[39m\u001b[38;5;124mrb\u001b[39m\u001b[38;5;124m'\u001b[39m) \u001b[38;5;28;01mas\u001b[39;00m file:\n\u001b[0;32m---> 16\u001b[0m     loaded_object \u001b[38;5;241m=\u001b[39m \u001b[43mpkl\u001b[49m\u001b[38;5;241;43m.\u001b[39;49m\u001b[43mload\u001b[49m\u001b[43m(\u001b[49m\u001b[43mfile\u001b[49m\u001b[43m)\u001b[49m\n\u001b[1;32m     18\u001b[0m \u001b[38;5;66;03m# Check the type of the loaded object\u001b[39;00m\n\u001b[1;32m     19\u001b[0m \u001b[38;5;28mprint\u001b[39m(\u001b[38;5;124m\"\u001b[39m\u001b[38;5;124mType of loaded object:\u001b[39m\u001b[38;5;124m\"\u001b[39m, \u001b[38;5;28mtype\u001b[39m(loaded_object))\n",
      "\u001b[0;31mAttributeError\u001b[0m: Can't get attribute 'BasicTemplateSource' on <module '__main__'>"
     ]
    }
   ],
   "source": [
    "# Script to open and chck pkl files \n",
    "import numpy as np \n",
    "import pickle as pkl\n",
    "import os\n",
    "#os.chdir('/Users/amirr/Desktop/Flame/FlameFitSimple/analyses/wimp_sensitivity/PDFs')\n",
    "#os.chdir('/Users/amirr/Desktop/Flame/FlameFitSimple/analyses/wimp_sensitivity/PDFs')\n",
    "os.chdir('/Users/amirr/Desktop/Flame/FlameFitSimple/analyses/likelihoods')\n",
    "#os.chdir('/Users/amirr/Desktop/Flame/FlameFitSimple/analyses')\n",
    "# Load the pickle file\n",
    "#file_path = 'simulate_dict_B.pkl'\n",
    "#file_path=\"outputs/SI_40t_140ty_mig_0.2-2.0Gev_500/test_stat_dists_b.pkl\"\n",
    "file_path = 'SI_60t_140ty_mig_0.2-2.0Gev_500_toys_40_mu.pkl'\n",
    "\n",
    "#file_path = 'FlameFitSimple/analyses/wimp_sensitivity/SI_40t_140ty/SI_40t_140ty_likelihood.pkl'\n",
    "with open(file_path, 'rb') as file:\n",
    "    loaded_object = pkl.load(file)\n",
    "\n",
    "# Check the type of the loaded object\n",
    "print(\"Type of loaded object:\", type(loaded_object))"
   ]
  },
  {
   "cell_type": "code",
   "execution_count": 2,
   "metadata": {},
   "outputs": [
    {
     "name": "stdout",
     "output_type": "stream",
     "text": [
      "{'WIMP002': <multihist.Histdd object at 0x155fd5af0>, 'WIMP004': <multihist.Histdd object at 0x155fd5bb0>, 'WIMP006': <multihist.Histdd object at 0x155fd5d00>, 'WIMP007': <multihist.Histdd object at 0x155fd5e50>, 'WIMP008': <multihist.Histdd object at 0x155fd5fa0>, 'WIMP009': <multihist.Histdd object at 0x155fd60f0>, 'WIMP010': <multihist.Histdd object at 0x155fd6240>, 'WIMP013': <multihist.Histdd object at 0x155fd6390>, 'WIMP016': <multihist.Histdd object at 0x155fd64e0>, 'WIMP019': <multihist.Histdd object at 0x155fd6630>, 'WIMP020': <multihist.Histdd object at 0x155fd6780>}\n",
      "['__abs__', '__add__', '__and__', '__class__', '__delattr__', '__dict__', '__dir__', '__div__', '__divmod__', '__doc__', '__eq__', '__floordiv__', '__format__', '__ge__', '__getattribute__', '__getitem__', '__getstate__', '__gt__', '__hash__', '__init__', '__init_subclass__', '__invert__', '__le__', '__len__', '__lshift__', '__lt__', '__mod__', '__module__', '__mul__', '__ne__', '__neg__', '__new__', '__or__', '__pos__', '__pow__', '__radd__', '__rand__', '__rdiv__', '__rdivmod__', '__reduce__', '__reduce_ex__', '__repr__', '__rfloordiv__', '__rlshift__', '__rmod__', '__rmul__', '__ror__', '__rpow__', '__rrshift__', '__rshift__', '__rsub__', '__rtruediv__', '__setattr__', '__setitem__', '__sizeof__', '__str__', '__sub__', '__subclasshook__', '__truediv__', '__weakref__', '_data_to_hist', '_is_columnar', '_make_binop', '_simsalabim_slice', 'add', 'all_axis_bin_centers', 'average', 'axis_names', 'axis_names_without', 'bin_centers', 'bin_edges', 'bin_volumes', 'central_likelihood', 'cumulate', 'cumulative_density', 'dimensions', 'from_histogram', 'get_axis_bin_index', 'get_axis_number', 'get_bin_indices', 'get_random', 'histogram', 'lookup', 'lookup_hist', 'max', 'min', 'n', 'normalize', 'other_axes', 'percentile', 'plot', 'project', 'projection', 'rebin', 'similar_blank_hist', 'similar_blank_histogram', 'slice', 'slicesum', 'std', 'sum']\n",
      "['cS1', 'log10_cS2']\n"
     ]
    },
    {
     "ename": "TypeError",
     "evalue": "float() argument must be a string or a real number, not 'QuadMesh'",
     "output_type": "error",
     "traceback": [
      "\u001b[0;31m---------------------------------------------------------------------------\u001b[0m",
      "\u001b[0;31mTypeError\u001b[0m                                 Traceback (most recent call last)",
      "Cell \u001b[0;32mIn[2], line 10\u001b[0m\n\u001b[1;32m      6\u001b[0m plt\u001b[38;5;241m.\u001b[39mplot(WIMP006\u001b[38;5;241m.\u001b[39msum(\u001b[38;5;124m\"\u001b[39m\u001b[38;5;124mcS1\u001b[39m\u001b[38;5;124m\"\u001b[39m))\n\u001b[1;32m      7\u001b[0m \u001b[38;5;66;03m#plt.plot(WIMP006.slicesum(\"cS1\"))\u001b[39;00m\n\u001b[1;32m      8\u001b[0m \u001b[38;5;66;03m#plt.plot(WIMP006.sum(\"log10_cS2\"))\u001b[39;00m\n\u001b[1;32m      9\u001b[0m \u001b[38;5;66;03m#plt.plot((WIMP006.projection(\"cS1\"))) # same as project\u001b[39;00m\n\u001b[0;32m---> 10\u001b[0m \u001b[43mplt\u001b[49m\u001b[38;5;241;43m.\u001b[39;49m\u001b[43mplot\u001b[49m\u001b[43m(\u001b[49m\u001b[43m(\u001b[49m\u001b[43mWIMP006\u001b[49m\u001b[38;5;241;43m.\u001b[39;49m\u001b[43mplot\u001b[49m\u001b[43m(\u001b[49m\u001b[43m)\u001b[49m\u001b[43m)\u001b[49m\u001b[43m)\u001b[49m\n\u001b[1;32m     11\u001b[0m plt\u001b[38;5;241m.\u001b[39mplot((WIMP006\u001b[38;5;241m.\u001b[39mproject(\u001b[38;5;124m\"\u001b[39m\u001b[38;5;124mcS1\u001b[39m\u001b[38;5;124m\"\u001b[39m)))\n",
      "File \u001b[0;32m/opt/miniconda3/envs/fire/lib/python3.12/site-packages/matplotlib/pyplot.py:3794\u001b[0m, in \u001b[0;36mplot\u001b[0;34m(scalex, scaley, data, *args, **kwargs)\u001b[0m\n\u001b[1;32m   3786\u001b[0m \u001b[38;5;129m@_copy_docstring_and_deprecators\u001b[39m(Axes\u001b[38;5;241m.\u001b[39mplot)\n\u001b[1;32m   3787\u001b[0m \u001b[38;5;28;01mdef\u001b[39;00m \u001b[38;5;21mplot\u001b[39m(\n\u001b[1;32m   3788\u001b[0m     \u001b[38;5;241m*\u001b[39margs: \u001b[38;5;28mfloat\u001b[39m \u001b[38;5;241m|\u001b[39m ArrayLike \u001b[38;5;241m|\u001b[39m \u001b[38;5;28mstr\u001b[39m,\n\u001b[0;32m   (...)\u001b[0m\n\u001b[1;32m   3792\u001b[0m     \u001b[38;5;241m*\u001b[39m\u001b[38;5;241m*\u001b[39mkwargs,\n\u001b[1;32m   3793\u001b[0m ) \u001b[38;5;241m-\u001b[39m\u001b[38;5;241m>\u001b[39m \u001b[38;5;28mlist\u001b[39m[Line2D]:\n\u001b[0;32m-> 3794\u001b[0m     \u001b[38;5;28;01mreturn\u001b[39;00m \u001b[43mgca\u001b[49m\u001b[43m(\u001b[49m\u001b[43m)\u001b[49m\u001b[38;5;241;43m.\u001b[39;49m\u001b[43mplot\u001b[49m\u001b[43m(\u001b[49m\n\u001b[1;32m   3795\u001b[0m \u001b[43m        \u001b[49m\u001b[38;5;241;43m*\u001b[39;49m\u001b[43margs\u001b[49m\u001b[43m,\u001b[49m\n\u001b[1;32m   3796\u001b[0m \u001b[43m        \u001b[49m\u001b[43mscalex\u001b[49m\u001b[38;5;241;43m=\u001b[39;49m\u001b[43mscalex\u001b[49m\u001b[43m,\u001b[49m\n\u001b[1;32m   3797\u001b[0m \u001b[43m        \u001b[49m\u001b[43mscaley\u001b[49m\u001b[38;5;241;43m=\u001b[39;49m\u001b[43mscaley\u001b[49m\u001b[43m,\u001b[49m\n\u001b[1;32m   3798\u001b[0m \u001b[43m        \u001b[49m\u001b[38;5;241;43m*\u001b[39;49m\u001b[38;5;241;43m*\u001b[39;49m\u001b[43m(\u001b[49m\u001b[43m{\u001b[49m\u001b[38;5;124;43m\"\u001b[39;49m\u001b[38;5;124;43mdata\u001b[39;49m\u001b[38;5;124;43m\"\u001b[39;49m\u001b[43m:\u001b[49m\u001b[43m \u001b[49m\u001b[43mdata\u001b[49m\u001b[43m}\u001b[49m\u001b[43m \u001b[49m\u001b[38;5;28;43;01mif\u001b[39;49;00m\u001b[43m \u001b[49m\u001b[43mdata\u001b[49m\u001b[43m \u001b[49m\u001b[38;5;129;43;01mis\u001b[39;49;00m\u001b[43m \u001b[49m\u001b[38;5;129;43;01mnot\u001b[39;49;00m\u001b[43m \u001b[49m\u001b[38;5;28;43;01mNone\u001b[39;49;00m\u001b[43m \u001b[49m\u001b[38;5;28;43;01melse\u001b[39;49;00m\u001b[43m \u001b[49m\u001b[43m{\u001b[49m\u001b[43m}\u001b[49m\u001b[43m)\u001b[49m\u001b[43m,\u001b[49m\n\u001b[1;32m   3799\u001b[0m \u001b[43m        \u001b[49m\u001b[38;5;241;43m*\u001b[39;49m\u001b[38;5;241;43m*\u001b[39;49m\u001b[43mkwargs\u001b[49m\u001b[43m,\u001b[49m\n\u001b[1;32m   3800\u001b[0m \u001b[43m    \u001b[49m\u001b[43m)\u001b[49m\n",
      "File \u001b[0;32m/opt/miniconda3/envs/fire/lib/python3.12/site-packages/matplotlib/axes/_axes.py:1781\u001b[0m, in \u001b[0;36mAxes.plot\u001b[0;34m(self, scalex, scaley, data, *args, **kwargs)\u001b[0m\n\u001b[1;32m   1779\u001b[0m lines \u001b[38;5;241m=\u001b[39m [\u001b[38;5;241m*\u001b[39m\u001b[38;5;28mself\u001b[39m\u001b[38;5;241m.\u001b[39m_get_lines(\u001b[38;5;28mself\u001b[39m, \u001b[38;5;241m*\u001b[39margs, data\u001b[38;5;241m=\u001b[39mdata, \u001b[38;5;241m*\u001b[39m\u001b[38;5;241m*\u001b[39mkwargs)]\n\u001b[1;32m   1780\u001b[0m \u001b[38;5;28;01mfor\u001b[39;00m line \u001b[38;5;129;01min\u001b[39;00m lines:\n\u001b[0;32m-> 1781\u001b[0m     \u001b[38;5;28;43mself\u001b[39;49m\u001b[38;5;241;43m.\u001b[39;49m\u001b[43madd_line\u001b[49m\u001b[43m(\u001b[49m\u001b[43mline\u001b[49m\u001b[43m)\u001b[49m\n\u001b[1;32m   1782\u001b[0m \u001b[38;5;28;01mif\u001b[39;00m scalex:\n\u001b[1;32m   1783\u001b[0m     \u001b[38;5;28mself\u001b[39m\u001b[38;5;241m.\u001b[39m_request_autoscale_view(\u001b[38;5;124m\"\u001b[39m\u001b[38;5;124mx\u001b[39m\u001b[38;5;124m\"\u001b[39m)\n",
      "File \u001b[0;32m/opt/miniconda3/envs/fire/lib/python3.12/site-packages/matplotlib/axes/_base.py:2339\u001b[0m, in \u001b[0;36m_AxesBase.add_line\u001b[0;34m(self, line)\u001b[0m\n\u001b[1;32m   2336\u001b[0m \u001b[38;5;28;01mif\u001b[39;00m line\u001b[38;5;241m.\u001b[39mget_clip_path() \u001b[38;5;129;01mis\u001b[39;00m \u001b[38;5;28;01mNone\u001b[39;00m:\n\u001b[1;32m   2337\u001b[0m     line\u001b[38;5;241m.\u001b[39mset_clip_path(\u001b[38;5;28mself\u001b[39m\u001b[38;5;241m.\u001b[39mpatch)\n\u001b[0;32m-> 2339\u001b[0m \u001b[38;5;28;43mself\u001b[39;49m\u001b[38;5;241;43m.\u001b[39;49m\u001b[43m_update_line_limits\u001b[49m\u001b[43m(\u001b[49m\u001b[43mline\u001b[49m\u001b[43m)\u001b[49m\n\u001b[1;32m   2340\u001b[0m \u001b[38;5;28;01mif\u001b[39;00m \u001b[38;5;129;01mnot\u001b[39;00m line\u001b[38;5;241m.\u001b[39mget_label():\n\u001b[1;32m   2341\u001b[0m     line\u001b[38;5;241m.\u001b[39mset_label(\u001b[38;5;124mf\u001b[39m\u001b[38;5;124m'\u001b[39m\u001b[38;5;124m_child\u001b[39m\u001b[38;5;132;01m{\u001b[39;00m\u001b[38;5;28mlen\u001b[39m(\u001b[38;5;28mself\u001b[39m\u001b[38;5;241m.\u001b[39m_children)\u001b[38;5;132;01m}\u001b[39;00m\u001b[38;5;124m'\u001b[39m)\n",
      "File \u001b[0;32m/opt/miniconda3/envs/fire/lib/python3.12/site-packages/matplotlib/axes/_base.py:2362\u001b[0m, in \u001b[0;36m_AxesBase._update_line_limits\u001b[0;34m(self, line)\u001b[0m\n\u001b[1;32m   2358\u001b[0m \u001b[38;5;28;01mdef\u001b[39;00m \u001b[38;5;21m_update_line_limits\u001b[39m(\u001b[38;5;28mself\u001b[39m, line):\n\u001b[1;32m   2359\u001b[0m \u001b[38;5;250m    \u001b[39m\u001b[38;5;124;03m\"\"\"\u001b[39;00m\n\u001b[1;32m   2360\u001b[0m \u001b[38;5;124;03m    Figures out the data limit of the given line, updating self.dataLim.\u001b[39;00m\n\u001b[1;32m   2361\u001b[0m \u001b[38;5;124;03m    \"\"\"\u001b[39;00m\n\u001b[0;32m-> 2362\u001b[0m     path \u001b[38;5;241m=\u001b[39m \u001b[43mline\u001b[49m\u001b[38;5;241;43m.\u001b[39;49m\u001b[43mget_path\u001b[49m\u001b[43m(\u001b[49m\u001b[43m)\u001b[49m\n\u001b[1;32m   2363\u001b[0m     \u001b[38;5;28;01mif\u001b[39;00m path\u001b[38;5;241m.\u001b[39mvertices\u001b[38;5;241m.\u001b[39msize \u001b[38;5;241m==\u001b[39m \u001b[38;5;241m0\u001b[39m:\n\u001b[1;32m   2364\u001b[0m         \u001b[38;5;28;01mreturn\u001b[39;00m\n",
      "File \u001b[0;32m/opt/miniconda3/envs/fire/lib/python3.12/site-packages/matplotlib/lines.py:1037\u001b[0m, in \u001b[0;36mLine2D.get_path\u001b[0;34m(self)\u001b[0m\n\u001b[1;32m   1035\u001b[0m \u001b[38;5;250m\u001b[39m\u001b[38;5;124;03m\"\"\"Return the `~matplotlib.path.Path` associated with this line.\"\"\"\u001b[39;00m\n\u001b[1;32m   1036\u001b[0m \u001b[38;5;28;01mif\u001b[39;00m \u001b[38;5;28mself\u001b[39m\u001b[38;5;241m.\u001b[39m_invalidy \u001b[38;5;129;01mor\u001b[39;00m \u001b[38;5;28mself\u001b[39m\u001b[38;5;241m.\u001b[39m_invalidx:\n\u001b[0;32m-> 1037\u001b[0m     \u001b[38;5;28;43mself\u001b[39;49m\u001b[38;5;241;43m.\u001b[39;49m\u001b[43mrecache\u001b[49m\u001b[43m(\u001b[49m\u001b[43m)\u001b[49m\n\u001b[1;32m   1038\u001b[0m \u001b[38;5;28;01mreturn\u001b[39;00m \u001b[38;5;28mself\u001b[39m\u001b[38;5;241m.\u001b[39m_path\n",
      "File \u001b[0;32m/opt/miniconda3/envs/fire/lib/python3.12/site-packages/matplotlib/lines.py:679\u001b[0m, in \u001b[0;36mLine2D.recache\u001b[0;34m(self, always)\u001b[0m\n\u001b[1;32m    677\u001b[0m \u001b[38;5;28;01mif\u001b[39;00m always \u001b[38;5;129;01mor\u001b[39;00m \u001b[38;5;28mself\u001b[39m\u001b[38;5;241m.\u001b[39m_invalidy:\n\u001b[1;32m    678\u001b[0m     yconv \u001b[38;5;241m=\u001b[39m \u001b[38;5;28mself\u001b[39m\u001b[38;5;241m.\u001b[39mconvert_yunits(\u001b[38;5;28mself\u001b[39m\u001b[38;5;241m.\u001b[39m_yorig)\n\u001b[0;32m--> 679\u001b[0m     y \u001b[38;5;241m=\u001b[39m \u001b[43m_to_unmasked_float_array\u001b[49m\u001b[43m(\u001b[49m\u001b[43myconv\u001b[49m\u001b[43m)\u001b[49m\u001b[38;5;241m.\u001b[39mravel()\n\u001b[1;32m    680\u001b[0m \u001b[38;5;28;01melse\u001b[39;00m:\n\u001b[1;32m    681\u001b[0m     y \u001b[38;5;241m=\u001b[39m \u001b[38;5;28mself\u001b[39m\u001b[38;5;241m.\u001b[39m_y\n",
      "File \u001b[0;32m/opt/miniconda3/envs/fire/lib/python3.12/site-packages/matplotlib/cbook.py:1398\u001b[0m, in \u001b[0;36m_to_unmasked_float_array\u001b[0;34m(x)\u001b[0m\n\u001b[1;32m   1396\u001b[0m     \u001b[38;5;28;01mreturn\u001b[39;00m np\u001b[38;5;241m.\u001b[39mma\u001b[38;5;241m.\u001b[39masarray(x, \u001b[38;5;28mfloat\u001b[39m)\u001b[38;5;241m.\u001b[39mfilled(np\u001b[38;5;241m.\u001b[39mnan)\n\u001b[1;32m   1397\u001b[0m \u001b[38;5;28;01melse\u001b[39;00m:\n\u001b[0;32m-> 1398\u001b[0m     \u001b[38;5;28;01mreturn\u001b[39;00m \u001b[43mnp\u001b[49m\u001b[38;5;241;43m.\u001b[39;49m\u001b[43masarray\u001b[49m\u001b[43m(\u001b[49m\u001b[43mx\u001b[49m\u001b[43m,\u001b[49m\u001b[43m \u001b[49m\u001b[38;5;28;43mfloat\u001b[39;49m\u001b[43m)\u001b[49m\n",
      "\u001b[0;31mTypeError\u001b[0m: float() argument must be a string or a real number, not 'QuadMesh'"
     ]
    },
    {
     "data": {
      "image/png": "[encoded data removed]",
      "text/plain": [
       "<Figure size 640x480 with 2 Axes>"
      ]
     },
     "metadata": {},
     "output_type": "display_data"
    }
   ],
   "source": [
    "import matplotlib.pyplot as plt \n",
    "print((loaded_object[1]))\n",
    "WIMP006 = loaded_object[1]['WIMP006']\n",
    "print(dir(WIMP006))\n",
    "print(WIMP006.axis_names)\n",
    "plt.plot(WIMP006.sum(\"cS1\"))\n",
    "#plt.plot(WIMP006.slicesum(\"cS1\"))\n",
    "#plt.plot(WIMP006.sum(\"log10_cS2\"))\n",
    "#plt.plot((WIMP006.projection(\"cS1\"))) # same as project\n",
    "plt.plot((WIMP006.plot()))\n",
    "plt.plot((WIMP006.project(\"cS1\")))"
   ]
  },
  {
   "cell_type": "code",
   "execution_count": 103,
   "metadata": {},
   "outputs": [
    {
     "name": "stdout",
     "output_type": "stream",
     "text": [
      "8.287212521995919e-07\n",
      "{'SolarER': <multihist.Histdd object at 0x30db8ea20>, 'Xe136': <multihist.Histdd object at 0x30e7a4650>, 'Pb214': <multihist.Histdd object at 0x30e7a6b10>, 'Kr85': <multihist.Histdd object at 0x30e7a69c0>, 'CEvNS_solar': <multihist.Histdd object at 0x30e7a4440>, 'CEvNS_other': <multihist.Histdd object at 0x30e7a70b0>}\n"
     ]
    },
    {
     "data": {
      "text/plain": [
       "8.054940697982788"
      ]
     },
     "execution_count": 103,
     "metadata": {},
     "output_type": "execute_result"
    }
   ],
   "source": [
    "print(WIMP006.n)\n",
    "\n",
    "print((loaded_object[0]))\n",
    "\n",
    "pb214 = loaded_object[0]['SolarER']\n",
    "pb214.n"
   ]
  },
  {
   "cell_type": "code",
   "execution_count": 44,
   "metadata": {},
   "outputs": [
    {
     "name": "stdout",
     "output_type": "stream",
     "text": [
      "(100, 100)\n",
      "Number of lines: 100\n"
     ]
    },
    {
     "data": {
      "image/png": "[encoded data removed]",
      "text/plain": [
       "<Figure size 640x480 with 1 Axes>"
      ]
     },
     "metadata": {},
     "output_type": "display_data"
    }
   ],
   "source": [
    "plt.plot(WIMP006.histogram)\n",
    "print(WIMP006.histogram.shape)  \n",
    "lines = plt.plot(WIMP006.histogram)\n",
    "print(f\"Number of lines: {len(lines)}\")\n"
   ]
  },
  {
   "cell_type": "code",
   "execution_count": null,
   "metadata": {},
   "outputs": [],
   "source": [
    "import matplotlib.pyplot as plt \n",
    "print((loaded_object[1]))\n",
    "WIMP006 = loaded_object[1]['WIMP006']\n",
    "print(dir(WIMP006))\n",
    "print(WIMP006.axis_names)\n",
    "plt.plot(WIMP006.sum(\"cS1\"))\n",
    "plt.plot(WIMP006.slicesum(\"cS1\"))\n",
    "#plt.plot(WIMP006.sum(\"log10_cS2\"))\n",
    "#plt.plot((WIMP006.projection(\"cS1\"))) # same as project\n",
    "#plt.plot((WIMP006.plot()))\n",
    "plt.plot((WIMP006.project(\"cS1\")))"
   ]
  },
  {
   "cell_type": "code",
   "execution_count": null,
   "metadata": {},
   "outputs": [],
   "source": [
    "import numpy as np\n",
    "import matplotlib.pyplot as plt\n",
    "\n",
    "# Function to plot multiple rows (toys) for a single WIMP mass\n",
    "def plot_rows_for_mass(wimp_mass, row_indices):\n",
    "    plt.figure(figsize=(10, 6))\n",
    "    for row_index in row_indices:\n",
    "        mu_values = mus[wimp_mass]\n",
    "        p_values = pval_curves[wimp_mass][row_index]\n",
    "        \n",
    "        # Mask out any NaN values\n",
    "        valid_indices = ~np.isnan(p_values)\n",
    "        \n",
    "        plt.plot(np.array(mu_values)[valid_indices], p_values[valid_indices], \n",
    "                 marker='o', label=f'Toy {row_index+1}')\n",
    "    \n",
    "    plt.xscale('linear')\n",
    "    plt.yscale('log')\n",
    "    plt.xlabel('μ Values (linear scale)')\n",
    "    plt.ylabel('p-values (log scale)')\n",
    "    plt.title(f'Plot of μ vs p-values for {wimp_mass}')\n",
    "    plt.legend()\n",
    "    plt.grid()\n",
    "    plt.show()\n",
    "\n",
    "# Function to plot specific rows (toys) across different WIMP masses\n",
    "def plot_rows_across_masses(wimp_masses, row_indices):\n",
    "    plt.figure(figsize=(10, 6))\n",
    "    for row_index in row_indices:\n",
    "        for wimp_mass in wimp_masses:\n",
    "            mu_values = mus[wimp_mass]\n",
    "            p_values = pval_curves[wimp_mass][row_index]\n",
    "            \n",
    "            # Mask out any NaN values\n",
    "            valid_indices = ~np.isnan(p_values)\n",
    "            \n",
    "            plt.plot(np.array(mu_values)[valid_indices], p_values[valid_indices], \n",
    "                     marker='o', label=f'{wimp_mass} - Toy {row_index+1}')\n",
    "    \n",
    "    plt.xscale('linear')\n",
    "    plt.yscale('log')\n",
    "    plt.xlabel('μ Values (linear scale)')\n",
    "    plt.ylabel('p-values (log scale)')\n",
    "    plt.title('Plot of μ vs p-values Across Different WIMP Masses')\n",
    "    plt.legend()\n",
    "    plt.grid()\n",
    "    plt.show()\n",
    "\n",
    "# Function to scatter plot of upper and lower crossing points for a given WIMP mass\n",
    "def plot_crossing_points(wimp_mass, critical_p_value=0.05):\n",
    "    upper_crossings = []\n",
    "    lower_crossings = []\n",
    "    \n",
    "    for toy in pval_curves[wimp_mass]:\n",
    "        mu_values = mus[wimp_mass]\n",
    "        \n",
    "        # Mask out NaN values\n",
    "        valid_indices = ~np.isnan(toy)\n",
    "        mu_values_valid = np.array(mu_values)[valid_indices]\n",
    "        toy_valid = toy[valid_indices]\n",
    "        \n",
    "        # Find crossing points where p-value is less than or equal to critical_p_value\n",
    "        crossing_indices = np.where(toy_valid <= critical_p_value)[0]\n",
    "        if crossing_indices.size > 0:\n",
    "            # Append lower and upper crossing points\n",
    "            lower_crossings.append(mu_values_valid[crossing_indices[0]])\n",
    "            upper_crossings.append(mu_values_valid[crossing_indices[-1]])\n",
    "    \n",
    "    # Scatter plot for crossing points\n",
    "    plt.figure(figsize=(10, 6))\n",
    "    plt.scatter(lower_crossings, [1] * len(lower_crossings), color='blue', label='Lower Crossing')\n",
    "    plt.scatter(upper_crossings, [1] * len(upper_crossings), color='red', label='Upper Crossing')\n",
    "    \n",
    "    plt.xlabel('μ Values')\n",
    "    plt.ylabel('Crossing Points')\n",
    "    plt.title(f'Distribution of Upper and Lower Crossing Points for {wimp_mass}')\n",
    "    plt.legend()\n",
    "    plt.grid()\n",
    "    plt.show()\n",
    "\n",
    "# Specify which rows (toys) you want to plot and for which WIMP masses\n",
    "row_indices_to_plot = [0, 15, 22]  # Rows you want to plot for each mass\n",
    "wimp_masses = ['WIMP010', 'WIMP008', 'WIMP009']  # WIMP masses to include in the plots\n",
    "\n",
    "# Plot multiple rows for each mass\n",
    "for wimp_mass in wimp_masses:\n",
    "    plot_rows_for_mass(wimp_mass, row_indices_to_plot)\n",
    "\n",
    "# Plot the same rows across different masses\n",
    "plot_rows_across_masses(wimp_masses, row_indices_to_plot)\n",
    "\n",
    "# Plot the distribution of crossing points for each mass\n",
    "for wimp_mass in wimp_masses:\n",
    "    plot_crossing_points(wimp_mass)\n"
   ]
  },
  {
   "cell_type": "code",
   "execution_count": 10,
   "metadata": {},
   "outputs": [],
   "source": [
    "import sys\n",
    "\n",
    "import numpy as np\n",
    "from scipy import special\n",
    "from scipy import stats\n",
    "\n",
    "import flamedisx as fd\n",
    "export, __all__ = fd.exporter()\n",
    "\n",
    "GAS_CONSTANT = 8.31446261815324\n",
    "N_AVAGADRO = 6.0221409e23\n",
    "XENON_VDW_A = 0.4250\n",
    "XENON_VDW_B = 5.105e-5\n",
    "A_XENON = 131.293\n",
    "Z_XENON = 54\n",
    "XENON_LIQUID_DIELECTRIC = 1.85\n",
    "XENON_GAS_DIELECTRIC = 1.00126\n",
    "\n",
    "\n",
    "@export\n",
    "def calculate_density(temp, pressure):\n",
    "    \"\"\"Returns density in g/cm^3\n",
    "\n",
    "    \"\"\"\n",
    "    if (temp < 161.40):\n",
    "        raise ValueError(\"Solid phase!\")\n",
    "\n",
    "    if (temp < 289.7):\n",
    "        VaporP_bar = pow(10, 4.0519 - 667.16 / temp)\n",
    "    else:\n",
    "        VaporP_bar = sys.float_info.max\n",
    "\n",
    "    if (pressure < VaporP_bar):\n",
    "        raise ValueError(\"Gas phase!\")\n",
    "\n",
    "    density = 2.9970938084691329e2 * np.exp(-8.2598864714323525e-2 * temp) - \\\n",
    "        1.8801286589442915e6 * np.exp(\n",
    "            -((temp - 4.0820251276172212e2) / 2.7863170223154846e1)**2) - \\\n",
    "        5.4964506351743057e3 * np.exp(\n",
    "            -((temp - 6.3688597345042672e2) / 1.1225818853661815e2)**2) + \\\n",
    "        8.3450538370682614e2 * np.exp(\n",
    "            -((temp + 4.8840568924597342e1) / 7.3804147172071107e3)**2) \\\n",
    "        - 8.3086310405942265e2\n",
    "\n",
    "    return density\n",
    "\n",
    "\n",
    "@export\n",
    "def calculate_density_gas(temp, pressure):\n",
    "    \"\"\"Returns gaseous density in g/cm^3\n",
    "\n",
    "    \"\"\"\n",
    "    p_Pa = pressure * 1e5\n",
    "    density = 1 / (\n",
    "        pow(GAS_CONSTANT * temp, 3) /\n",
    "        (p_Pa * pow(GAS_CONSTANT * temp, 2) + XENON_VDW_A * p_Pa * p_Pa) +\n",
    "        XENON_VDW_B) \\\n",
    "        * A_XENON * 1e-6\n",
    "\n",
    "    return density\n",
    "\n",
    "\n",
    "@export\n",
    "def calculate_drift_velocity(drift_field, density, temp):\n",
    "    \"\"\"Returns drift_velocity in cm/ns\n",
    "\n",
    "    \"\"\"\n",
    "    polyExp = [\n",
    "        [-3.1046, 27.037, -2.1668, 193.27, -4.8024, 646.04, 9.2471],  # 100 K\n",
    "        [-2.7394, 22.760, -1.7775, 222.72, -5.0836, 724.98, 8.7189],  # 120 K\n",
    "        [-2.3646, 164.91, -1.6984, 21.473, -4.4752, 1202.2, 7.9744],  # 140 K\n",
    "        [-1.8097, 235.65, -1.7621, 36.855, -3.5925, 1356.2, 6.7865],  # 155 K\n",
    "        [-1.5000, 37.021, -1.1430, 6.4590, -4.0337, 855.43, 5.4238],  # 157 K\n",
    "        [-1.4939, 47.879, 0.12608, 8.9095, -1.3480, 1310.9, 2.7598],  # 163 K\n",
    "        [-1.5389, 26.602, -.44589, 196.08, -1.1516, 1810.8, 2.8912],  # 165 K\n",
    "        [-1.5000, 28.510, -.21948, 183.49, -1.4320, 1652.9, 2.884],   # 167 K\n",
    "        [-1.1781, 49.072, -1.3008, 3438.4, -.14817, 312.12, 2.8049],  # 184 K\n",
    "        [1.2466, 85.975, -.88005, 918.57, -3.0085, 27.568, 2.3823],   # 200 K\n",
    "        [334.60, 37.556, 0.92211, 345.27, -338.00, 37.346, 1.9834]]  # 230 K\n",
    "\n",
    "    Temperatures = np.array(\n",
    "        [100., 120., 140., 155., 157., 163., 165., 167., 184., 200., 230.])\n",
    "\n",
    "    if not (100 <= temp < 230):\n",
    "        raise ValueError(\"Temprature out of range (100-230 K).\")\n",
    "\n",
    "    right = np.where(Temperatures > temp)\n",
    "    left = np.where(Temperatures <= temp)\n",
    "    i = left[0][-1]\n",
    "    j = right[0][0]\n",
    "\n",
    "    Ti = Temperatures[i]\n",
    "    Tf = Temperatures[j]\n",
    "\n",
    "    vi = polyExp[i][0] * np.exp(-drift_field / polyExp[i][1]) + \\\n",
    "        polyExp[i][2] * np.exp(-drift_field / polyExp[i][3]) + \\\n",
    "        polyExp[i][4] * np.exp(-drift_field / polyExp[i][5]) + \\\n",
    "        polyExp[i][6]\n",
    "    vf = polyExp[j][0] * np.exp(-drift_field / polyExp[j][1]) + \\\n",
    "        polyExp[j][2] * np.exp(-drift_field / polyExp[j][3]) + \\\n",
    "        polyExp[j][4] * np.exp(-drift_field / polyExp[j][5]) + \\\n",
    "        polyExp[j][6]\n",
    "\n",
    "    if (temp == Ti):\n",
    "        return vi\n",
    "    elif (temp == Tf):\n",
    "        return vf\n",
    "    elif (vf < vi):\n",
    "        offset = (\n",
    "            np.sqrt((Tf * (vf - vi) - Ti * (vf - vi) - 4.) * (vf - vi)) +\n",
    "            np.sqrt(Tf - Ti) * (vf + vi)) / (2. * np.sqrt(Tf - Ti))\n",
    "        slope = -(np.sqrt(Tf - Ti) * np.sqrt(\n",
    "            (Tf * (vf - vi) - Ti * (vf - vi) - 4.) * (vf - vi)) -\n",
    "            (Tf + Ti) * (vf - vi)) / (2. * (vf - vi))\n",
    "        speed = 1. / (temp - slope) + offset\n",
    "    else:\n",
    "        slope = (vf - vi) / (Tf - Ti)\n",
    "        speed = slope * (temp - Ti) + vi\n",
    "\n",
    "    if (speed <= 0.):\n",
    "        raise ValueError(\"Negative drift velocity!\")\n",
    "\n",
    "    return speed*1e-4\n",
    "\n",
    "\n",
    "@export\n",
    "def calculate_work(density):\n",
    "    eDensity = density * N_AVAGADRO * Z_XENON / A_XENON\n",
    "    Wq_eV = (18.7263 - 1.01e-23 * eDensity) * 1.1716263232\n",
    "    Wq_keV = Wq_eV * 1e-3\n",
    "\n",
    "    alpha = 0.067366 + density * 0.039693\n",
    "\n",
    "    return Wq_keV, alpha\n",
    "\n",
    "\n",
    "@export\n",
    "def calculate_extraction_eff(gas_field, temperature):\n",
    "    liquid_field_interface = gas_field / \\\n",
    "    (XENON_LIQUID_DIELECTRIC / XENON_GAS_DIELECTRIC)\n",
    "        #is performing a conversion of the electric field from the gas phase to an equivalent field at the liquid-gas interface, taking into account the difference in dielectric constants between liquid and gaseous xenon.\n",
    "\n",
    "    em1 = 8.807528626640e4 - 2.026247730928e3 * temperature + \\\n",
    "        1.747197309338e1 * pow(temperature, 2.) - \\\n",
    "        6.692362929271e-2 * pow(temperature, 3.) + \\\n",
    "        9.607626262594e-5 * pow(temperature, 4.)\n",
    "    em2 = 5.074800229635e5 - 1.460168019275e4 * temperature + \\\n",
    "        1.680089978382e2 * pow(temperature, 2.) - \\\n",
    "        9.663183204468e-1 * pow(temperature, 3.) + \\\n",
    "        2.778229721617e-3 * pow(temperature, 4.) - \\\n",
    "        3.194249083426e-6 * pow(temperature, 5.)\n",
    "    em3 = -4.659269964120e6 + 1.366555237249e5 * temperature - \\\n",
    "        1.602830617076e3 * pow(temperature, 2.) + \\\n",
    "        9.397480411915e-0 * pow(temperature, 3.) - \\\n",
    "        2.754232523872e-2 * pow(temperature, 4.) + \\\n",
    "        3.228101180588e-5 * pow(temperature, 5.)\n",
    "\n",
    "    extraction_eff = 1. - em1 * np.exp(-em2 * pow(liquid_field_interface, em3))\n",
    "\n",
    "    return extraction_eff\n",
    "\n",
    "\n",
    "@export\n",
    "def calculate_g2(gas_field, density_gas, gas_gap, g1_gas, extraction_eff):\n",
    "    elYield = (\n",
    "        0.137 * gas_field * 1e3 -\n",
    "        4.70e-18 * (N_AVAGADRO * density_gas / A_XENON)) \\\n",
    "        * gas_gap * 0.1\n",
    "\n",
    "    return elYield * g1_gas * extraction_eff\n",
    "\n",
    "\n",
    "@export\n",
    "def calculate_s1_mean_mult(spe_res):\n",
    "    TruncGaussAlpha = -1. / spe_res\n",
    "    LittlePhi_Alpha = 1. / (np.sqrt(2. * np.pi)) * np.exp(-0.5 * TruncGaussAlpha * TruncGaussAlpha)\n",
    "    BigPhi_Alpha = 0.5 * (1. + special.erf(TruncGaussAlpha / np.sqrt(2.)))\n",
    "    NewMean = 1. + (LittlePhi_Alpha / (1. - BigPhi_Alpha)) * spe_res\n",
    "\n",
    "    return 1. / NewMean\n",
    "\n",
    "\n",
    "@export\n",
    "def get_coin_table(coin_level, num_pmts, spe_res, spe_thr, spe_eff, double_pe_fraction):\n",
    "    assert coin_level <= 3, 'This logic will not work well for coincidence levels higher than 3'\n",
    "    coin_dict = dict()\n",
    "    coin_table = []\n",
    "\n",
    "    if (coin_level == 0):\n",
    "        for ph_det in np.arange(0, 6):\n",
    "            coin_table.append(1.)\n",
    "        return coin_table\n",
    "\n",
    "    for spike in np.arange(1, 6):\n",
    "        numer = 0.\n",
    "        denom = 0.\n",
    "        i = spike\n",
    "        while (i > 0):\n",
    "            denom += special.binom(num_pmts, i)\n",
    "            if (i >= coin_level):\n",
    "                numer += special.binom(num_pmts, i)\n",
    "            i -= 1\n",
    "        coin_dict[spike] = numer / denom\n",
    "\n",
    "    BigPhi_alpha_SPE = 0.5 * (1. + special.erf(-1. / spe_res / np.sqrt(2.)))\n",
    "    BigPhi_xi_SPE = 0.5 * (1. + special.erf((spe_thr - 1.) / spe_res / np.sqrt(2.)))\n",
    "    sPE_belowThresh_percentile = (BigPhi_xi_SPE - BigPhi_alpha_SPE) / (1. - BigPhi_alpha_SPE)\n",
    "\n",
    "    BigPhi_alpha_DPE = 0.5 * (1. + special.erf(-2. / (np.sqrt(2.) * spe_res) / np.sqrt(2.)))\n",
    "    BigPhi_xi_DPE = 0.5 * (1. + special.erf((spe_thr - 2.) / (np.sqrt(2.) * spe_res) / np.sqrt(2.)))\n",
    "    dPE_belowThresh_percentile = (BigPhi_xi_DPE - BigPhi_alpha_DPE) / (1. - BigPhi_alpha_DPE)\n",
    "\n",
    "    belowThresh_percentile = sPE_belowThresh_percentile * (1. - double_pe_fraction) + \\\n",
    "        dPE_belowThresh_percentile * double_pe_fraction\n",
    "\n",
    "    for ph_det in np.arange(0, 6):\n",
    "        spe_eff_mod = spe_eff\n",
    "        if (spe_eff_mod < 1.):\n",
    "            spe_eff_mod += (1. - spe_eff_mod) / (2. * num_pmts) * ph_det\n",
    "        if (spe_eff_mod > 1.):\n",
    "            spe_eff_mod = 1.\n",
    "        p = spe_eff_mod * (1. - belowThresh_percentile)\n",
    "\n",
    "        binom_prob = 0\n",
    "        for spike in np.arange(1, 6):\n",
    "            binom_prob += stats.binom.pmf(spike, ph_det, p) * coin_dict[spike]\n",
    "\n",
    "        coin_table.append(binom_prob)\n",
    "\n",
    "    return coin_table\n"
   ]
  },
  {
   "cell_type": "markdown",
   "metadata": {},
   "source": [
    "Extraction Efficiency In Gas Phase "
   ]
  },
  {
   "cell_type": "code",
   "execution_count": 59,
   "metadata": {},
   "outputs": [
    {
     "name": "stdout",
     "output_type": "stream",
     "text": [
      "The extraction efficiency in Gas phase is  0.8993482035526084\n"
     ]
    }
   ],
   "source": [
    "temp=165 # <=160 raises error , solid phase Xe !\n",
    "gas_field=8 #kV/cm\n",
    "g1_gas= 0.0929 #g1,gas is the gaseous light collection in the centre of the (x-y) plane, this is LZ's value from ROb's thesis \n",
    "gas_gap=8.00 #mm, height of GXe in TPC, using LZ's value\n",
    "\n",
    "ex_eff=calculate_extraction_eff(gas_field,temp)\n",
    "\n",
    "print(\"The extraction efficiency in Gas phase is \",f'{ex_eff}') # Ex_eff is max at 160K, ofc for higher extraction fields it's higher (LZ operates at 8.4kV/cm)"
   ]
  },
  {
   "cell_type": "markdown",
   "metadata": {},
   "source": [
    "g2 Charge Amplification Factor"
   ]
  },
  {
   "cell_type": "code",
   "execution_count": 60,
   "metadata": {},
   "outputs": [
    {
     "name": "stdout",
     "output_type": "stream",
     "text": [
      "density of Gxe is  0.01985054358045955 g/cm^3\n",
      "The g2 factor is  44.65305146945426\n"
     ]
    }
   ],
   "source": [
    "def calculate_density_gas(temp, pressure):\n",
    "    \"\"\"Returns gaseous density in g/cm^3\n",
    "\n",
    "    \"\"\"\n",
    "    p_Pa = pressure * 1e5\n",
    "    density = 1 / (\n",
    "        pow(GAS_CONSTANT * temp, 3) /\n",
    "        (p_Pa * pow(GAS_CONSTANT * temp, 2) + XENON_VDW_A * p_Pa * p_Pa) +\n",
    "        XENON_VDW_B) \\\n",
    "        * A_XENON * 1e-6\n",
    "\n",
    "    return density\n",
    "\n",
    "\n",
    "density_gas=calculate_density_gas(temp,2)\n",
    "print(\"density of Gxe is \", f'{density_gas} g/cm^3')\n",
    "g2=calculate_g2(gas_field,density_gas,g1_gas,gas_gap,ex_eff)\n",
    "print(\"The g2 factor is \", f'{g2}')"
   ]
  },
  {
   "cell_type": "code",
   "execution_count": 61,
   "metadata": {},
   "outputs": [
    {
     "name": "stdout",
     "output_type": "stream",
     "text": [
      "LXe Density 2.942254428081469 g/cm^3\n",
      "drift_speed 1.4168004676359274 cm/ns\n"
     ]
    }
   ],
   "source": [
    "density_LXe=calculate_density(temp,2)\n",
    "print(\"LXe Density\", f'{density_LXe} g/cm^3')\n",
    "drift_speed=calculate_drift_velocity(80,density_LXe,temp)\n",
    "print(\"drift_speed\", f'{drift_speed} cm/ns')"
   ]
  },
  {
   "cell_type": "code",
   "execution_count": 6,
   "metadata": {},
   "outputs": [
    {
     "name": "stdout",
     "output_type": "stream",
     "text": [
      "[ 0 10 10  0  1  2]\n",
      "(array([0, 3]),)\n",
      "[10 10  1  2]\n"
     ]
    }
   ],
   "source": [
    "import numpy as np\n",
    "upper_lims_bands=[0,10,10,0,1,2]\n",
    "upper_lims_bands=np.array(upper_lims_bands)\n",
    "print(upper_lims_bands)\n",
    "print(np.where(upper_lims_bands==0))\n",
    "upper_lims_bands = upper_lims_bands[upper_lims_bands > 0.]\n",
    "print(upper_lims_bands)"
   ]
  }
 ],
 "metadata": {
  "kernelspec": {
   "display_name": "fire",
   "language": "python",
   "name": "python3"
  },
  "language_info": {
   "codemirror_mode": {
    "name": "ipython",
    "version": 3
   },
   "file_extension": ".py",
   "mimetype": "text/x-python",
   "name": "python",
   "nbconvert_exporter": "python",
   "pygments_lexer": "ipython3",
   "version": "3.12.4"
  }
 },
 "nbformat": 4,
 "nbformat_minor": 2
}
