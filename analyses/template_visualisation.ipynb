{
 "cells": [
  {
   "cell_type": "code",
   "execution_count": null,
   "metadata": {
    "tags": []
   },
   "outputs": [],
   "source": [
    "import numpy as np\n",
    "import matplotlib.pyplot as plt\n",
    "\n",
    "import pickle as pkl"
   ]
  },
  {
   "cell_type": "code",
   "execution_count": null,
   "metadata": {
    "tags": []
   },
   "outputs": [],
   "source": [
    "def plot_all_templates(templates_file):\n",
    "    templates = pkl.load(open(templates_file, 'rb'))\n",
    "    \n",
    "    background_templates = templates[0]\n",
    "    for sname, template in background_templates.items():\n",
    "        if len(np.shape(template)) == 3:\n",
    "            template.bin_edges = [template.bin_edges[0], template.bin_edges[1]]\n",
    "            template.histogram = np.sum(template.histogram, axis=2)\n",
    "            \n",
    "        plt.figure()\n",
    "        template.plot()\n",
    "        plt.title(f'{sname}: {template.n:.3f} counts / ty')\n",
    "    \n",
    "    signal_templates = templates[1]\n",
    "    for sname, template in signal_templates.items():\n",
    "        if len(np.shape(template)) == 3:\n",
    "            template.bin_edges = [template.bin_edges[0], template.bin_edges[1]]\n",
    "            template.histogram = np.sum(template.histogram, axis=2)\n",
    "            \n",
    "        plt.figure()\n",
    "        template.plot()\n",
    "        plt.title(f'{sname}: {template.n:.3f} counts / ty')"
   ]
  },
  {
   "cell_type": "code",
   "execution_count": null,
   "metadata": {},
   "outputs": [],
   "source": [
    "plot_all_templates('v1.0_nominal_SI_WIMP.pkl')"
   ]
  },
  {
   "cell_type": "code",
   "execution_count": null,
   "metadata": {},
   "outputs": [],
   "source": [
    "plot_all_templates('v1.0_nominal_EFT_O6_s_WIMP.pkl')"
   ]
  },
  {
   "cell_type": "code",
   "execution_count": null,
   "metadata": {},
   "outputs": [],
   "source": []
  }
 ],
 "metadata": {
  "kernelspec": {
   "display_name": "flamedisx",
   "language": "python",
   "name": "flamedisx"
  },
  "language_info": {
   "codemirror_mode": {
    "name": "ipython",
    "version": 3
   },
   "file_extension": ".py",
   "mimetype": "text/x-python",
   "name": "python",
   "nbconvert_exporter": "python",
   "pygments_lexer": "ipython3",
   "version": "3.11.13"
  }
 },
 "nbformat": 4,
 "nbformat_minor": 4
}
