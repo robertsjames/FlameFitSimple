{
 "cells": [
  {
   "cell_type": "code",
   "execution_count": 1,
   "metadata": {},
   "outputs": [],
   "source": [
    "import os"
   ]
  },
  {
   "cell_type": "code",
   "execution_count": 2,
   "metadata": {},
   "outputs": [
    {
     "name": "stdout",
     "output_type": "stream",
     "text": [
      "------------------------------------------\n",
      "Migdal ionisation probabilities\n",
      "P. Cox, M. Dolan, C. McCabe, H. Quiney (2022)\n",
      "arXiv:2208.12222\n",
      "------------------------------------------\n"
     ]
    },
    {
     "name": "stderr",
     "output_type": "stream",
     "text": [
      "/Users/amirr/Desktop/Flame/wimprates/wimprates/__init__.py:6: UserWarning: Default WIMP parameters are changed in accordance with https://arxiv.org/abs/2105.00599 (github.com/JelleAalbers/wimprates/pull/14)\n",
      "  warnings.warn(\n"
     ]
    }
   ],
   "source": [
    "# Running the Likelihood builder.py \n",
    "os.chdir('/Users/amirr/Desktop/Flame/FlameFitSimple/analyses')\n",
    "%run create_simple_template_likelihood.py \\\n",
    "    -c wimp_sensitivity/likelihood_configs/SI_40t_140ty.ini \\\n",
    "    -t wimp_sensitivity/PDFs/pdfs_mig_SI_60t_0.2-2.0Gev_test_AC.pkl \\\n",
    "    -o SI_60t_140ty_mig_0.2-2.0Gev_500toys_40_mu_AC_test\n",
    "# The output upkl file gets stored in the same analsyses directory, but a new liklihood directory also gets created\n"
   ]
  },
  {
   "cell_type": "code",
   "execution_count": 3,
   "metadata": {},
   "outputs": [
    {
     "name": "stdout",
     "output_type": "stream",
     "text": [
      "submit_batch.sh: line 23: module: command not found\n",
      "\n",
      "CondaError: Run 'conda init' before 'conda activate'\n",
      "\n",
      "/Users/amirr/Desktop/Flame/wimprates/wimprates/__init__.py:6: UserWarning: Default WIMP parameters are changed in accordance with https://arxiv.org/abs/2105.00599 (github.com/JelleAalbers/wimprates/pull/14)\n",
      "  warnings.warn(\n",
      "------------------------------------------\n",
      "Migdal ionisation probabilities\n",
      "P. Cox, M. Dolan, C. McCabe, H. Quiney (2022)\n",
      "arXiv:2208.12222\n",
      "------------------------------------------\n",
      "/Users/amirr/Desktop/Flame/flamedisx/flamedisx/source.py:271: UserWarning: Defaults for unused settings ignored: {'max_sigma': None, 'max_sigma_outer': None}\n",
      "  warnings.warn(f\"Defaults for unused settings ignored: {unused}\")\n",
      "Estimating mus: 0it [00:00, ?it/s]\n",
      "Estimating mus: 0it [00:00, ?it/s]\n",
      "Estimating mus: 0it [00:00, ?it/s]\n",
      "Estimating mus: 0it [00:00, ?it/s]\n",
      "Estimating mus: 0it [00:00, ?it/s]\n",
      "Estimating mus: 0it [00:00, ?it/s]\n",
      "Estimating mus: 0it [00:00, ?it/s]\n",
      "Estimating mus: 0it [00:00, ?it/s]\n",
      "Background-only toys: 100%|██████████████████| 500/500 [00:02<00:00, 249.69it/s]\n",
      "submit_batch.sh: line 28: srun: command not found\n"
     ]
    }
   ],
   "source": [
    "!bash submit_batch.sh likelihoods/SI_60t_140ty_mig_0.2-2.0Gev_500toys_40_mu_AC_test.pkl create_simple_template_likelihood wimp_sensitivity/inference_configs/SI_WIMP.ini outputs/SI_60t_140ty_mig_0.2-2.0Gev_500toys_40_mu_AC_test\n",
    "\n",
    "\n",
    "# You forgot to run this script, it creates the missing pkl_0 file "
   ]
  },
  {
   "cell_type": "code",
   "execution_count": 4,
   "metadata": {},
   "outputs": [
    {
     "name": "stderr",
     "output_type": "stream",
     "text": [
      "/Users/amirr/Desktop/Flame/flamedisx/flamedisx/source.py:271: UserWarning: Defaults for unused settings ignored: {'max_sigma': None, 'max_sigma_outer': None}\n",
      "  warnings.warn(f\"Defaults for unused settings ignored: {unused}\")\n"
     ]
    },
    {
     "name": "stdout",
     "output_type": "stream",
     "text": [
      "Mass-to-mu ranges:\n",
      "(0.1, 0.4, 0.1, 20.0)\n",
      "(0.4, 0.9, 1.0, 70.0)\n",
      "(0.9, 1.4, 5.0, 60.0)\n",
      "(1.4, 2.8, 10.0, 100.0)\n"
     ]
    },
    {
     "name": "stderr",
     "output_type": "stream",
     "text": [
      "Estimating mus: 0it [00:00, ?it/s]\n",
      "Estimating mus: 0it [00:00, ?it/s]\n",
      "Estimating mus: 0it [00:00, ?it/s]\n",
      "Estimating mus: 0it [00:00, ?it/s]\n",
      "Estimating mus: 0it [00:00, ?it/s]\n",
      "Estimating mus: 0it [00:00, ?it/s]\n",
      "Estimating mus: 0it [00:00, ?it/s]\n",
      "Estimating mus: 0it [00:00, ?it/s]\n"
     ]
    },
    {
     "data": {
      "application/vnd.jupyter.widget-view+json": {
       "model_id": "ee5e6d68a4b3424f81615257aac7427a",
       "version_major": 2,
       "version_minor": 0
      },
      "text/plain": [
       "Scanning over mus:   0%|          | 0/40 [00:00<?, ?it/s]"
      ]
     },
     "metadata": {},
     "output_type": "display_data"
    },
    {
     "data": {
      "application/vnd.jupyter.widget-view+json": {
       "model_id": "b5c51e13570c4e6181c114cb9df7bd8d",
       "version_major": 2,
       "version_minor": 0
      },
      "text/plain": [
       "Doing toys:   0%|          | 0/500 [00:00<?, ?it/s]"
      ]
     },
     "metadata": {},
     "output_type": "display_data"
    },
    {
     "data": {
      "application/vnd.jupyter.widget-view+json": {
       "model_id": "415027c589b1472ab1abcb12087eed1c",
       "version_major": 2,
       "version_minor": 0
      },
      "text/plain": [
       "Doing toys:   0%|          | 0/500 [00:00<?, ?it/s]"
      ]
     },
     "metadata": {},
     "output_type": "display_data"
    },
    {
     "data": {
      "application/vnd.jupyter.widget-view+json": {
       "model_id": "16ac1b64ca7145009f36a86513c690e1",
       "version_major": 2,
       "version_minor": 0
      },
      "text/plain": [
       "Doing toys:   0%|          | 0/500 [00:00<?, ?it/s]"
      ]
     },
     "metadata": {},
     "output_type": "display_data"
    },
    {
     "data": {
      "application/vnd.jupyter.widget-view+json": {
       "model_id": "8cb77a8da8b94d3985d555b123e5e811",
       "version_major": 2,
       "version_minor": 0
      },
      "text/plain": [
       "Doing toys:   0%|          | 0/500 [00:00<?, ?it/s]"
      ]
     },
     "metadata": {},
     "output_type": "display_data"
    },
    {
     "data": {
      "application/vnd.jupyter.widget-view+json": {
       "model_id": "2f432ae7ba934335b1438e45d68c864d",
       "version_major": 2,
       "version_minor": 0
      },
      "text/plain": [
       "Doing toys:   0%|          | 0/500 [00:00<?, ?it/s]"
      ]
     },
     "metadata": {},
     "output_type": "display_data"
    },
    {
     "data": {
      "application/vnd.jupyter.widget-view+json": {
       "model_id": "de01824371224240a3ddb31a6dd177f1",
       "version_major": 2,
       "version_minor": 0
      },
      "text/plain": [
       "Doing toys:   0%|          | 0/500 [00:00<?, ?it/s]"
      ]
     },
     "metadata": {},
     "output_type": "display_data"
    },
    {
     "data": {
      "application/vnd.jupyter.widget-view+json": {
       "model_id": "eb3894df000744bd912ee42f9ca91c92",
       "version_major": 2,
       "version_minor": 0
      },
      "text/plain": [
       "Doing toys:   0%|          | 0/500 [00:00<?, ?it/s]"
      ]
     },
     "metadata": {},
     "output_type": "display_data"
    },
    {
     "data": {
      "application/vnd.jupyter.widget-view+json": {
       "model_id": "345965437a0845c4b07d1c005bde3d6d",
       "version_major": 2,
       "version_minor": 0
      },
      "text/plain": [
       "Doing toys:   0%|          | 0/500 [00:00<?, ?it/s]"
      ]
     },
     "metadata": {},
     "output_type": "display_data"
    },
    {
     "data": {
      "application/vnd.jupyter.widget-view+json": {
       "model_id": "7e08076b15304f47904e252cdf371396",
       "version_major": 2,
       "version_minor": 0
      },
      "text/plain": [
       "Doing toys:   0%|          | 0/500 [00:00<?, ?it/s]"
      ]
     },
     "metadata": {},
     "output_type": "display_data"
    },
    {
     "data": {
      "application/vnd.jupyter.widget-view+json": {
       "model_id": "292c58bd94814afdb73ea5a0914b974b",
       "version_major": 2,
       "version_minor": 0
      },
      "text/plain": [
       "Doing toys:   0%|          | 0/500 [00:00<?, ?it/s]"
      ]
     },
     "metadata": {},
     "output_type": "display_data"
    },
    {
     "data": {
      "application/vnd.jupyter.widget-view+json": {
       "model_id": "645c5c53389546488d34e1e85f9e3995",
       "version_major": 2,
       "version_minor": 0
      },
      "text/plain": [
       "Doing toys:   0%|          | 0/500 [00:00<?, ?it/s]"
      ]
     },
     "metadata": {},
     "output_type": "display_data"
    },
    {
     "data": {
      "application/vnd.jupyter.widget-view+json": {
       "model_id": "f6ea9ccbef614aa381f09aaa6794c000",
       "version_major": 2,
       "version_minor": 0
      },
      "text/plain": [
       "Doing toys:   0%|          | 0/500 [00:00<?, ?it/s]"
      ]
     },
     "metadata": {},
     "output_type": "display_data"
    },
    {
     "data": {
      "application/vnd.jupyter.widget-view+json": {
       "model_id": "f4f482b0d34c4107a550305af619e584",
       "version_major": 2,
       "version_minor": 0
      },
      "text/plain": [
       "Doing toys:   0%|          | 0/500 [00:00<?, ?it/s]"
      ]
     },
     "metadata": {},
     "output_type": "display_data"
    },
    {
     "data": {
      "application/vnd.jupyter.widget-view+json": {
       "model_id": "41e40b44f5724061aadb40fc210c8b7c",
       "version_major": 2,
       "version_minor": 0
      },
      "text/plain": [
       "Doing toys:   0%|          | 0/500 [00:00<?, ?it/s]"
      ]
     },
     "metadata": {},
     "output_type": "display_data"
    },
    {
     "data": {
      "application/vnd.jupyter.widget-view+json": {
       "model_id": "045d4a02ce294ff993cf13aa383bb899",
       "version_major": 2,
       "version_minor": 0
      },
      "text/plain": [
       "Doing toys:   0%|          | 0/500 [00:00<?, ?it/s]"
      ]
     },
     "metadata": {},
     "output_type": "display_data"
    },
    {
     "data": {
      "application/vnd.jupyter.widget-view+json": {
       "model_id": "d9a92ab1671b45f286c28126687a6c16",
       "version_major": 2,
       "version_minor": 0
      },
      "text/plain": [
       "Doing toys:   0%|          | 0/500 [00:00<?, ?it/s]"
      ]
     },
     "metadata": {},
     "output_type": "display_data"
    },
    {
     "data": {
      "application/vnd.jupyter.widget-view+json": {
       "model_id": "696acbc8001a4296836633a75d15411c",
       "version_major": 2,
       "version_minor": 0
      },
      "text/plain": [
       "Doing toys:   0%|          | 0/500 [00:00<?, ?it/s]"
      ]
     },
     "metadata": {},
     "output_type": "display_data"
    },
    {
     "data": {
      "application/vnd.jupyter.widget-view+json": {
       "model_id": "f10867c36ed04040972e63be606dc3e8",
       "version_major": 2,
       "version_minor": 0
      },
      "text/plain": [
       "Doing toys:   0%|          | 0/500 [00:00<?, ?it/s]"
      ]
     },
     "metadata": {},
     "output_type": "display_data"
    },
    {
     "data": {
      "application/vnd.jupyter.widget-view+json": {
       "model_id": "4ca6f8b8b51f4cc2b83a651342643e57",
       "version_major": 2,
       "version_minor": 0
      },
      "text/plain": [
       "Doing toys:   0%|          | 0/500 [00:00<?, ?it/s]"
      ]
     },
     "metadata": {},
     "output_type": "display_data"
    },
    {
     "data": {
      "application/vnd.jupyter.widget-view+json": {
       "model_id": "014832e53c79419b98e1b68d8142658e",
       "version_major": 2,
       "version_minor": 0
      },
      "text/plain": [
       "Doing toys:   0%|          | 0/500 [00:00<?, ?it/s]"
      ]
     },
     "metadata": {},
     "output_type": "display_data"
    },
    {
     "data": {
      "application/vnd.jupyter.widget-view+json": {
       "model_id": "00b696823c774ea681c7ef03758636c7",
       "version_major": 2,
       "version_minor": 0
      },
      "text/plain": [
       "Doing toys:   0%|          | 0/500 [00:00<?, ?it/s]"
      ]
     },
     "metadata": {},
     "output_type": "display_data"
    },
    {
     "data": {
      "application/vnd.jupyter.widget-view+json": {
       "model_id": "5c4d61397f88451a9ddaa8ad12f3f73d",
       "version_major": 2,
       "version_minor": 0
      },
      "text/plain": [
       "Doing toys:   0%|          | 0/500 [00:00<?, ?it/s]"
      ]
     },
     "metadata": {},
     "output_type": "display_data"
    },
    {
     "data": {
      "application/vnd.jupyter.widget-view+json": {
       "model_id": "86f9abf436cd4e44840d8a75efd6ed75",
       "version_major": 2,
       "version_minor": 0
      },
      "text/plain": [
       "Doing toys:   0%|          | 0/500 [00:00<?, ?it/s]"
      ]
     },
     "metadata": {},
     "output_type": "display_data"
    },
    {
     "data": {
      "application/vnd.jupyter.widget-view+json": {
       "model_id": "c7408fff3e554a568c0079f6a46942a8",
       "version_major": 2,
       "version_minor": 0
      },
      "text/plain": [
       "Doing toys:   0%|          | 0/500 [00:00<?, ?it/s]"
      ]
     },
     "metadata": {},
     "output_type": "display_data"
    },
    {
     "data": {
      "application/vnd.jupyter.widget-view+json": {
       "model_id": "e39e435065e04ac7a52d4063ecf24ac9",
       "version_major": 2,
       "version_minor": 0
      },
      "text/plain": [
       "Doing toys:   0%|          | 0/500 [00:00<?, ?it/s]"
      ]
     },
     "metadata": {},
     "output_type": "display_data"
    },
    {
     "data": {
      "application/vnd.jupyter.widget-view+json": {
       "model_id": "69e897db3ed24025a5a89010b6dcd218",
       "version_major": 2,
       "version_minor": 0
      },
      "text/plain": [
       "Doing toys:   0%|          | 0/500 [00:00<?, ?it/s]"
      ]
     },
     "metadata": {},
     "output_type": "display_data"
    },
    {
     "data": {
      "application/vnd.jupyter.widget-view+json": {
       "model_id": "4df58ea95a314c1c85e0ee42443a4294",
       "version_major": 2,
       "version_minor": 0
      },
      "text/plain": [
       "Doing toys:   0%|          | 0/500 [00:00<?, ?it/s]"
      ]
     },
     "metadata": {},
     "output_type": "display_data"
    },
    {
     "data": {
      "application/vnd.jupyter.widget-view+json": {
       "model_id": "c33f259d1d574d84aaaa6fd6a4b6d1ed",
       "version_major": 2,
       "version_minor": 0
      },
      "text/plain": [
       "Doing toys:   0%|          | 0/500 [00:00<?, ?it/s]"
      ]
     },
     "metadata": {},
     "output_type": "display_data"
    },
    {
     "data": {
      "application/vnd.jupyter.widget-view+json": {
       "model_id": "6d8e45064e1f474ca1fa2354a7ceee82",
       "version_major": 2,
       "version_minor": 0
      },
      "text/plain": [
       "Doing toys:   0%|          | 0/500 [00:00<?, ?it/s]"
      ]
     },
     "metadata": {},
     "output_type": "display_data"
    },
    {
     "data": {
      "application/vnd.jupyter.widget-view+json": {
       "model_id": "5f2a5a5c0c7f4d44a3d14857a310eb96",
       "version_major": 2,
       "version_minor": 0
      },
      "text/plain": [
       "Doing toys:   0%|          | 0/500 [00:00<?, ?it/s]"
      ]
     },
     "metadata": {},
     "output_type": "display_data"
    },
    {
     "data": {
      "application/vnd.jupyter.widget-view+json": {
       "model_id": "bfa950e64b32432e89fcdcb2f588eff8",
       "version_major": 2,
       "version_minor": 0
      },
      "text/plain": [
       "Doing toys:   0%|          | 0/500 [00:00<?, ?it/s]"
      ]
     },
     "metadata": {},
     "output_type": "display_data"
    },
    {
     "data": {
      "application/vnd.jupyter.widget-view+json": {
       "model_id": "e7826295ae1942e6a5c9707d16c30a7d",
       "version_major": 2,
       "version_minor": 0
      },
      "text/plain": [
       "Doing toys:   0%|          | 0/500 [00:00<?, ?it/s]"
      ]
     },
     "metadata": {},
     "output_type": "display_data"
    },
    {
     "data": {
      "application/vnd.jupyter.widget-view+json": {
       "model_id": "c57e9457737e48e8b87ee6e99fa0d6f8",
       "version_major": 2,
       "version_minor": 0
      },
      "text/plain": [
       "Doing toys:   0%|          | 0/500 [00:00<?, ?it/s]"
      ]
     },
     "metadata": {},
     "output_type": "display_data"
    },
    {
     "data": {
      "application/vnd.jupyter.widget-view+json": {
       "model_id": "6c6ed6b1eb844b91a1eac5a973e0f4ae",
       "version_major": 2,
       "version_minor": 0
      },
      "text/plain": [
       "Doing toys:   0%|          | 0/500 [00:00<?, ?it/s]"
      ]
     },
     "metadata": {},
     "output_type": "display_data"
    },
    {
     "data": {
      "application/vnd.jupyter.widget-view+json": {
       "model_id": "27c7d5797be64d7ab3e6b131bdc60ccd",
       "version_major": 2,
       "version_minor": 0
      },
      "text/plain": [
       "Doing toys:   0%|          | 0/500 [00:00<?, ?it/s]"
      ]
     },
     "metadata": {},
     "output_type": "display_data"
    },
    {
     "data": {
      "application/vnd.jupyter.widget-view+json": {
       "model_id": "35332d0c314a45e9b45f1852f7746616",
       "version_major": 2,
       "version_minor": 0
      },
      "text/plain": [
       "Doing toys:   0%|          | 0/500 [00:00<?, ?it/s]"
      ]
     },
     "metadata": {},
     "output_type": "display_data"
    },
    {
     "data": {
      "application/vnd.jupyter.widget-view+json": {
       "model_id": "e0fcf3691b7e44a6ac02289a917bb2f5",
       "version_major": 2,
       "version_minor": 0
      },
      "text/plain": [
       "Doing toys:   0%|          | 0/500 [00:00<?, ?it/s]"
      ]
     },
     "metadata": {},
     "output_type": "display_data"
    },
    {
     "data": {
      "application/vnd.jupyter.widget-view+json": {
       "model_id": "8076c9182d6c4c2c84faea4817da9a6d",
       "version_major": 2,
       "version_minor": 0
      },
      "text/plain": [
       "Doing toys:   0%|          | 0/500 [00:00<?, ?it/s]"
      ]
     },
     "metadata": {},
     "output_type": "display_data"
    },
    {
     "data": {
      "application/vnd.jupyter.widget-view+json": {
       "model_id": "bb656b29ea9044c18259a9f90cf0c299",
       "version_major": 2,
       "version_minor": 0
      },
      "text/plain": [
       "Doing toys:   0%|          | 0/500 [00:00<?, ?it/s]"
      ]
     },
     "metadata": {},
     "output_type": "display_data"
    },
    {
     "data": {
      "application/vnd.jupyter.widget-view+json": {
       "model_id": "dad7fb25283d4499bacd95ba2defd363",
       "version_major": 2,
       "version_minor": 0
      },
      "text/plain": [
       "Doing toys:   0%|          | 0/500 [00:00<?, ?it/s]"
      ]
     },
     "metadata": {},
     "output_type": "display_data"
    },
    {
     "name": "stderr",
     "output_type": "stream",
     "text": [
      "/Users/amirr/Desktop/Flame/flamedisx/flamedisx/source.py:271: UserWarning: Defaults for unused settings ignored: {'max_sigma': None, 'max_sigma_outer': None}\n",
      "  warnings.warn(f\"Defaults for unused settings ignored: {unused}\")\n",
      "Estimating mus: 0it [00:00, ?it/s]\n",
      "Estimating mus: 0it [00:00, ?it/s]\n",
      "Estimating mus: 0it [00:00, ?it/s]\n",
      "Estimating mus: 0it [00:00, ?it/s]\n",
      "Estimating mus: 0it [00:00, ?it/s]\n",
      "Estimating mus: 0it [00:00, ?it/s]\n",
      "Estimating mus: 0it [00:00, ?it/s]\n",
      "Estimating mus: 0it [00:00, ?it/s]\n"
     ]
    },
    {
     "data": {
      "application/vnd.jupyter.widget-view+json": {
       "model_id": "85504bd189df4ed88a53d74279273ac5",
       "version_major": 2,
       "version_minor": 0
      },
      "text/plain": [
       "Scanning over mus:   0%|          | 0/40 [00:00<?, ?it/s]"
      ]
     },
     "metadata": {},
     "output_type": "display_data"
    },
    {
     "data": {
      "application/vnd.jupyter.widget-view+json": {
       "model_id": "5dd9bbf6bf804754b8cf6c616a350937",
       "version_major": 2,
       "version_minor": 0
      },
      "text/plain": [
       "Doing toys:   0%|          | 0/500 [00:00<?, ?it/s]"
      ]
     },
     "metadata": {},
     "output_type": "display_data"
    },
    {
     "data": {
      "application/vnd.jupyter.widget-view+json": {
       "model_id": "ea61c444860044eba759f64b90954ee1",
       "version_major": 2,
       "version_minor": 0
      },
      "text/plain": [
       "Doing toys:   0%|          | 0/500 [00:00<?, ?it/s]"
      ]
     },
     "metadata": {},
     "output_type": "display_data"
    },
    {
     "data": {
      "application/vnd.jupyter.widget-view+json": {
       "model_id": "9f5342b6f38d45cca498ecda2a500fa0",
       "version_major": 2,
       "version_minor": 0
      },
      "text/plain": [
       "Doing toys:   0%|          | 0/500 [00:00<?, ?it/s]"
      ]
     },
     "metadata": {},
     "output_type": "display_data"
    },
    {
     "data": {
      "application/vnd.jupyter.widget-view+json": {
       "model_id": "648fbfe56fe24e7593ddfe3541295c57",
       "version_major": 2,
       "version_minor": 0
      },
      "text/plain": [
       "Doing toys:   0%|          | 0/500 [00:00<?, ?it/s]"
      ]
     },
     "metadata": {},
     "output_type": "display_data"
    },
    {
     "data": {
      "application/vnd.jupyter.widget-view+json": {
       "model_id": "976ecf65efd64c08bbab1adb20d3accf",
       "version_major": 2,
       "version_minor": 0
      },
      "text/plain": [
       "Doing toys:   0%|          | 0/500 [00:00<?, ?it/s]"
      ]
     },
     "metadata": {},
     "output_type": "display_data"
    },
    {
     "data": {
      "application/vnd.jupyter.widget-view+json": {
       "model_id": "64059a078ce54a45844bd419ceb82383",
       "version_major": 2,
       "version_minor": 0
      },
      "text/plain": [
       "Doing toys:   0%|          | 0/500 [00:00<?, ?it/s]"
      ]
     },
     "metadata": {},
     "output_type": "display_data"
    },
    {
     "data": {
      "application/vnd.jupyter.widget-view+json": {
       "model_id": "c664289e78704e4383afb235c0311e09",
       "version_major": 2,
       "version_minor": 0
      },
      "text/plain": [
       "Doing toys:   0%|          | 0/500 [00:00<?, ?it/s]"
      ]
     },
     "metadata": {},
     "output_type": "display_data"
    },
    {
     "data": {
      "application/vnd.jupyter.widget-view+json": {
       "model_id": "0ba99e7c331542d385e3ce056c224bef",
       "version_major": 2,
       "version_minor": 0
      },
      "text/plain": [
       "Doing toys:   0%|          | 0/500 [00:00<?, ?it/s]"
      ]
     },
     "metadata": {},
     "output_type": "display_data"
    },
    {
     "data": {
      "application/vnd.jupyter.widget-view+json": {
       "model_id": "a7b9481cb87b49d88917f7f27b405dd4",
       "version_major": 2,
       "version_minor": 0
      },
      "text/plain": [
       "Doing toys:   0%|          | 0/500 [00:00<?, ?it/s]"
      ]
     },
     "metadata": {},
     "output_type": "display_data"
    },
    {
     "data": {
      "application/vnd.jupyter.widget-view+json": {
       "model_id": "e267c11aaae64cb8a2f04732af9364b6",
       "version_major": 2,
       "version_minor": 0
      },
      "text/plain": [
       "Doing toys:   0%|          | 0/500 [00:00<?, ?it/s]"
      ]
     },
     "metadata": {},
     "output_type": "display_data"
    },
    {
     "data": {
      "application/vnd.jupyter.widget-view+json": {
       "model_id": "dc88977b9b484046a8861c3a38a74c68",
       "version_major": 2,
       "version_minor": 0
      },
      "text/plain": [
       "Doing toys:   0%|          | 0/500 [00:00<?, ?it/s]"
      ]
     },
     "metadata": {},
     "output_type": "display_data"
    },
    {
     "data": {
      "application/vnd.jupyter.widget-view+json": {
       "model_id": "951094340d184a53b819c411c30116de",
       "version_major": 2,
       "version_minor": 0
      },
      "text/plain": [
       "Doing toys:   0%|          | 0/500 [00:00<?, ?it/s]"
      ]
     },
     "metadata": {},
     "output_type": "display_data"
    },
    {
     "data": {
      "application/vnd.jupyter.widget-view+json": {
       "model_id": "85a00b0ba4554156a336c9196eed3631",
       "version_major": 2,
       "version_minor": 0
      },
      "text/plain": [
       "Doing toys:   0%|          | 0/500 [00:00<?, ?it/s]"
      ]
     },
     "metadata": {},
     "output_type": "display_data"
    },
    {
     "data": {
      "application/vnd.jupyter.widget-view+json": {
       "model_id": "6ad159e998134afabccd6340e2b695fc",
       "version_major": 2,
       "version_minor": 0
      },
      "text/plain": [
       "Doing toys:   0%|          | 0/500 [00:00<?, ?it/s]"
      ]
     },
     "metadata": {},
     "output_type": "display_data"
    },
    {
     "data": {
      "application/vnd.jupyter.widget-view+json": {
       "model_id": "12dd654dcc3b45229272d8623d8cafec",
       "version_major": 2,
       "version_minor": 0
      },
      "text/plain": [
       "Doing toys:   0%|          | 0/500 [00:00<?, ?it/s]"
      ]
     },
     "metadata": {},
     "output_type": "display_data"
    },
    {
     "data": {
      "application/vnd.jupyter.widget-view+json": {
       "model_id": "1ec1c1807da74bd7a59b990e11279bd1",
       "version_major": 2,
       "version_minor": 0
      },
      "text/plain": [
       "Doing toys:   0%|          | 0/500 [00:00<?, ?it/s]"
      ]
     },
     "metadata": {},
     "output_type": "display_data"
    },
    {
     "data": {
      "application/vnd.jupyter.widget-view+json": {
       "model_id": "7f384f0187874866a14e60a89be9ec4b",
       "version_major": 2,
       "version_minor": 0
      },
      "text/plain": [
       "Doing toys:   0%|          | 0/500 [00:00<?, ?it/s]"
      ]
     },
     "metadata": {},
     "output_type": "display_data"
    },
    {
     "data": {
      "application/vnd.jupyter.widget-view+json": {
       "model_id": "6cd69e7962564c19833f92ca1da78a4c",
       "version_major": 2,
       "version_minor": 0
      },
      "text/plain": [
       "Doing toys:   0%|          | 0/500 [00:00<?, ?it/s]"
      ]
     },
     "metadata": {},
     "output_type": "display_data"
    },
    {
     "data": {
      "application/vnd.jupyter.widget-view+json": {
       "model_id": "9def23cdd1f142f9bba4146d39f7e2e5",
       "version_major": 2,
       "version_minor": 0
      },
      "text/plain": [
       "Doing toys:   0%|          | 0/500 [00:00<?, ?it/s]"
      ]
     },
     "metadata": {},
     "output_type": "display_data"
    },
    {
     "data": {
      "application/vnd.jupyter.widget-view+json": {
       "model_id": "ec986f8f56ab41a0b6c9809a8631983f",
       "version_major": 2,
       "version_minor": 0
      },
      "text/plain": [
       "Doing toys:   0%|          | 0/500 [00:00<?, ?it/s]"
      ]
     },
     "metadata": {},
     "output_type": "display_data"
    },
    {
     "data": {
      "application/vnd.jupyter.widget-view+json": {
       "model_id": "fba5c1a521cb45c698945da40ec25bd1",
       "version_major": 2,
       "version_minor": 0
      },
      "text/plain": [
       "Doing toys:   0%|          | 0/500 [00:00<?, ?it/s]"
      ]
     },
     "metadata": {},
     "output_type": "display_data"
    },
    {
     "data": {
      "application/vnd.jupyter.widget-view+json": {
       "model_id": "89afc9d125654da18088b9c4d731be90",
       "version_major": 2,
       "version_minor": 0
      },
      "text/plain": [
       "Doing toys:   0%|          | 0/500 [00:00<?, ?it/s]"
      ]
     },
     "metadata": {},
     "output_type": "display_data"
    },
    {
     "data": {
      "application/vnd.jupyter.widget-view+json": {
       "model_id": "520dd0eb912c4724938ed9d55d463026",
       "version_major": 2,
       "version_minor": 0
      },
      "text/plain": [
       "Doing toys:   0%|          | 0/500 [00:00<?, ?it/s]"
      ]
     },
     "metadata": {},
     "output_type": "display_data"
    },
    {
     "data": {
      "application/vnd.jupyter.widget-view+json": {
       "model_id": "6d652176b7e140e38370474fd36a1abe",
       "version_major": 2,
       "version_minor": 0
      },
      "text/plain": [
       "Doing toys:   0%|          | 0/500 [00:00<?, ?it/s]"
      ]
     },
     "metadata": {},
     "output_type": "display_data"
    },
    {
     "data": {
      "application/vnd.jupyter.widget-view+json": {
       "model_id": "a22d64349054476e8f04b9a35dd873e0",
       "version_major": 2,
       "version_minor": 0
      },
      "text/plain": [
       "Doing toys:   0%|          | 0/500 [00:00<?, ?it/s]"
      ]
     },
     "metadata": {},
     "output_type": "display_data"
    },
    {
     "data": {
      "application/vnd.jupyter.widget-view+json": {
       "model_id": "0ab67258042244519ecc22efc15cbf6a",
       "version_major": 2,
       "version_minor": 0
      },
      "text/plain": [
       "Doing toys:   0%|          | 0/500 [00:00<?, ?it/s]"
      ]
     },
     "metadata": {},
     "output_type": "display_data"
    },
    {
     "data": {
      "application/vnd.jupyter.widget-view+json": {
       "model_id": "f76d475b2b9743f9934fd12655196519",
       "version_major": 2,
       "version_minor": 0
      },
      "text/plain": [
       "Doing toys:   0%|          | 0/500 [00:00<?, ?it/s]"
      ]
     },
     "metadata": {},
     "output_type": "display_data"
    },
    {
     "data": {
      "application/vnd.jupyter.widget-view+json": {
       "model_id": "2e6c192ea9984f5086eb5de500e0b249",
       "version_major": 2,
       "version_minor": 0
      },
      "text/plain": [
       "Doing toys:   0%|          | 0/500 [00:00<?, ?it/s]"
      ]
     },
     "metadata": {},
     "output_type": "display_data"
    },
    {
     "data": {
      "application/vnd.jupyter.widget-view+json": {
       "model_id": "d798f31767374e508f68b2a55e1c1be5",
       "version_major": 2,
       "version_minor": 0
      },
      "text/plain": [
       "Doing toys:   0%|          | 0/500 [00:00<?, ?it/s]"
      ]
     },
     "metadata": {},
     "output_type": "display_data"
    },
    {
     "data": {
      "application/vnd.jupyter.widget-view+json": {
       "model_id": "342b72393c5d41f691d076898dc9a545",
       "version_major": 2,
       "version_minor": 0
      },
      "text/plain": [
       "Doing toys:   0%|          | 0/500 [00:00<?, ?it/s]"
      ]
     },
     "metadata": {},
     "output_type": "display_data"
    },
    {
     "data": {
      "application/vnd.jupyter.widget-view+json": {
       "model_id": "83dad77187734e33851a45e676d40a04",
       "version_major": 2,
       "version_minor": 0
      },
      "text/plain": [
       "Doing toys:   0%|          | 0/500 [00:00<?, ?it/s]"
      ]
     },
     "metadata": {},
     "output_type": "display_data"
    },
    {
     "data": {
      "application/vnd.jupyter.widget-view+json": {
       "model_id": "0f0e930424514621979a26c611d73880",
       "version_major": 2,
       "version_minor": 0
      },
      "text/plain": [
       "Doing toys:   0%|          | 0/500 [00:00<?, ?it/s]"
      ]
     },
     "metadata": {},
     "output_type": "display_data"
    },
    {
     "data": {
      "application/vnd.jupyter.widget-view+json": {
       "model_id": "cd1d333a87f4448298033c604e6233a5",
       "version_major": 2,
       "version_minor": 0
      },
      "text/plain": [
       "Doing toys:   0%|          | 0/500 [00:00<?, ?it/s]"
      ]
     },
     "metadata": {},
     "output_type": "display_data"
    },
    {
     "data": {
      "application/vnd.jupyter.widget-view+json": {
       "model_id": "035f9f4311df4dda8243379ec04574ab",
       "version_major": 2,
       "version_minor": 0
      },
      "text/plain": [
       "Doing toys:   0%|          | 0/500 [00:00<?, ?it/s]"
      ]
     },
     "metadata": {},
     "output_type": "display_data"
    },
    {
     "data": {
      "application/vnd.jupyter.widget-view+json": {
       "model_id": "3b570b0ff9024ea484ac7af65e7e2907",
       "version_major": 2,
       "version_minor": 0
      },
      "text/plain": [
       "Doing toys:   0%|          | 0/500 [00:00<?, ?it/s]"
      ]
     },
     "metadata": {},
     "output_type": "display_data"
    },
    {
     "data": {
      "application/vnd.jupyter.widget-view+json": {
       "model_id": "e937d5ecc08145a1998816f3ae043228",
       "version_major": 2,
       "version_minor": 0
      },
      "text/plain": [
       "Doing toys:   0%|          | 0/500 [00:00<?, ?it/s]"
      ]
     },
     "metadata": {},
     "output_type": "display_data"
    },
    {
     "data": {
      "application/vnd.jupyter.widget-view+json": {
       "model_id": "671bd01abf8e457cae36878b310c6bcb",
       "version_major": 2,
       "version_minor": 0
      },
      "text/plain": [
       "Doing toys:   0%|          | 0/500 [00:00<?, ?it/s]"
      ]
     },
     "metadata": {},
     "output_type": "display_data"
    },
    {
     "data": {
      "application/vnd.jupyter.widget-view+json": {
       "model_id": "fa22b5dcb0f84dd2a2a7c35ea5a5bd75",
       "version_major": 2,
       "version_minor": 0
      },
      "text/plain": [
       "Doing toys:   0%|          | 0/500 [00:00<?, ?it/s]"
      ]
     },
     "metadata": {},
     "output_type": "display_data"
    },
    {
     "data": {
      "application/vnd.jupyter.widget-view+json": {
       "model_id": "18c6c9d039c04f4d83875d3d81cff0f0",
       "version_major": 2,
       "version_minor": 0
      },
      "text/plain": [
       "Doing toys:   0%|          | 0/500 [00:00<?, ?it/s]"
      ]
     },
     "metadata": {},
     "output_type": "display_data"
    },
    {
     "data": {
      "application/vnd.jupyter.widget-view+json": {
       "model_id": "2ae8d26c5f1b4051a30625a9fdca4cf2",
       "version_major": 2,
       "version_minor": 0
      },
      "text/plain": [
       "Doing toys:   0%|          | 0/500 [00:00<?, ?it/s]"
      ]
     },
     "metadata": {},
     "output_type": "display_data"
    },
    {
     "name": "stderr",
     "output_type": "stream",
     "text": [
      "/Users/amirr/Desktop/Flame/flamedisx/flamedisx/source.py:271: UserWarning: Defaults for unused settings ignored: {'max_sigma': None, 'max_sigma_outer': None}\n",
      "  warnings.warn(f\"Defaults for unused settings ignored: {unused}\")\n",
      "Estimating mus: 0it [00:00, ?it/s]\n",
      "Estimating mus: 0it [00:00, ?it/s]\n",
      "Estimating mus: 0it [00:00, ?it/s]\n",
      "Estimating mus: 0it [00:00, ?it/s]\n",
      "Estimating mus: 0it [00:00, ?it/s]\n",
      "Estimating mus: 0it [00:00, ?it/s]\n",
      "Estimating mus: 0it [00:00, ?it/s]\n",
      "Estimating mus: 0it [00:00, ?it/s]\n"
     ]
    },
    {
     "data": {
      "application/vnd.jupyter.widget-view+json": {
       "model_id": "9d195803f13c4e8d958f769e770e4c18",
       "version_major": 2,
       "version_minor": 0
      },
      "text/plain": [
       "Scanning over mus:   0%|          | 0/40 [00:00<?, ?it/s]"
      ]
     },
     "metadata": {},
     "output_type": "display_data"
    },
    {
     "data": {
      "application/vnd.jupyter.widget-view+json": {
       "model_id": "e72afe0f8285436cba64cc913efd0296",
       "version_major": 2,
       "version_minor": 0
      },
      "text/plain": [
       "Doing toys:   0%|          | 0/500 [00:00<?, ?it/s]"
      ]
     },
     "metadata": {},
     "output_type": "display_data"
    },
    {
     "data": {
      "application/vnd.jupyter.widget-view+json": {
       "model_id": "4416a22d32f943da86d441b09a9f1413",
       "version_major": 2,
       "version_minor": 0
      },
      "text/plain": [
       "Doing toys:   0%|          | 0/500 [00:00<?, ?it/s]"
      ]
     },
     "metadata": {},
     "output_type": "display_data"
    },
    {
     "data": {
      "application/vnd.jupyter.widget-view+json": {
       "model_id": "f0bc0cded80d4de0853d1c1bbe1d66da",
       "version_major": 2,
       "version_minor": 0
      },
      "text/plain": [
       "Doing toys:   0%|          | 0/500 [00:00<?, ?it/s]"
      ]
     },
     "metadata": {},
     "output_type": "display_data"
    },
    {
     "data": {
      "application/vnd.jupyter.widget-view+json": {
       "model_id": "306c0399920a49a1892545bea1c44821",
       "version_major": 2,
       "version_minor": 0
      },
      "text/plain": [
       "Doing toys:   0%|          | 0/500 [00:00<?, ?it/s]"
      ]
     },
     "metadata": {},
     "output_type": "display_data"
    },
    {
     "data": {
      "application/vnd.jupyter.widget-view+json": {
       "model_id": "6b9751c007a34dbd868f3a60b2ed4a64",
       "version_major": 2,
       "version_minor": 0
      },
      "text/plain": [
       "Doing toys:   0%|          | 0/500 [00:00<?, ?it/s]"
      ]
     },
     "metadata": {},
     "output_type": "display_data"
    },
    {
     "data": {
      "application/vnd.jupyter.widget-view+json": {
       "model_id": "c250b5b11f194822a2071ca033f17be4",
       "version_major": 2,
       "version_minor": 0
      },
      "text/plain": [
       "Doing toys:   0%|          | 0/500 [00:00<?, ?it/s]"
      ]
     },
     "metadata": {},
     "output_type": "display_data"
    },
    {
     "data": {
      "application/vnd.jupyter.widget-view+json": {
       "model_id": "6943dd34446c4a0ea7fe10eef50ed734",
       "version_major": 2,
       "version_minor": 0
      },
      "text/plain": [
       "Doing toys:   0%|          | 0/500 [00:00<?, ?it/s]"
      ]
     },
     "metadata": {},
     "output_type": "display_data"
    },
    {
     "data": {
      "application/vnd.jupyter.widget-view+json": {
       "model_id": "eee7faa4e76847879aa7583878520ab4",
       "version_major": 2,
       "version_minor": 0
      },
      "text/plain": [
       "Doing toys:   0%|          | 0/500 [00:00<?, ?it/s]"
      ]
     },
     "metadata": {},
     "output_type": "display_data"
    },
    {
     "data": {
      "application/vnd.jupyter.widget-view+json": {
       "model_id": "4ab3b6b958f14e619e71cfdbc224fa48",
       "version_major": 2,
       "version_minor": 0
      },
      "text/plain": [
       "Doing toys:   0%|          | 0/500 [00:00<?, ?it/s]"
      ]
     },
     "metadata": {},
     "output_type": "display_data"
    },
    {
     "data": {
      "application/vnd.jupyter.widget-view+json": {
       "model_id": "ba57ad34bd104399affeb7ca2b05f8d7",
       "version_major": 2,
       "version_minor": 0
      },
      "text/plain": [
       "Doing toys:   0%|          | 0/500 [00:00<?, ?it/s]"
      ]
     },
     "metadata": {},
     "output_type": "display_data"
    },
    {
     "data": {
      "application/vnd.jupyter.widget-view+json": {
       "model_id": "7d197e54d6b34e5db9d96a024ad6324e",
       "version_major": 2,
       "version_minor": 0
      },
      "text/plain": [
       "Doing toys:   0%|          | 0/500 [00:00<?, ?it/s]"
      ]
     },
     "metadata": {},
     "output_type": "display_data"
    },
    {
     "data": {
      "application/vnd.jupyter.widget-view+json": {
       "model_id": "464812ac5df143be92cf96223ed149d3",
       "version_major": 2,
       "version_minor": 0
      },
      "text/plain": [
       "Doing toys:   0%|          | 0/500 [00:00<?, ?it/s]"
      ]
     },
     "metadata": {},
     "output_type": "display_data"
    },
    {
     "data": {
      "application/vnd.jupyter.widget-view+json": {
       "model_id": "e51e53be967646aabab1b192f0cd5069",
       "version_major": 2,
       "version_minor": 0
      },
      "text/plain": [
       "Doing toys:   0%|          | 0/500 [00:00<?, ?it/s]"
      ]
     },
     "metadata": {},
     "output_type": "display_data"
    },
    {
     "data": {
      "application/vnd.jupyter.widget-view+json": {
       "model_id": "d01e014b3a9841a589143128cf680507",
       "version_major": 2,
       "version_minor": 0
      },
      "text/plain": [
       "Doing toys:   0%|          | 0/500 [00:00<?, ?it/s]"
      ]
     },
     "metadata": {},
     "output_type": "display_data"
    },
    {
     "data": {
      "application/vnd.jupyter.widget-view+json": {
       "model_id": "8e7ffc3226d54ff594f38f9e919b3846",
       "version_major": 2,
       "version_minor": 0
      },
      "text/plain": [
       "Doing toys:   0%|          | 0/500 [00:00<?, ?it/s]"
      ]
     },
     "metadata": {},
     "output_type": "display_data"
    },
    {
     "data": {
      "application/vnd.jupyter.widget-view+json": {
       "model_id": "6a9dd31c665a4af4b7719b33f0a5604b",
       "version_major": 2,
       "version_minor": 0
      },
      "text/plain": [
       "Doing toys:   0%|          | 0/500 [00:00<?, ?it/s]"
      ]
     },
     "metadata": {},
     "output_type": "display_data"
    },
    {
     "data": {
      "application/vnd.jupyter.widget-view+json": {
       "model_id": "574c323b103f47fd9582c86b96edfff4",
       "version_major": 2,
       "version_minor": 0
      },
      "text/plain": [
       "Doing toys:   0%|          | 0/500 [00:00<?, ?it/s]"
      ]
     },
     "metadata": {},
     "output_type": "display_data"
    },
    {
     "data": {
      "application/vnd.jupyter.widget-view+json": {
       "model_id": "1549a5e4ed8e47ebbf1145e4168cff19",
       "version_major": 2,
       "version_minor": 0
      },
      "text/plain": [
       "Doing toys:   0%|          | 0/500 [00:00<?, ?it/s]"
      ]
     },
     "metadata": {},
     "output_type": "display_data"
    },
    {
     "data": {
      "application/vnd.jupyter.widget-view+json": {
       "model_id": "69b203b6d17f4ff5bf7b298eb16c800a",
       "version_major": 2,
       "version_minor": 0
      },
      "text/plain": [
       "Doing toys:   0%|          | 0/500 [00:00<?, ?it/s]"
      ]
     },
     "metadata": {},
     "output_type": "display_data"
    },
    {
     "data": {
      "application/vnd.jupyter.widget-view+json": {
       "model_id": "aefdab51bf484361b86e4ae6e6660e99",
       "version_major": 2,
       "version_minor": 0
      },
      "text/plain": [
       "Doing toys:   0%|          | 0/500 [00:00<?, ?it/s]"
      ]
     },
     "metadata": {},
     "output_type": "display_data"
    },
    {
     "data": {
      "application/vnd.jupyter.widget-view+json": {
       "model_id": "8457fe93e510416688d529b74a306d21",
       "version_major": 2,
       "version_minor": 0
      },
      "text/plain": [
       "Doing toys:   0%|          | 0/500 [00:00<?, ?it/s]"
      ]
     },
     "metadata": {},
     "output_type": "display_data"
    },
    {
     "data": {
      "application/vnd.jupyter.widget-view+json": {
       "model_id": "b46f3b664e6544b7aa52f751df59da9f",
       "version_major": 2,
       "version_minor": 0
      },
      "text/plain": [
       "Doing toys:   0%|          | 0/500 [00:00<?, ?it/s]"
      ]
     },
     "metadata": {},
     "output_type": "display_data"
    },
    {
     "data": {
      "application/vnd.jupyter.widget-view+json": {
       "model_id": "c31f1e746aaf4271bfaf7a1ac15aa046",
       "version_major": 2,
       "version_minor": 0
      },
      "text/plain": [
       "Doing toys:   0%|          | 0/500 [00:00<?, ?it/s]"
      ]
     },
     "metadata": {},
     "output_type": "display_data"
    },
    {
     "data": {
      "application/vnd.jupyter.widget-view+json": {
       "model_id": "a62250f69b6e4349a15f95f956728147",
       "version_major": 2,
       "version_minor": 0
      },
      "text/plain": [
       "Doing toys:   0%|          | 0/500 [00:00<?, ?it/s]"
      ]
     },
     "metadata": {},
     "output_type": "display_data"
    },
    {
     "data": {
      "application/vnd.jupyter.widget-view+json": {
       "model_id": "2a5453d9112a4ba89edd3b4b78146b1f",
       "version_major": 2,
       "version_minor": 0
      },
      "text/plain": [
       "Doing toys:   0%|          | 0/500 [00:00<?, ?it/s]"
      ]
     },
     "metadata": {},
     "output_type": "display_data"
    },
    {
     "data": {
      "application/vnd.jupyter.widget-view+json": {
       "model_id": "217b11e593894818b428e3bf6cc4ae5d",
       "version_major": 2,
       "version_minor": 0
      },
      "text/plain": [
       "Doing toys:   0%|          | 0/500 [00:00<?, ?it/s]"
      ]
     },
     "metadata": {},
     "output_type": "display_data"
    },
    {
     "data": {
      "application/vnd.jupyter.widget-view+json": {
       "model_id": "f5106f96aa024c0a9e481848513a3d6e",
       "version_major": 2,
       "version_minor": 0
      },
      "text/plain": [
       "Doing toys:   0%|          | 0/500 [00:00<?, ?it/s]"
      ]
     },
     "metadata": {},
     "output_type": "display_data"
    },
    {
     "data": {
      "application/vnd.jupyter.widget-view+json": {
       "model_id": "3b17e9f5ebb0434ba1c05bbbf9202da3",
       "version_major": 2,
       "version_minor": 0
      },
      "text/plain": [
       "Doing toys:   0%|          | 0/500 [00:00<?, ?it/s]"
      ]
     },
     "metadata": {},
     "output_type": "display_data"
    },
    {
     "data": {
      "application/vnd.jupyter.widget-view+json": {
       "model_id": "46847fd246414084afa9bea168edc85b",
       "version_major": 2,
       "version_minor": 0
      },
      "text/plain": [
       "Doing toys:   0%|          | 0/500 [00:00<?, ?it/s]"
      ]
     },
     "metadata": {},
     "output_type": "display_data"
    },
    {
     "data": {
      "application/vnd.jupyter.widget-view+json": {
       "model_id": "1a73601b784f465d94aadb00df4d99d6",
       "version_major": 2,
       "version_minor": 0
      },
      "text/plain": [
       "Doing toys:   0%|          | 0/500 [00:00<?, ?it/s]"
      ]
     },
     "metadata": {},
     "output_type": "display_data"
    },
    {
     "data": {
      "application/vnd.jupyter.widget-view+json": {
       "model_id": "0e2a3a8dbfe041628099027205478881",
       "version_major": 2,
       "version_minor": 0
      },
      "text/plain": [
       "Doing toys:   0%|          | 0/500 [00:00<?, ?it/s]"
      ]
     },
     "metadata": {},
     "output_type": "display_data"
    },
    {
     "data": {
      "application/vnd.jupyter.widget-view+json": {
       "model_id": "90b54f65fbe542a9a155537752202043",
       "version_major": 2,
       "version_minor": 0
      },
      "text/plain": [
       "Doing toys:   0%|          | 0/500 [00:00<?, ?it/s]"
      ]
     },
     "metadata": {},
     "output_type": "display_data"
    },
    {
     "data": {
      "application/vnd.jupyter.widget-view+json": {
       "model_id": "901919dd12204dce860eb0d4bc9c7ead",
       "version_major": 2,
       "version_minor": 0
      },
      "text/plain": [
       "Doing toys:   0%|          | 0/500 [00:00<?, ?it/s]"
      ]
     },
     "metadata": {},
     "output_type": "display_data"
    },
    {
     "data": {
      "application/vnd.jupyter.widget-view+json": {
       "model_id": "43e472de3d464532ba0b09595e1eb02d",
       "version_major": 2,
       "version_minor": 0
      },
      "text/plain": [
       "Doing toys:   0%|          | 0/500 [00:00<?, ?it/s]"
      ]
     },
     "metadata": {},
     "output_type": "display_data"
    },
    {
     "data": {
      "application/vnd.jupyter.widget-view+json": {
       "model_id": "8123031c4b534f57aa3e79864980a664",
       "version_major": 2,
       "version_minor": 0
      },
      "text/plain": [
       "Doing toys:   0%|          | 0/500 [00:00<?, ?it/s]"
      ]
     },
     "metadata": {},
     "output_type": "display_data"
    },
    {
     "data": {
      "application/vnd.jupyter.widget-view+json": {
       "model_id": "df13ab70350346efb0c1c368e4a00f57",
       "version_major": 2,
       "version_minor": 0
      },
      "text/plain": [
       "Doing toys:   0%|          | 0/500 [00:00<?, ?it/s]"
      ]
     },
     "metadata": {},
     "output_type": "display_data"
    },
    {
     "data": {
      "application/vnd.jupyter.widget-view+json": {
       "model_id": "2d7804075e9c4218b5b0d10e4c1e6303",
       "version_major": 2,
       "version_minor": 0
      },
      "text/plain": [
       "Doing toys:   0%|          | 0/500 [00:00<?, ?it/s]"
      ]
     },
     "metadata": {},
     "output_type": "display_data"
    },
    {
     "data": {
      "application/vnd.jupyter.widget-view+json": {
       "model_id": "6550e7a8696b4290ade05af057c24163",
       "version_major": 2,
       "version_minor": 0
      },
      "text/plain": [
       "Doing toys:   0%|          | 0/500 [00:00<?, ?it/s]"
      ]
     },
     "metadata": {},
     "output_type": "display_data"
    },
    {
     "data": {
      "application/vnd.jupyter.widget-view+json": {
       "model_id": "1b37e750db1849bc870be72b2c006f68",
       "version_major": 2,
       "version_minor": 0
      },
      "text/plain": [
       "Doing toys:   0%|          | 0/500 [00:00<?, ?it/s]"
      ]
     },
     "metadata": {},
     "output_type": "display_data"
    },
    {
     "data": {
      "application/vnd.jupyter.widget-view+json": {
       "model_id": "6cf83f4e44c64e9aa5474fbd33df1ea1",
       "version_major": 2,
       "version_minor": 0
      },
      "text/plain": [
       "Doing toys:   0%|          | 0/500 [00:00<?, ?it/s]"
      ]
     },
     "metadata": {},
     "output_type": "display_data"
    },
    {
     "name": "stderr",
     "output_type": "stream",
     "text": [
      "/Users/amirr/Desktop/Flame/flamedisx/flamedisx/source.py:271: UserWarning: Defaults for unused settings ignored: {'max_sigma': None, 'max_sigma_outer': None}\n",
      "  warnings.warn(f\"Defaults for unused settings ignored: {unused}\")\n",
      "Estimating mus: 0it [00:00, ?it/s]\n",
      "Estimating mus: 0it [00:00, ?it/s]\n",
      "Estimating mus: 0it [00:00, ?it/s]\n",
      "Estimating mus: 0it [00:00, ?it/s]\n",
      "Estimating mus: 0it [00:00, ?it/s]\n",
      "Estimating mus: 0it [00:00, ?it/s]\n",
      "Estimating mus: 0it [00:00, ?it/s]\n",
      "Estimating mus: 0it [00:00, ?it/s]\n"
     ]
    },
    {
     "data": {
      "application/vnd.jupyter.widget-view+json": {
       "model_id": "af8c69d17cd14f15ace4de0129fdac38",
       "version_major": 2,
       "version_minor": 0
      },
      "text/plain": [
       "Scanning over mus:   0%|          | 0/40 [00:00<?, ?it/s]"
      ]
     },
     "metadata": {},
     "output_type": "display_data"
    },
    {
     "data": {
      "application/vnd.jupyter.widget-view+json": {
       "model_id": "838bfe92cf3d4d439fd657240afb4be8",
       "version_major": 2,
       "version_minor": 0
      },
      "text/plain": [
       "Doing toys:   0%|          | 0/500 [00:00<?, ?it/s]"
      ]
     },
     "metadata": {},
     "output_type": "display_data"
    },
    {
     "data": {
      "application/vnd.jupyter.widget-view+json": {
       "model_id": "e844c9ddbb37478bba42cbb3caab1e45",
       "version_major": 2,
       "version_minor": 0
      },
      "text/plain": [
       "Doing toys:   0%|          | 0/500 [00:00<?, ?it/s]"
      ]
     },
     "metadata": {},
     "output_type": "display_data"
    },
    {
     "data": {
      "application/vnd.jupyter.widget-view+json": {
       "model_id": "3ea902c9fc8546ff839417f4f4b3a781",
       "version_major": 2,
       "version_minor": 0
      },
      "text/plain": [
       "Doing toys:   0%|          | 0/500 [00:00<?, ?it/s]"
      ]
     },
     "metadata": {},
     "output_type": "display_data"
    },
    {
     "data": {
      "application/vnd.jupyter.widget-view+json": {
       "model_id": "33cc538c0e364428acac7e99c006e416",
       "version_major": 2,
       "version_minor": 0
      },
      "text/plain": [
       "Doing toys:   0%|          | 0/500 [00:00<?, ?it/s]"
      ]
     },
     "metadata": {},
     "output_type": "display_data"
    },
    {
     "data": {
      "application/vnd.jupyter.widget-view+json": {
       "model_id": "24059549110f429e8e90a519265a5107",
       "version_major": 2,
       "version_minor": 0
      },
      "text/plain": [
       "Doing toys:   0%|          | 0/500 [00:00<?, ?it/s]"
      ]
     },
     "metadata": {},
     "output_type": "display_data"
    },
    {
     "data": {
      "application/vnd.jupyter.widget-view+json": {
       "model_id": "31c2925465534fc9b54d6003f594e385",
       "version_major": 2,
       "version_minor": 0
      },
      "text/plain": [
       "Doing toys:   0%|          | 0/500 [00:00<?, ?it/s]"
      ]
     },
     "metadata": {},
     "output_type": "display_data"
    },
    {
     "data": {
      "application/vnd.jupyter.widget-view+json": {
       "model_id": "94ef453b4e0945dfb85542bea1e08289",
       "version_major": 2,
       "version_minor": 0
      },
      "text/plain": [
       "Doing toys:   0%|          | 0/500 [00:00<?, ?it/s]"
      ]
     },
     "metadata": {},
     "output_type": "display_data"
    },
    {
     "data": {
      "application/vnd.jupyter.widget-view+json": {
       "model_id": "41c0f4d30c454f3db04bcd84d1abb785",
       "version_major": 2,
       "version_minor": 0
      },
      "text/plain": [
       "Doing toys:   0%|          | 0/500 [00:00<?, ?it/s]"
      ]
     },
     "metadata": {},
     "output_type": "display_data"
    },
    {
     "data": {
      "application/vnd.jupyter.widget-view+json": {
       "model_id": "353724cdc68e4ba5bd6aaef22a50748b",
       "version_major": 2,
       "version_minor": 0
      },
      "text/plain": [
       "Doing toys:   0%|          | 0/500 [00:00<?, ?it/s]"
      ]
     },
     "metadata": {},
     "output_type": "display_data"
    },
    {
     "data": {
      "application/vnd.jupyter.widget-view+json": {
       "model_id": "b4c6f546b3dc44289f1ab8f86a1654e4",
       "version_major": 2,
       "version_minor": 0
      },
      "text/plain": [
       "Doing toys:   0%|          | 0/500 [00:00<?, ?it/s]"
      ]
     },
     "metadata": {},
     "output_type": "display_data"
    },
    {
     "data": {
      "application/vnd.jupyter.widget-view+json": {
       "model_id": "87a009bf43184d7da7228d1b8b842541",
       "version_major": 2,
       "version_minor": 0
      },
      "text/plain": [
       "Doing toys:   0%|          | 0/500 [00:00<?, ?it/s]"
      ]
     },
     "metadata": {},
     "output_type": "display_data"
    },
    {
     "data": {
      "application/vnd.jupyter.widget-view+json": {
       "model_id": "17d26642328c4a5fab98b1e35d0439d8",
       "version_major": 2,
       "version_minor": 0
      },
      "text/plain": [
       "Doing toys:   0%|          | 0/500 [00:00<?, ?it/s]"
      ]
     },
     "metadata": {},
     "output_type": "display_data"
    },
    {
     "data": {
      "application/vnd.jupyter.widget-view+json": {
       "model_id": "feeed2dd9d514733b1fc6f74131c232a",
       "version_major": 2,
       "version_minor": 0
      },
      "text/plain": [
       "Doing toys:   0%|          | 0/500 [00:00<?, ?it/s]"
      ]
     },
     "metadata": {},
     "output_type": "display_data"
    },
    {
     "data": {
      "application/vnd.jupyter.widget-view+json": {
       "model_id": "fb5b62e4c70248d49cef76aecb0b9f52",
       "version_major": 2,
       "version_minor": 0
      },
      "text/plain": [
       "Doing toys:   0%|          | 0/500 [00:00<?, ?it/s]"
      ]
     },
     "metadata": {},
     "output_type": "display_data"
    },
    {
     "data": {
      "application/vnd.jupyter.widget-view+json": {
       "model_id": "787022d7eb274f2ba8cbb7e5aa2b6f5a",
       "version_major": 2,
       "version_minor": 0
      },
      "text/plain": [
       "Doing toys:   0%|          | 0/500 [00:00<?, ?it/s]"
      ]
     },
     "metadata": {},
     "output_type": "display_data"
    },
    {
     "data": {
      "application/vnd.jupyter.widget-view+json": {
       "model_id": "8684775a1f8c44b797d617d0dae87615",
       "version_major": 2,
       "version_minor": 0
      },
      "text/plain": [
       "Doing toys:   0%|          | 0/500 [00:00<?, ?it/s]"
      ]
     },
     "metadata": {},
     "output_type": "display_data"
    },
    {
     "data": {
      "application/vnd.jupyter.widget-view+json": {
       "model_id": "2b86dba699364cb9bbb9bfdcef4f3cb8",
       "version_major": 2,
       "version_minor": 0
      },
      "text/plain": [
       "Doing toys:   0%|          | 0/500 [00:00<?, ?it/s]"
      ]
     },
     "metadata": {},
     "output_type": "display_data"
    },
    {
     "data": {
      "application/vnd.jupyter.widget-view+json": {
       "model_id": "acb12b51091d4243b09574b498b2450b",
       "version_major": 2,
       "version_minor": 0
      },
      "text/plain": [
       "Doing toys:   0%|          | 0/500 [00:00<?, ?it/s]"
      ]
     },
     "metadata": {},
     "output_type": "display_data"
    },
    {
     "data": {
      "application/vnd.jupyter.widget-view+json": {
       "model_id": "136576a2f7a34f3d987c5c0c51b28c09",
       "version_major": 2,
       "version_minor": 0
      },
      "text/plain": [
       "Doing toys:   0%|          | 0/500 [00:00<?, ?it/s]"
      ]
     },
     "metadata": {},
     "output_type": "display_data"
    },
    {
     "data": {
      "application/vnd.jupyter.widget-view+json": {
       "model_id": "bfd5e0e7b6b44f04ad3a8af4b3c077e3",
       "version_major": 2,
       "version_minor": 0
      },
      "text/plain": [
       "Doing toys:   0%|          | 0/500 [00:00<?, ?it/s]"
      ]
     },
     "metadata": {},
     "output_type": "display_data"
    },
    {
     "data": {
      "application/vnd.jupyter.widget-view+json": {
       "model_id": "0a291cf56e7c4e8bac19845ba4e21e63",
       "version_major": 2,
       "version_minor": 0
      },
      "text/plain": [
       "Doing toys:   0%|          | 0/500 [00:00<?, ?it/s]"
      ]
     },
     "metadata": {},
     "output_type": "display_data"
    },
    {
     "data": {
      "application/vnd.jupyter.widget-view+json": {
       "model_id": "26b1893a5aeb41258bde9cb9f2ab5aae",
       "version_major": 2,
       "version_minor": 0
      },
      "text/plain": [
       "Doing toys:   0%|          | 0/500 [00:00<?, ?it/s]"
      ]
     },
     "metadata": {},
     "output_type": "display_data"
    },
    {
     "data": {
      "application/vnd.jupyter.widget-view+json": {
       "model_id": "aa94fafc19484a29ab3fbccbbde6fc86",
       "version_major": 2,
       "version_minor": 0
      },
      "text/plain": [
       "Doing toys:   0%|          | 0/500 [00:00<?, ?it/s]"
      ]
     },
     "metadata": {},
     "output_type": "display_data"
    },
    {
     "data": {
      "application/vnd.jupyter.widget-view+json": {
       "model_id": "cde5a9af01ab4ff29e4a08d310ac393e",
       "version_major": 2,
       "version_minor": 0
      },
      "text/plain": [
       "Doing toys:   0%|          | 0/500 [00:00<?, ?it/s]"
      ]
     },
     "metadata": {},
     "output_type": "display_data"
    },
    {
     "data": {
      "application/vnd.jupyter.widget-view+json": {
       "model_id": "d023409102c3447895f1c0b54b96ab57",
       "version_major": 2,
       "version_minor": 0
      },
      "text/plain": [
       "Doing toys:   0%|          | 0/500 [00:00<?, ?it/s]"
      ]
     },
     "metadata": {},
     "output_type": "display_data"
    },
    {
     "data": {
      "application/vnd.jupyter.widget-view+json": {
       "model_id": "e89c98eae3e244b4b74984424d564529",
       "version_major": 2,
       "version_minor": 0
      },
      "text/plain": [
       "Doing toys:   0%|          | 0/500 [00:00<?, ?it/s]"
      ]
     },
     "metadata": {},
     "output_type": "display_data"
    },
    {
     "data": {
      "application/vnd.jupyter.widget-view+json": {
       "model_id": "33364c746dff49daadd6cb7aba67d735",
       "version_major": 2,
       "version_minor": 0
      },
      "text/plain": [
       "Doing toys:   0%|          | 0/500 [00:00<?, ?it/s]"
      ]
     },
     "metadata": {},
     "output_type": "display_data"
    },
    {
     "data": {
      "application/vnd.jupyter.widget-view+json": {
       "model_id": "7842cb2b82db47b99df6683891cdcbe4",
       "version_major": 2,
       "version_minor": 0
      },
      "text/plain": [
       "Doing toys:   0%|          | 0/500 [00:00<?, ?it/s]"
      ]
     },
     "metadata": {},
     "output_type": "display_data"
    },
    {
     "data": {
      "application/vnd.jupyter.widget-view+json": {
       "model_id": "01641bd41be9422eb88ea39815bf7365",
       "version_major": 2,
       "version_minor": 0
      },
      "text/plain": [
       "Doing toys:   0%|          | 0/500 [00:00<?, ?it/s]"
      ]
     },
     "metadata": {},
     "output_type": "display_data"
    },
    {
     "data": {
      "application/vnd.jupyter.widget-view+json": {
       "model_id": "17610ff31b8d43428b888ac6ac4aa9bf",
       "version_major": 2,
       "version_minor": 0
      },
      "text/plain": [
       "Doing toys:   0%|          | 0/500 [00:00<?, ?it/s]"
      ]
     },
     "metadata": {},
     "output_type": "display_data"
    },
    {
     "data": {
      "application/vnd.jupyter.widget-view+json": {
       "model_id": "e83a80bc45404f9b94960b263d4e0d27",
       "version_major": 2,
       "version_minor": 0
      },
      "text/plain": [
       "Doing toys:   0%|          | 0/500 [00:00<?, ?it/s]"
      ]
     },
     "metadata": {},
     "output_type": "display_data"
    },
    {
     "data": {
      "application/vnd.jupyter.widget-view+json": {
       "model_id": "d3f5169ae546499c978429d18bf567d2",
       "version_major": 2,
       "version_minor": 0
      },
      "text/plain": [
       "Doing toys:   0%|          | 0/500 [00:00<?, ?it/s]"
      ]
     },
     "metadata": {},
     "output_type": "display_data"
    },
    {
     "data": {
      "application/vnd.jupyter.widget-view+json": {
       "model_id": "0e58edc1640e496fa73fbc53cf892841",
       "version_major": 2,
       "version_minor": 0
      },
      "text/plain": [
       "Doing toys:   0%|          | 0/500 [00:00<?, ?it/s]"
      ]
     },
     "metadata": {},
     "output_type": "display_data"
    },
    {
     "data": {
      "application/vnd.jupyter.widget-view+json": {
       "model_id": "17e30d297a254e25a37206bb8c93e4d7",
       "version_major": 2,
       "version_minor": 0
      },
      "text/plain": [
       "Doing toys:   0%|          | 0/500 [00:00<?, ?it/s]"
      ]
     },
     "metadata": {},
     "output_type": "display_data"
    },
    {
     "data": {
      "application/vnd.jupyter.widget-view+json": {
       "model_id": "984bb895349942c7a6a309df4ee0c081",
       "version_major": 2,
       "version_minor": 0
      },
      "text/plain": [
       "Doing toys:   0%|          | 0/500 [00:00<?, ?it/s]"
      ]
     },
     "metadata": {},
     "output_type": "display_data"
    },
    {
     "data": {
      "application/vnd.jupyter.widget-view+json": {
       "model_id": "ce25dbadf06c4dce83d544f98ea89761",
       "version_major": 2,
       "version_minor": 0
      },
      "text/plain": [
       "Doing toys:   0%|          | 0/500 [00:00<?, ?it/s]"
      ]
     },
     "metadata": {},
     "output_type": "display_data"
    },
    {
     "data": {
      "application/vnd.jupyter.widget-view+json": {
       "model_id": "40b1034e77a64e6f9768fb2ba6560266",
       "version_major": 2,
       "version_minor": 0
      },
      "text/plain": [
       "Doing toys:   0%|          | 0/500 [00:00<?, ?it/s]"
      ]
     },
     "metadata": {},
     "output_type": "display_data"
    },
    {
     "data": {
      "application/vnd.jupyter.widget-view+json": {
       "model_id": "92c63be9e9a14f8395f64bd99e19e6de",
       "version_major": 2,
       "version_minor": 0
      },
      "text/plain": [
       "Doing toys:   0%|          | 0/500 [00:00<?, ?it/s]"
      ]
     },
     "metadata": {},
     "output_type": "display_data"
    },
    {
     "data": {
      "application/vnd.jupyter.widget-view+json": {
       "model_id": "2303b12e69854f6c8d8a04db2af632b5",
       "version_major": 2,
       "version_minor": 0
      },
      "text/plain": [
       "Doing toys:   0%|          | 0/500 [00:00<?, ?it/s]"
      ]
     },
     "metadata": {},
     "output_type": "display_data"
    },
    {
     "data": {
      "application/vnd.jupyter.widget-view+json": {
       "model_id": "d50723642d5c486fb09f0758e287fbf4",
       "version_major": 2,
       "version_minor": 0
      },
      "text/plain": [
       "Doing toys:   0%|          | 0/500 [00:00<?, ?it/s]"
      ]
     },
     "metadata": {},
     "output_type": "display_data"
    },
    {
     "name": "stderr",
     "output_type": "stream",
     "text": [
      "/Users/amirr/Desktop/Flame/flamedisx/flamedisx/source.py:271: UserWarning: Defaults for unused settings ignored: {'max_sigma': None, 'max_sigma_outer': None}\n",
      "  warnings.warn(f\"Defaults for unused settings ignored: {unused}\")\n",
      "Estimating mus: 0it [00:00, ?it/s]\n",
      "Estimating mus: 0it [00:00, ?it/s]\n",
      "Estimating mus: 0it [00:00, ?it/s]\n",
      "Estimating mus: 0it [00:00, ?it/s]\n",
      "Estimating mus: 0it [00:00, ?it/s]\n",
      "Estimating mus: 0it [00:00, ?it/s]\n",
      "Estimating mus: 0it [00:00, ?it/s]\n",
      "Estimating mus: 0it [00:00, ?it/s]\n"
     ]
    },
    {
     "data": {
      "application/vnd.jupyter.widget-view+json": {
       "model_id": "f2e38cb427e24005a691461320e202fa",
       "version_major": 2,
       "version_minor": 0
      },
      "text/plain": [
       "Scanning over mus:   0%|          | 0/40 [00:00<?, ?it/s]"
      ]
     },
     "metadata": {},
     "output_type": "display_data"
    },
    {
     "data": {
      "application/vnd.jupyter.widget-view+json": {
       "model_id": "6c113bc4049343ce80123b7aa4b5e715",
       "version_major": 2,
       "version_minor": 0
      },
      "text/plain": [
       "Doing toys:   0%|          | 0/500 [00:00<?, ?it/s]"
      ]
     },
     "metadata": {},
     "output_type": "display_data"
    },
    {
     "data": {
      "application/vnd.jupyter.widget-view+json": {
       "model_id": "b07c6194ed024d8baf457ffc65c93483",
       "version_major": 2,
       "version_minor": 0
      },
      "text/plain": [
       "Doing toys:   0%|          | 0/500 [00:00<?, ?it/s]"
      ]
     },
     "metadata": {},
     "output_type": "display_data"
    },
    {
     "data": {
      "application/vnd.jupyter.widget-view+json": {
       "model_id": "5f1be9da110c4f0fa512984d2bc651a7",
       "version_major": 2,
       "version_minor": 0
      },
      "text/plain": [
       "Doing toys:   0%|          | 0/500 [00:00<?, ?it/s]"
      ]
     },
     "metadata": {},
     "output_type": "display_data"
    },
    {
     "data": {
      "application/vnd.jupyter.widget-view+json": {
       "model_id": "b90673a546bf4adab94cb6973fe0951d",
       "version_major": 2,
       "version_minor": 0
      },
      "text/plain": [
       "Doing toys:   0%|          | 0/500 [00:00<?, ?it/s]"
      ]
     },
     "metadata": {},
     "output_type": "display_data"
    },
    {
     "data": {
      "application/vnd.jupyter.widget-view+json": {
       "model_id": "3c88e1b7df4f4ffbb925171b2a9b3a9e",
       "version_major": 2,
       "version_minor": 0
      },
      "text/plain": [
       "Doing toys:   0%|          | 0/500 [00:00<?, ?it/s]"
      ]
     },
     "metadata": {},
     "output_type": "display_data"
    },
    {
     "data": {
      "application/vnd.jupyter.widget-view+json": {
       "model_id": "e5e1dcb62eef48d8be2014bc389f8848",
       "version_major": 2,
       "version_minor": 0
      },
      "text/plain": [
       "Doing toys:   0%|          | 0/500 [00:00<?, ?it/s]"
      ]
     },
     "metadata": {},
     "output_type": "display_data"
    },
    {
     "data": {
      "application/vnd.jupyter.widget-view+json": {
       "model_id": "a61f41856aaa47b494675b533da26e26",
       "version_major": 2,
       "version_minor": 0
      },
      "text/plain": [
       "Doing toys:   0%|          | 0/500 [00:00<?, ?it/s]"
      ]
     },
     "metadata": {},
     "output_type": "display_data"
    },
    {
     "data": {
      "application/vnd.jupyter.widget-view+json": {
       "model_id": "463ff8feff02405a95276bc847bc1f6f",
       "version_major": 2,
       "version_minor": 0
      },
      "text/plain": [
       "Doing toys:   0%|          | 0/500 [00:00<?, ?it/s]"
      ]
     },
     "metadata": {},
     "output_type": "display_data"
    },
    {
     "data": {
      "application/vnd.jupyter.widget-view+json": {
       "model_id": "854ef570ccd24ee494582305472a513c",
       "version_major": 2,
       "version_minor": 0
      },
      "text/plain": [
       "Doing toys:   0%|          | 0/500 [00:00<?, ?it/s]"
      ]
     },
     "metadata": {},
     "output_type": "display_data"
    },
    {
     "data": {
      "application/vnd.jupyter.widget-view+json": {
       "model_id": "4a6445da089643268ef4a3993f0c62dc",
       "version_major": 2,
       "version_minor": 0
      },
      "text/plain": [
       "Doing toys:   0%|          | 0/500 [00:00<?, ?it/s]"
      ]
     },
     "metadata": {},
     "output_type": "display_data"
    },
    {
     "data": {
      "application/vnd.jupyter.widget-view+json": {
       "model_id": "ba5674758a3743ebb8b18b822f0714f1",
       "version_major": 2,
       "version_minor": 0
      },
      "text/plain": [
       "Doing toys:   0%|          | 0/500 [00:00<?, ?it/s]"
      ]
     },
     "metadata": {},
     "output_type": "display_data"
    },
    {
     "data": {
      "application/vnd.jupyter.widget-view+json": {
       "model_id": "0f2121bf5d214054b5221cec6d48dddc",
       "version_major": 2,
       "version_minor": 0
      },
      "text/plain": [
       "Doing toys:   0%|          | 0/500 [00:00<?, ?it/s]"
      ]
     },
     "metadata": {},
     "output_type": "display_data"
    },
    {
     "data": {
      "application/vnd.jupyter.widget-view+json": {
       "model_id": "03116f50e46840a1bf8c93f3e626998c",
       "version_major": 2,
       "version_minor": 0
      },
      "text/plain": [
       "Doing toys:   0%|          | 0/500 [00:00<?, ?it/s]"
      ]
     },
     "metadata": {},
     "output_type": "display_data"
    },
    {
     "data": {
      "application/vnd.jupyter.widget-view+json": {
       "model_id": "3fe82d5cc2a54bc598e81538294da163",
       "version_major": 2,
       "version_minor": 0
      },
      "text/plain": [
       "Doing toys:   0%|          | 0/500 [00:00<?, ?it/s]"
      ]
     },
     "metadata": {},
     "output_type": "display_data"
    },
    {
     "data": {
      "application/vnd.jupyter.widget-view+json": {
       "model_id": "365e8ef9a9cb4650b6f015ecc8aa4bee",
       "version_major": 2,
       "version_minor": 0
      },
      "text/plain": [
       "Doing toys:   0%|          | 0/500 [00:00<?, ?it/s]"
      ]
     },
     "metadata": {},
     "output_type": "display_data"
    },
    {
     "data": {
      "application/vnd.jupyter.widget-view+json": {
       "model_id": "2686f86e9dbe45bc9b51f617aed859a0",
       "version_major": 2,
       "version_minor": 0
      },
      "text/plain": [
       "Doing toys:   0%|          | 0/500 [00:00<?, ?it/s]"
      ]
     },
     "metadata": {},
     "output_type": "display_data"
    },
    {
     "data": {
      "application/vnd.jupyter.widget-view+json": {
       "model_id": "358e88b76905456db637c790260da39f",
       "version_major": 2,
       "version_minor": 0
      },
      "text/plain": [
       "Doing toys:   0%|          | 0/500 [00:00<?, ?it/s]"
      ]
     },
     "metadata": {},
     "output_type": "display_data"
    },
    {
     "data": {
      "application/vnd.jupyter.widget-view+json": {
       "model_id": "e4508d2d8a8e44eaa9e62f1eb766c0d7",
       "version_major": 2,
       "version_minor": 0
      },
      "text/plain": [
       "Doing toys:   0%|          | 0/500 [00:00<?, ?it/s]"
      ]
     },
     "metadata": {},
     "output_type": "display_data"
    },
    {
     "data": {
      "application/vnd.jupyter.widget-view+json": {
       "model_id": "bbc3aea2fd19452ea1bf7288b49a6e9d",
       "version_major": 2,
       "version_minor": 0
      },
      "text/plain": [
       "Doing toys:   0%|          | 0/500 [00:00<?, ?it/s]"
      ]
     },
     "metadata": {},
     "output_type": "display_data"
    },
    {
     "data": {
      "application/vnd.jupyter.widget-view+json": {
       "model_id": "14f2fd21a48349a09fab755e25ed00bb",
       "version_major": 2,
       "version_minor": 0
      },
      "text/plain": [
       "Doing toys:   0%|          | 0/500 [00:00<?, ?it/s]"
      ]
     },
     "metadata": {},
     "output_type": "display_data"
    },
    {
     "data": {
      "application/vnd.jupyter.widget-view+json": {
       "model_id": "1ba198be5ebb40e799a9686d294e3c10",
       "version_major": 2,
       "version_minor": 0
      },
      "text/plain": [
       "Doing toys:   0%|          | 0/500 [00:00<?, ?it/s]"
      ]
     },
     "metadata": {},
     "output_type": "display_data"
    },
    {
     "data": {
      "application/vnd.jupyter.widget-view+json": {
       "model_id": "33ddae9eca4f4d0dbc54fd4f6b9a6156",
       "version_major": 2,
       "version_minor": 0
      },
      "text/plain": [
       "Doing toys:   0%|          | 0/500 [00:00<?, ?it/s]"
      ]
     },
     "metadata": {},
     "output_type": "display_data"
    },
    {
     "data": {
      "application/vnd.jupyter.widget-view+json": {
       "model_id": "2608199267f74c8092a08044436d1c2a",
       "version_major": 2,
       "version_minor": 0
      },
      "text/plain": [
       "Doing toys:   0%|          | 0/500 [00:00<?, ?it/s]"
      ]
     },
     "metadata": {},
     "output_type": "display_data"
    },
    {
     "data": {
      "application/vnd.jupyter.widget-view+json": {
       "model_id": "9f404e5440b34ca3aabaf2e11e9b7f76",
       "version_major": 2,
       "version_minor": 0
      },
      "text/plain": [
       "Doing toys:   0%|          | 0/500 [00:00<?, ?it/s]"
      ]
     },
     "metadata": {},
     "output_type": "display_data"
    },
    {
     "data": {
      "application/vnd.jupyter.widget-view+json": {
       "model_id": "bc9703b2883448f8b94c14916d281cae",
       "version_major": 2,
       "version_minor": 0
      },
      "text/plain": [
       "Doing toys:   0%|          | 0/500 [00:00<?, ?it/s]"
      ]
     },
     "metadata": {},
     "output_type": "display_data"
    },
    {
     "data": {
      "application/vnd.jupyter.widget-view+json": {
       "model_id": "088ccc4dee9f4492b6f3a4afef23697f",
       "version_major": 2,
       "version_minor": 0
      },
      "text/plain": [
       "Doing toys:   0%|          | 0/500 [00:00<?, ?it/s]"
      ]
     },
     "metadata": {},
     "output_type": "display_data"
    },
    {
     "data": {
      "application/vnd.jupyter.widget-view+json": {
       "model_id": "1914bdcab76545c2be453dc031cba8e4",
       "version_major": 2,
       "version_minor": 0
      },
      "text/plain": [
       "Doing toys:   0%|          | 0/500 [00:00<?, ?it/s]"
      ]
     },
     "metadata": {},
     "output_type": "display_data"
    },
    {
     "data": {
      "application/vnd.jupyter.widget-view+json": {
       "model_id": "01558f7be8264deab51831bd7ec149df",
       "version_major": 2,
       "version_minor": 0
      },
      "text/plain": [
       "Doing toys:   0%|          | 0/500 [00:00<?, ?it/s]"
      ]
     },
     "metadata": {},
     "output_type": "display_data"
    },
    {
     "data": {
      "application/vnd.jupyter.widget-view+json": {
       "model_id": "e6afa0f68c494aa2bfca5f4e75b553bd",
       "version_major": 2,
       "version_minor": 0
      },
      "text/plain": [
       "Doing toys:   0%|          | 0/500 [00:00<?, ?it/s]"
      ]
     },
     "metadata": {},
     "output_type": "display_data"
    },
    {
     "data": {
      "application/vnd.jupyter.widget-view+json": {
       "model_id": "6cc1437a1fb44e55885187c1420131f4",
       "version_major": 2,
       "version_minor": 0
      },
      "text/plain": [
       "Doing toys:   0%|          | 0/500 [00:00<?, ?it/s]"
      ]
     },
     "metadata": {},
     "output_type": "display_data"
    },
    {
     "data": {
      "application/vnd.jupyter.widget-view+json": {
       "model_id": "f026519a8ef1424b9135026d0d872ebd",
       "version_major": 2,
       "version_minor": 0
      },
      "text/plain": [
       "Doing toys:   0%|          | 0/500 [00:00<?, ?it/s]"
      ]
     },
     "metadata": {},
     "output_type": "display_data"
    },
    {
     "data": {
      "application/vnd.jupyter.widget-view+json": {
       "model_id": "0c9b4eb04b8a4776bf40aae5c0f67a95",
       "version_major": 2,
       "version_minor": 0
      },
      "text/plain": [
       "Doing toys:   0%|          | 0/500 [00:00<?, ?it/s]"
      ]
     },
     "metadata": {},
     "output_type": "display_data"
    },
    {
     "data": {
      "application/vnd.jupyter.widget-view+json": {
       "model_id": "a62f8a97158741318dfe5dcc6c3fdb07",
       "version_major": 2,
       "version_minor": 0
      },
      "text/plain": [
       "Doing toys:   0%|          | 0/500 [00:00<?, ?it/s]"
      ]
     },
     "metadata": {},
     "output_type": "display_data"
    },
    {
     "data": {
      "application/vnd.jupyter.widget-view+json": {
       "model_id": "3d5e6ebbda0643bc83a164c27e86109f",
       "version_major": 2,
       "version_minor": 0
      },
      "text/plain": [
       "Doing toys:   0%|          | 0/500 [00:00<?, ?it/s]"
      ]
     },
     "metadata": {},
     "output_type": "display_data"
    },
    {
     "data": {
      "application/vnd.jupyter.widget-view+json": {
       "model_id": "23248352998d4d99a4a9379f7eecda4b",
       "version_major": 2,
       "version_minor": 0
      },
      "text/plain": [
       "Doing toys:   0%|          | 0/500 [00:00<?, ?it/s]"
      ]
     },
     "metadata": {},
     "output_type": "display_data"
    },
    {
     "data": {
      "application/vnd.jupyter.widget-view+json": {
       "model_id": "7fce37690b524dde88afa0fd302de79e",
       "version_major": 2,
       "version_minor": 0
      },
      "text/plain": [
       "Doing toys:   0%|          | 0/500 [00:00<?, ?it/s]"
      ]
     },
     "metadata": {},
     "output_type": "display_data"
    },
    {
     "data": {
      "application/vnd.jupyter.widget-view+json": {
       "model_id": "af15d6f65095443ab8ebd670a6ff709a",
       "version_major": 2,
       "version_minor": 0
      },
      "text/plain": [
       "Doing toys:   0%|          | 0/500 [00:00<?, ?it/s]"
      ]
     },
     "metadata": {},
     "output_type": "display_data"
    },
    {
     "data": {
      "application/vnd.jupyter.widget-view+json": {
       "model_id": "54217dcbd74744eab85ce0d72b7cbe16",
       "version_major": 2,
       "version_minor": 0
      },
      "text/plain": [
       "Doing toys:   0%|          | 0/500 [00:00<?, ?it/s]"
      ]
     },
     "metadata": {},
     "output_type": "display_data"
    },
    {
     "data": {
      "application/vnd.jupyter.widget-view+json": {
       "model_id": "c30eaa307698488299d06561799d39e1",
       "version_major": 2,
       "version_minor": 0
      },
      "text/plain": [
       "Doing toys:   0%|          | 0/500 [00:00<?, ?it/s]"
      ]
     },
     "metadata": {},
     "output_type": "display_data"
    },
    {
     "data": {
      "application/vnd.jupyter.widget-view+json": {
       "model_id": "989eda2dd48c41fb9a0aaaaf31ace797",
       "version_major": 2,
       "version_minor": 0
      },
      "text/plain": [
       "Doing toys:   0%|          | 0/500 [00:00<?, ?it/s]"
      ]
     },
     "metadata": {},
     "output_type": "display_data"
    },
    {
     "name": "stderr",
     "output_type": "stream",
     "text": [
      "/Users/amirr/Desktop/Flame/flamedisx/flamedisx/source.py:271: UserWarning: Defaults for unused settings ignored: {'max_sigma': None, 'max_sigma_outer': None}\n",
      "  warnings.warn(f\"Defaults for unused settings ignored: {unused}\")\n",
      "Estimating mus: 0it [00:00, ?it/s]\n",
      "Estimating mus: 0it [00:00, ?it/s]\n",
      "Estimating mus: 0it [00:00, ?it/s]\n",
      "Estimating mus: 0it [00:00, ?it/s]\n",
      "Estimating mus: 0it [00:00, ?it/s]\n",
      "Estimating mus: 0it [00:00, ?it/s]\n",
      "Estimating mus: 0it [00:00, ?it/s]\n",
      "Estimating mus: 0it [00:00, ?it/s]\n"
     ]
    },
    {
     "data": {
      "application/vnd.jupyter.widget-view+json": {
       "model_id": "d4e1905aaf084492a8cf06e5f287ce6c",
       "version_major": 2,
       "version_minor": 0
      },
      "text/plain": [
       "Scanning over mus:   0%|          | 0/40 [00:00<?, ?it/s]"
      ]
     },
     "metadata": {},
     "output_type": "display_data"
    },
    {
     "data": {
      "application/vnd.jupyter.widget-view+json": {
       "model_id": "35608781f1884873aa9a701ee3834285",
       "version_major": 2,
       "version_minor": 0
      },
      "text/plain": [
       "Doing toys:   0%|          | 0/500 [00:00<?, ?it/s]"
      ]
     },
     "metadata": {},
     "output_type": "display_data"
    },
    {
     "data": {
      "application/vnd.jupyter.widget-view+json": {
       "model_id": "619d36e11dd24604b532268af6d6d231",
       "version_major": 2,
       "version_minor": 0
      },
      "text/plain": [
       "Doing toys:   0%|          | 0/500 [00:00<?, ?it/s]"
      ]
     },
     "metadata": {},
     "output_type": "display_data"
    },
    {
     "data": {
      "application/vnd.jupyter.widget-view+json": {
       "model_id": "9c93d801d26a4e0b845faf86a2c7a836",
       "version_major": 2,
       "version_minor": 0
      },
      "text/plain": [
       "Doing toys:   0%|          | 0/500 [00:00<?, ?it/s]"
      ]
     },
     "metadata": {},
     "output_type": "display_data"
    },
    {
     "data": {
      "application/vnd.jupyter.widget-view+json": {
       "model_id": "178b300bb6a641efbf3728e148d27d6d",
       "version_major": 2,
       "version_minor": 0
      },
      "text/plain": [
       "Doing toys:   0%|          | 0/500 [00:00<?, ?it/s]"
      ]
     },
     "metadata": {},
     "output_type": "display_data"
    },
    {
     "data": {
      "application/vnd.jupyter.widget-view+json": {
       "model_id": "fc1d8caf15854d0a96c434e30b498baa",
       "version_major": 2,
       "version_minor": 0
      },
      "text/plain": [
       "Doing toys:   0%|          | 0/500 [00:00<?, ?it/s]"
      ]
     },
     "metadata": {},
     "output_type": "display_data"
    },
    {
     "data": {
      "application/vnd.jupyter.widget-view+json": {
       "model_id": "40a218996135411da98202ad9fb27fc2",
       "version_major": 2,
       "version_minor": 0
      },
      "text/plain": [
       "Doing toys:   0%|          | 0/500 [00:00<?, ?it/s]"
      ]
     },
     "metadata": {},
     "output_type": "display_data"
    },
    {
     "data": {
      "application/vnd.jupyter.widget-view+json": {
       "model_id": "4fe98af3a06349ffadb3537b383da6bd",
       "version_major": 2,
       "version_minor": 0
      },
      "text/plain": [
       "Doing toys:   0%|          | 0/500 [00:00<?, ?it/s]"
      ]
     },
     "metadata": {},
     "output_type": "display_data"
    },
    {
     "data": {
      "application/vnd.jupyter.widget-view+json": {
       "model_id": "9104d1a4cc2f435c80064f04e02a698f",
       "version_major": 2,
       "version_minor": 0
      },
      "text/plain": [
       "Doing toys:   0%|          | 0/500 [00:00<?, ?it/s]"
      ]
     },
     "metadata": {},
     "output_type": "display_data"
    },
    {
     "data": {
      "application/vnd.jupyter.widget-view+json": {
       "model_id": "19b244973b984a8cb7741522137cac28",
       "version_major": 2,
       "version_minor": 0
      },
      "text/plain": [
       "Doing toys:   0%|          | 0/500 [00:00<?, ?it/s]"
      ]
     },
     "metadata": {},
     "output_type": "display_data"
    },
    {
     "data": {
      "application/vnd.jupyter.widget-view+json": {
       "model_id": "c66c86e64b3c430f900e964dacbc0821",
       "version_major": 2,
       "version_minor": 0
      },
      "text/plain": [
       "Doing toys:   0%|          | 0/500 [00:00<?, ?it/s]"
      ]
     },
     "metadata": {},
     "output_type": "display_data"
    },
    {
     "data": {
      "application/vnd.jupyter.widget-view+json": {
       "model_id": "3efa9c807bc74fcb9b517fb9a2ecdb5e",
       "version_major": 2,
       "version_minor": 0
      },
      "text/plain": [
       "Doing toys:   0%|          | 0/500 [00:00<?, ?it/s]"
      ]
     },
     "metadata": {},
     "output_type": "display_data"
    },
    {
     "data": {
      "application/vnd.jupyter.widget-view+json": {
       "model_id": "cae909453f114ffe85fde0e153e6825d",
       "version_major": 2,
       "version_minor": 0
      },
      "text/plain": [
       "Doing toys:   0%|          | 0/500 [00:00<?, ?it/s]"
      ]
     },
     "metadata": {},
     "output_type": "display_data"
    },
    {
     "data": {
      "application/vnd.jupyter.widget-view+json": {
       "model_id": "5578b3ace901419485171aef70425490",
       "version_major": 2,
       "version_minor": 0
      },
      "text/plain": [
       "Doing toys:   0%|          | 0/500 [00:00<?, ?it/s]"
      ]
     },
     "metadata": {},
     "output_type": "display_data"
    },
    {
     "data": {
      "application/vnd.jupyter.widget-view+json": {
       "model_id": "83861f6c7e064fb4861fa27f62f0a709",
       "version_major": 2,
       "version_minor": 0
      },
      "text/plain": [
       "Doing toys:   0%|          | 0/500 [00:00<?, ?it/s]"
      ]
     },
     "metadata": {},
     "output_type": "display_data"
    },
    {
     "data": {
      "application/vnd.jupyter.widget-view+json": {
       "model_id": "af25adc1c1994c54bc4220256f4bdb9e",
       "version_major": 2,
       "version_minor": 0
      },
      "text/plain": [
       "Doing toys:   0%|          | 0/500 [00:00<?, ?it/s]"
      ]
     },
     "metadata": {},
     "output_type": "display_data"
    },
    {
     "data": {
      "application/vnd.jupyter.widget-view+json": {
       "model_id": "1d78378614284e9cbbf687cc4f7eac08",
       "version_major": 2,
       "version_minor": 0
      },
      "text/plain": [
       "Doing toys:   0%|          | 0/500 [00:00<?, ?it/s]"
      ]
     },
     "metadata": {},
     "output_type": "display_data"
    },
    {
     "data": {
      "application/vnd.jupyter.widget-view+json": {
       "model_id": "ad6c43332c4e4517a3a261ca61e3e89d",
       "version_major": 2,
       "version_minor": 0
      },
      "text/plain": [
       "Doing toys:   0%|          | 0/500 [00:00<?, ?it/s]"
      ]
     },
     "metadata": {},
     "output_type": "display_data"
    },
    {
     "data": {
      "application/vnd.jupyter.widget-view+json": {
       "model_id": "dbffb7d6f3d54c82921013ad1dde1fd9",
       "version_major": 2,
       "version_minor": 0
      },
      "text/plain": [
       "Doing toys:   0%|          | 0/500 [00:00<?, ?it/s]"
      ]
     },
     "metadata": {},
     "output_type": "display_data"
    },
    {
     "data": {
      "application/vnd.jupyter.widget-view+json": {
       "model_id": "5ff5aee14b2943d29167a52eaf9fd3aa",
       "version_major": 2,
       "version_minor": 0
      },
      "text/plain": [
       "Doing toys:   0%|          | 0/500 [00:00<?, ?it/s]"
      ]
     },
     "metadata": {},
     "output_type": "display_data"
    },
    {
     "data": {
      "application/vnd.jupyter.widget-view+json": {
       "model_id": "e3ef855b7a3148f7a5c413a59ee33f61",
       "version_major": 2,
       "version_minor": 0
      },
      "text/plain": [
       "Doing toys:   0%|          | 0/500 [00:00<?, ?it/s]"
      ]
     },
     "metadata": {},
     "output_type": "display_data"
    },
    {
     "data": {
      "application/vnd.jupyter.widget-view+json": {
       "model_id": "01c7b6cc675648258fd826110050d360",
       "version_major": 2,
       "version_minor": 0
      },
      "text/plain": [
       "Doing toys:   0%|          | 0/500 [00:00<?, ?it/s]"
      ]
     },
     "metadata": {},
     "output_type": "display_data"
    },
    {
     "data": {
      "application/vnd.jupyter.widget-view+json": {
       "model_id": "14949bac12bf441c894f73deb2d8ef57",
       "version_major": 2,
       "version_minor": 0
      },
      "text/plain": [
       "Doing toys:   0%|          | 0/500 [00:00<?, ?it/s]"
      ]
     },
     "metadata": {},
     "output_type": "display_data"
    },
    {
     "data": {
      "application/vnd.jupyter.widget-view+json": {
       "model_id": "e0ba28a65a554dce8eb8533ffcd5692d",
       "version_major": 2,
       "version_minor": 0
      },
      "text/plain": [
       "Doing toys:   0%|          | 0/500 [00:00<?, ?it/s]"
      ]
     },
     "metadata": {},
     "output_type": "display_data"
    },
    {
     "data": {
      "application/vnd.jupyter.widget-view+json": {
       "model_id": "2499615a5c3d44e3919d7cd8d96c9351",
       "version_major": 2,
       "version_minor": 0
      },
      "text/plain": [
       "Doing toys:   0%|          | 0/500 [00:00<?, ?it/s]"
      ]
     },
     "metadata": {},
     "output_type": "display_data"
    },
    {
     "data": {
      "application/vnd.jupyter.widget-view+json": {
       "model_id": "137eb9d553ba4a8ba57ec823e2cc03ac",
       "version_major": 2,
       "version_minor": 0
      },
      "text/plain": [
       "Doing toys:   0%|          | 0/500 [00:00<?, ?it/s]"
      ]
     },
     "metadata": {},
     "output_type": "display_data"
    },
    {
     "data": {
      "application/vnd.jupyter.widget-view+json": {
       "model_id": "0ebebd9ca2af4b3898342b574d87952b",
       "version_major": 2,
       "version_minor": 0
      },
      "text/plain": [
       "Doing toys:   0%|          | 0/500 [00:00<?, ?it/s]"
      ]
     },
     "metadata": {},
     "output_type": "display_data"
    },
    {
     "data": {
      "application/vnd.jupyter.widget-view+json": {
       "model_id": "bd4f949720ca43c583e9370de1a86b9e",
       "version_major": 2,
       "version_minor": 0
      },
      "text/plain": [
       "Doing toys:   0%|          | 0/500 [00:00<?, ?it/s]"
      ]
     },
     "metadata": {},
     "output_type": "display_data"
    },
    {
     "data": {
      "application/vnd.jupyter.widget-view+json": {
       "model_id": "29828c7fac4d40d2be3dce27e84c8c5b",
       "version_major": 2,
       "version_minor": 0
      },
      "text/plain": [
       "Doing toys:   0%|          | 0/500 [00:00<?, ?it/s]"
      ]
     },
     "metadata": {},
     "output_type": "display_data"
    },
    {
     "data": {
      "application/vnd.jupyter.widget-view+json": {
       "model_id": "2b2852632f3a49f59ed5b048f5f78c01",
       "version_major": 2,
       "version_minor": 0
      },
      "text/plain": [
       "Doing toys:   0%|          | 0/500 [00:00<?, ?it/s]"
      ]
     },
     "metadata": {},
     "output_type": "display_data"
    },
    {
     "data": {
      "application/vnd.jupyter.widget-view+json": {
       "model_id": "947fde693da94ec4a985ebeef1c5b7e2",
       "version_major": 2,
       "version_minor": 0
      },
      "text/plain": [
       "Doing toys:   0%|          | 0/500 [00:00<?, ?it/s]"
      ]
     },
     "metadata": {},
     "output_type": "display_data"
    },
    {
     "data": {
      "application/vnd.jupyter.widget-view+json": {
       "model_id": "bac393711552413e803139f941a214e2",
       "version_major": 2,
       "version_minor": 0
      },
      "text/plain": [
       "Doing toys:   0%|          | 0/500 [00:00<?, ?it/s]"
      ]
     },
     "metadata": {},
     "output_type": "display_data"
    },
    {
     "data": {
      "application/vnd.jupyter.widget-view+json": {
       "model_id": "b545af54a4844e86aba2920bb6d4efd2",
       "version_major": 2,
       "version_minor": 0
      },
      "text/plain": [
       "Doing toys:   0%|          | 0/500 [00:00<?, ?it/s]"
      ]
     },
     "metadata": {},
     "output_type": "display_data"
    },
    {
     "data": {
      "application/vnd.jupyter.widget-view+json": {
       "model_id": "1fb44e9a6b134369bfeecfee6da6c52b",
       "version_major": 2,
       "version_minor": 0
      },
      "text/plain": [
       "Doing toys:   0%|          | 0/500 [00:00<?, ?it/s]"
      ]
     },
     "metadata": {},
     "output_type": "display_data"
    },
    {
     "data": {
      "application/vnd.jupyter.widget-view+json": {
       "model_id": "c912c94a53ce4b01a8986f9218164723",
       "version_major": 2,
       "version_minor": 0
      },
      "text/plain": [
       "Doing toys:   0%|          | 0/500 [00:00<?, ?it/s]"
      ]
     },
     "metadata": {},
     "output_type": "display_data"
    },
    {
     "data": {
      "application/vnd.jupyter.widget-view+json": {
       "model_id": "0d6489c8b4bc458391e09d027b8eb303",
       "version_major": 2,
       "version_minor": 0
      },
      "text/plain": [
       "Doing toys:   0%|          | 0/500 [00:00<?, ?it/s]"
      ]
     },
     "metadata": {},
     "output_type": "display_data"
    },
    {
     "data": {
      "application/vnd.jupyter.widget-view+json": {
       "model_id": "5b38ec5b2fe242bd9eef5e4aa6c5566d",
       "version_major": 2,
       "version_minor": 0
      },
      "text/plain": [
       "Doing toys:   0%|          | 0/500 [00:00<?, ?it/s]"
      ]
     },
     "metadata": {},
     "output_type": "display_data"
    },
    {
     "data": {
      "application/vnd.jupyter.widget-view+json": {
       "model_id": "926dcbea166f4fd1b2376ac0c5b61bed",
       "version_major": 2,
       "version_minor": 0
      },
      "text/plain": [
       "Doing toys:   0%|          | 0/500 [00:00<?, ?it/s]"
      ]
     },
     "metadata": {},
     "output_type": "display_data"
    },
    {
     "data": {
      "application/vnd.jupyter.widget-view+json": {
       "model_id": "c5214901c5164accaf9d740005891aa5",
       "version_major": 2,
       "version_minor": 0
      },
      "text/plain": [
       "Doing toys:   0%|          | 0/500 [00:00<?, ?it/s]"
      ]
     },
     "metadata": {},
     "output_type": "display_data"
    },
    {
     "data": {
      "application/vnd.jupyter.widget-view+json": {
       "model_id": "e0bdc02a97be4805ad3e93ccd6b0ce46",
       "version_major": 2,
       "version_minor": 0
      },
      "text/plain": [
       "Doing toys:   0%|          | 0/500 [00:00<?, ?it/s]"
      ]
     },
     "metadata": {},
     "output_type": "display_data"
    },
    {
     "data": {
      "application/vnd.jupyter.widget-view+json": {
       "model_id": "46b9ce511e494a1cb6e3005e4de36abf",
       "version_major": 2,
       "version_minor": 0
      },
      "text/plain": [
       "Doing toys:   0%|          | 0/500 [00:00<?, ?it/s]"
      ]
     },
     "metadata": {},
     "output_type": "display_data"
    },
    {
     "name": "stderr",
     "output_type": "stream",
     "text": [
      "/Users/amirr/Desktop/Flame/flamedisx/flamedisx/source.py:271: UserWarning: Defaults for unused settings ignored: {'max_sigma': None, 'max_sigma_outer': None}\n",
      "  warnings.warn(f\"Defaults for unused settings ignored: {unused}\")\n",
      "Estimating mus: 0it [00:00, ?it/s]\n",
      "Estimating mus: 0it [00:00, ?it/s]\n",
      "Estimating mus: 0it [00:00, ?it/s]\n",
      "Estimating mus: 0it [00:00, ?it/s]\n",
      "Estimating mus: 0it [00:00, ?it/s]\n",
      "Estimating mus: 0it [00:00, ?it/s]\n",
      "Estimating mus: 0it [00:00, ?it/s]\n",
      "Estimating mus: 0it [00:00, ?it/s]\n"
     ]
    },
    {
     "data": {
      "application/vnd.jupyter.widget-view+json": {
       "model_id": "57eec91887ef4e589131a5a7ba069e16",
       "version_major": 2,
       "version_minor": 0
      },
      "text/plain": [
       "Scanning over mus:   0%|          | 0/40 [00:00<?, ?it/s]"
      ]
     },
     "metadata": {},
     "output_type": "display_data"
    },
    {
     "data": {
      "application/vnd.jupyter.widget-view+json": {
       "model_id": "7d94baa0c0ab4fc2a1e5477c7aa03e05",
       "version_major": 2,
       "version_minor": 0
      },
      "text/plain": [
       "Doing toys:   0%|          | 0/500 [00:00<?, ?it/s]"
      ]
     },
     "metadata": {},
     "output_type": "display_data"
    },
    {
     "data": {
      "application/vnd.jupyter.widget-view+json": {
       "model_id": "aed5d67a818f45c29af300f7f9b4f46a",
       "version_major": 2,
       "version_minor": 0
      },
      "text/plain": [
       "Doing toys:   0%|          | 0/500 [00:00<?, ?it/s]"
      ]
     },
     "metadata": {},
     "output_type": "display_data"
    },
    {
     "data": {
      "application/vnd.jupyter.widget-view+json": {
       "model_id": "e97e37652e564dd78dc0ae0718e65efd",
       "version_major": 2,
       "version_minor": 0
      },
      "text/plain": [
       "Doing toys:   0%|          | 0/500 [00:00<?, ?it/s]"
      ]
     },
     "metadata": {},
     "output_type": "display_data"
    },
    {
     "data": {
      "application/vnd.jupyter.widget-view+json": {
       "model_id": "7f68e127a9f44999afa682f84bbd4bb8",
       "version_major": 2,
       "version_minor": 0
      },
      "text/plain": [
       "Doing toys:   0%|          | 0/500 [00:00<?, ?it/s]"
      ]
     },
     "metadata": {},
     "output_type": "display_data"
    },
    {
     "data": {
      "application/vnd.jupyter.widget-view+json": {
       "model_id": "61e1c753f68842efb3c0868817bf7885",
       "version_major": 2,
       "version_minor": 0
      },
      "text/plain": [
       "Doing toys:   0%|          | 0/500 [00:00<?, ?it/s]"
      ]
     },
     "metadata": {},
     "output_type": "display_data"
    },
    {
     "data": {
      "application/vnd.jupyter.widget-view+json": {
       "model_id": "05a01cda49624accb97c2e374e65901b",
       "version_major": 2,
       "version_minor": 0
      },
      "text/plain": [
       "Doing toys:   0%|          | 0/500 [00:00<?, ?it/s]"
      ]
     },
     "metadata": {},
     "output_type": "display_data"
    },
    {
     "data": {
      "application/vnd.jupyter.widget-view+json": {
       "model_id": "28fba4b09a1b4083b2e9d95bc77f67d4",
       "version_major": 2,
       "version_minor": 0
      },
      "text/plain": [
       "Doing toys:   0%|          | 0/500 [00:00<?, ?it/s]"
      ]
     },
     "metadata": {},
     "output_type": "display_data"
    },
    {
     "data": {
      "application/vnd.jupyter.widget-view+json": {
       "model_id": "1e4a664e6ecd481c935be767e880bdb7",
       "version_major": 2,
       "version_minor": 0
      },
      "text/plain": [
       "Doing toys:   0%|          | 0/500 [00:00<?, ?it/s]"
      ]
     },
     "metadata": {},
     "output_type": "display_data"
    },
    {
     "data": {
      "application/vnd.jupyter.widget-view+json": {
       "model_id": "0fd7d05cf61545d28ae0e3ce82c58daf",
       "version_major": 2,
       "version_minor": 0
      },
      "text/plain": [
       "Doing toys:   0%|          | 0/500 [00:00<?, ?it/s]"
      ]
     },
     "metadata": {},
     "output_type": "display_data"
    },
    {
     "data": {
      "application/vnd.jupyter.widget-view+json": {
       "model_id": "0b95925e2ddb4b819afdad3e0aa06e43",
       "version_major": 2,
       "version_minor": 0
      },
      "text/plain": [
       "Doing toys:   0%|          | 0/500 [00:00<?, ?it/s]"
      ]
     },
     "metadata": {},
     "output_type": "display_data"
    },
    {
     "data": {
      "application/vnd.jupyter.widget-view+json": {
       "model_id": "cee321f3c1954b69a332c6136835820a",
       "version_major": 2,
       "version_minor": 0
      },
      "text/plain": [
       "Doing toys:   0%|          | 0/500 [00:00<?, ?it/s]"
      ]
     },
     "metadata": {},
     "output_type": "display_data"
    },
    {
     "data": {
      "application/vnd.jupyter.widget-view+json": {
       "model_id": "eaa2742ed3164154a760bdffaa9f339c",
       "version_major": 2,
       "version_minor": 0
      },
      "text/plain": [
       "Doing toys:   0%|          | 0/500 [00:00<?, ?it/s]"
      ]
     },
     "metadata": {},
     "output_type": "display_data"
    },
    {
     "data": {
      "application/vnd.jupyter.widget-view+json": {
       "model_id": "1242e28e36c1408ebc6f276bfd9af161",
       "version_major": 2,
       "version_minor": 0
      },
      "text/plain": [
       "Doing toys:   0%|          | 0/500 [00:00<?, ?it/s]"
      ]
     },
     "metadata": {},
     "output_type": "display_data"
    },
    {
     "data": {
      "application/vnd.jupyter.widget-view+json": {
       "model_id": "f207a15deadb4d829c12166f5216684f",
       "version_major": 2,
       "version_minor": 0
      },
      "text/plain": [
       "Doing toys:   0%|          | 0/500 [00:00<?, ?it/s]"
      ]
     },
     "metadata": {},
     "output_type": "display_data"
    },
    {
     "data": {
      "application/vnd.jupyter.widget-view+json": {
       "model_id": "462ee4685ea94aefb6284f0a207c0fca",
       "version_major": 2,
       "version_minor": 0
      },
      "text/plain": [
       "Doing toys:   0%|          | 0/500 [00:00<?, ?it/s]"
      ]
     },
     "metadata": {},
     "output_type": "display_data"
    },
    {
     "data": {
      "application/vnd.jupyter.widget-view+json": {
       "model_id": "2b5edc8228ef459d8880b8ae6bc76511",
       "version_major": 2,
       "version_minor": 0
      },
      "text/plain": [
       "Doing toys:   0%|          | 0/500 [00:00<?, ?it/s]"
      ]
     },
     "metadata": {},
     "output_type": "display_data"
    },
    {
     "data": {
      "application/vnd.jupyter.widget-view+json": {
       "model_id": "9386588b038544239bdc885d93c29543",
       "version_major": 2,
       "version_minor": 0
      },
      "text/plain": [
       "Doing toys:   0%|          | 0/500 [00:00<?, ?it/s]"
      ]
     },
     "metadata": {},
     "output_type": "display_data"
    },
    {
     "data": {
      "application/vnd.jupyter.widget-view+json": {
       "model_id": "be255e010c794a6aa095a01bedb8d511",
       "version_major": 2,
       "version_minor": 0
      },
      "text/plain": [
       "Doing toys:   0%|          | 0/500 [00:00<?, ?it/s]"
      ]
     },
     "metadata": {},
     "output_type": "display_data"
    },
    {
     "data": {
      "application/vnd.jupyter.widget-view+json": {
       "model_id": "d112c112116942f5baa884376007ec83",
       "version_major": 2,
       "version_minor": 0
      },
      "text/plain": [
       "Doing toys:   0%|          | 0/500 [00:00<?, ?it/s]"
      ]
     },
     "metadata": {},
     "output_type": "display_data"
    },
    {
     "data": {
      "application/vnd.jupyter.widget-view+json": {
       "model_id": "5dd3a0f802da4715acc13a3a3b00269e",
       "version_major": 2,
       "version_minor": 0
      },
      "text/plain": [
       "Doing toys:   0%|          | 0/500 [00:00<?, ?it/s]"
      ]
     },
     "metadata": {},
     "output_type": "display_data"
    },
    {
     "data": {
      "application/vnd.jupyter.widget-view+json": {
       "model_id": "63228166880c4ae381e9094e1ee63346",
       "version_major": 2,
       "version_minor": 0
      },
      "text/plain": [
       "Doing toys:   0%|          | 0/500 [00:00<?, ?it/s]"
      ]
     },
     "metadata": {},
     "output_type": "display_data"
    },
    {
     "data": {
      "application/vnd.jupyter.widget-view+json": {
       "model_id": "f2deded6e5e949ad9e8d72ed3e0fc5fa",
       "version_major": 2,
       "version_minor": 0
      },
      "text/plain": [
       "Doing toys:   0%|          | 0/500 [00:00<?, ?it/s]"
      ]
     },
     "metadata": {},
     "output_type": "display_data"
    },
    {
     "data": {
      "application/vnd.jupyter.widget-view+json": {
       "model_id": "895090b3754f4d39831b19b0b8655c70",
       "version_major": 2,
       "version_minor": 0
      },
      "text/plain": [
       "Doing toys:   0%|          | 0/500 [00:00<?, ?it/s]"
      ]
     },
     "metadata": {},
     "output_type": "display_data"
    },
    {
     "data": {
      "application/vnd.jupyter.widget-view+json": {
       "model_id": "e1009546965345edb04bfe7a6e21d550",
       "version_major": 2,
       "version_minor": 0
      },
      "text/plain": [
       "Doing toys:   0%|          | 0/500 [00:00<?, ?it/s]"
      ]
     },
     "metadata": {},
     "output_type": "display_data"
    },
    {
     "data": {
      "application/vnd.jupyter.widget-view+json": {
       "model_id": "fa73d7da3f67452b8cf65091c5eebd26",
       "version_major": 2,
       "version_minor": 0
      },
      "text/plain": [
       "Doing toys:   0%|          | 0/500 [00:00<?, ?it/s]"
      ]
     },
     "metadata": {},
     "output_type": "display_data"
    },
    {
     "data": {
      "application/vnd.jupyter.widget-view+json": {
       "model_id": "1ea2024cb9a448d8a3d2c36d57344d1d",
       "version_major": 2,
       "version_minor": 0
      },
      "text/plain": [
       "Doing toys:   0%|          | 0/500 [00:00<?, ?it/s]"
      ]
     },
     "metadata": {},
     "output_type": "display_data"
    },
    {
     "data": {
      "application/vnd.jupyter.widget-view+json": {
       "model_id": "6732f7aaa14f461eabd29ce32c10ee2d",
       "version_major": 2,
       "version_minor": 0
      },
      "text/plain": [
       "Doing toys:   0%|          | 0/500 [00:00<?, ?it/s]"
      ]
     },
     "metadata": {},
     "output_type": "display_data"
    },
    {
     "data": {
      "application/vnd.jupyter.widget-view+json": {
       "model_id": "754df929ff2f457eacb10d5af1b034ca",
       "version_major": 2,
       "version_minor": 0
      },
      "text/plain": [
       "Doing toys:   0%|          | 0/500 [00:00<?, ?it/s]"
      ]
     },
     "metadata": {},
     "output_type": "display_data"
    },
    {
     "data": {
      "application/vnd.jupyter.widget-view+json": {
       "model_id": "e56e2c53bb0e42d98d150b4bb719cc05",
       "version_major": 2,
       "version_minor": 0
      },
      "text/plain": [
       "Doing toys:   0%|          | 0/500 [00:00<?, ?it/s]"
      ]
     },
     "metadata": {},
     "output_type": "display_data"
    },
    {
     "data": {
      "application/vnd.jupyter.widget-view+json": {
       "model_id": "05b3406e1f6d4084adf17c47f0bb02e1",
       "version_major": 2,
       "version_minor": 0
      },
      "text/plain": [
       "Doing toys:   0%|          | 0/500 [00:00<?, ?it/s]"
      ]
     },
     "metadata": {},
     "output_type": "display_data"
    },
    {
     "data": {
      "application/vnd.jupyter.widget-view+json": {
       "model_id": "1a53a11f16f841da9ba3a58040212e7e",
       "version_major": 2,
       "version_minor": 0
      },
      "text/plain": [
       "Doing toys:   0%|          | 0/500 [00:00<?, ?it/s]"
      ]
     },
     "metadata": {},
     "output_type": "display_data"
    },
    {
     "data": {
      "application/vnd.jupyter.widget-view+json": {
       "model_id": "246a9ee44ad941a294dee4ec201d6b97",
       "version_major": 2,
       "version_minor": 0
      },
      "text/plain": [
       "Doing toys:   0%|          | 0/500 [00:00<?, ?it/s]"
      ]
     },
     "metadata": {},
     "output_type": "display_data"
    },
    {
     "data": {
      "application/vnd.jupyter.widget-view+json": {
       "model_id": "c7485805067c47c89d159c6d8086a97d",
       "version_major": 2,
       "version_minor": 0
      },
      "text/plain": [
       "Doing toys:   0%|          | 0/500 [00:00<?, ?it/s]"
      ]
     },
     "metadata": {},
     "output_type": "display_data"
    },
    {
     "data": {
      "application/vnd.jupyter.widget-view+json": {
       "model_id": "bdcb1c580d564cadbb3259f82a51993f",
       "version_major": 2,
       "version_minor": 0
      },
      "text/plain": [
       "Doing toys:   0%|          | 0/500 [00:00<?, ?it/s]"
      ]
     },
     "metadata": {},
     "output_type": "display_data"
    },
    {
     "data": {
      "application/vnd.jupyter.widget-view+json": {
       "model_id": "3bdd0d1f97d544858aab96b4befe45fe",
       "version_major": 2,
       "version_minor": 0
      },
      "text/plain": [
       "Doing toys:   0%|          | 0/500 [00:00<?, ?it/s]"
      ]
     },
     "metadata": {},
     "output_type": "display_data"
    },
    {
     "data": {
      "application/vnd.jupyter.widget-view+json": {
       "model_id": "5c4012aa20064cb68d992e2f60b164de",
       "version_major": 2,
       "version_minor": 0
      },
      "text/plain": [
       "Doing toys:   0%|          | 0/500 [00:00<?, ?it/s]"
      ]
     },
     "metadata": {},
     "output_type": "display_data"
    },
    {
     "data": {
      "application/vnd.jupyter.widget-view+json": {
       "model_id": "b22fcd8a1df1440f84540fa28d0d1845",
       "version_major": 2,
       "version_minor": 0
      },
      "text/plain": [
       "Doing toys:   0%|          | 0/500 [00:00<?, ?it/s]"
      ]
     },
     "metadata": {},
     "output_type": "display_data"
    },
    {
     "data": {
      "application/vnd.jupyter.widget-view+json": {
       "model_id": "f1d5404079f8445ea53ba5643e0dade7",
       "version_major": 2,
       "version_minor": 0
      },
      "text/plain": [
       "Doing toys:   0%|          | 0/500 [00:00<?, ?it/s]"
      ]
     },
     "metadata": {},
     "output_type": "display_data"
    },
    {
     "data": {
      "application/vnd.jupyter.widget-view+json": {
       "model_id": "d7cadc8e883a49a1add6caed08a6bb1c",
       "version_major": 2,
       "version_minor": 0
      },
      "text/plain": [
       "Doing toys:   0%|          | 0/500 [00:00<?, ?it/s]"
      ]
     },
     "metadata": {},
     "output_type": "display_data"
    },
    {
     "data": {
      "application/vnd.jupyter.widget-view+json": {
       "model_id": "231cd4f3f094445b9bebf5610cfae445",
       "version_major": 2,
       "version_minor": 0
      },
      "text/plain": [
       "Doing toys:   0%|          | 0/500 [00:00<?, ?it/s]"
      ]
     },
     "metadata": {},
     "output_type": "display_data"
    },
    {
     "name": "stderr",
     "output_type": "stream",
     "text": [
      "/Users/amirr/Desktop/Flame/flamedisx/flamedisx/source.py:271: UserWarning: Defaults for unused settings ignored: {'max_sigma': None, 'max_sigma_outer': None}\n",
      "  warnings.warn(f\"Defaults for unused settings ignored: {unused}\")\n",
      "Estimating mus: 0it [00:00, ?it/s]\n",
      "Estimating mus: 0it [00:00, ?it/s]\n",
      "Estimating mus: 0it [00:00, ?it/s]\n",
      "Estimating mus: 0it [00:00, ?it/s]\n",
      "Estimating mus: 0it [00:00, ?it/s]\n",
      "Estimating mus: 0it [00:00, ?it/s]\n",
      "Estimating mus: 0it [00:00, ?it/s]\n",
      "Estimating mus: 0it [00:00, ?it/s]\n"
     ]
    },
    {
     "data": {
      "application/vnd.jupyter.widget-view+json": {
       "model_id": "c57a790e03e74b15b223df25887156f0",
       "version_major": 2,
       "version_minor": 0
      },
      "text/plain": [
       "Scanning over mus:   0%|          | 0/40 [00:00<?, ?it/s]"
      ]
     },
     "metadata": {},
     "output_type": "display_data"
    },
    {
     "data": {
      "application/vnd.jupyter.widget-view+json": {
       "model_id": "fe8ae37cc0ed45858894c4d50bbd5e6e",
       "version_major": 2,
       "version_minor": 0
      },
      "text/plain": [
       "Doing toys:   0%|          | 0/500 [00:00<?, ?it/s]"
      ]
     },
     "metadata": {},
     "output_type": "display_data"
    },
    {
     "data": {
      "application/vnd.jupyter.widget-view+json": {
       "model_id": "2737fd3aebaa4108a00a2d9504725e12",
       "version_major": 2,
       "version_minor": 0
      },
      "text/plain": [
       "Doing toys:   0%|          | 0/500 [00:00<?, ?it/s]"
      ]
     },
     "metadata": {},
     "output_type": "display_data"
    },
    {
     "data": {
      "application/vnd.jupyter.widget-view+json": {
       "model_id": "25d8e29d59aa41e3868fad3266a0bef9",
       "version_major": 2,
       "version_minor": 0
      },
      "text/plain": [
       "Doing toys:   0%|          | 0/500 [00:00<?, ?it/s]"
      ]
     },
     "metadata": {},
     "output_type": "display_data"
    },
    {
     "data": {
      "application/vnd.jupyter.widget-view+json": {
       "model_id": "36a106d1ae174302b4408ab43b96978a",
       "version_major": 2,
       "version_minor": 0
      },
      "text/plain": [
       "Doing toys:   0%|          | 0/500 [00:00<?, ?it/s]"
      ]
     },
     "metadata": {},
     "output_type": "display_data"
    },
    {
     "data": {
      "application/vnd.jupyter.widget-view+json": {
       "model_id": "bfe97bd9d65c46858cf0a822a0922495",
       "version_major": 2,
       "version_minor": 0
      },
      "text/plain": [
       "Doing toys:   0%|          | 0/500 [00:00<?, ?it/s]"
      ]
     },
     "metadata": {},
     "output_type": "display_data"
    },
    {
     "data": {
      "application/vnd.jupyter.widget-view+json": {
       "model_id": "af966b3d595b4b0caba42253a911d96b",
       "version_major": 2,
       "version_minor": 0
      },
      "text/plain": [
       "Doing toys:   0%|          | 0/500 [00:00<?, ?it/s]"
      ]
     },
     "metadata": {},
     "output_type": "display_data"
    },
    {
     "data": {
      "application/vnd.jupyter.widget-view+json": {
       "model_id": "22e4760c92f1431882fc48ca9f64d60d",
       "version_major": 2,
       "version_minor": 0
      },
      "text/plain": [
       "Doing toys:   0%|          | 0/500 [00:00<?, ?it/s]"
      ]
     },
     "metadata": {},
     "output_type": "display_data"
    },
    {
     "data": {
      "application/vnd.jupyter.widget-view+json": {
       "model_id": "cc041a643bbf400db2e9b2cb72ae55f3",
       "version_major": 2,
       "version_minor": 0
      },
      "text/plain": [
       "Doing toys:   0%|          | 0/500 [00:00<?, ?it/s]"
      ]
     },
     "metadata": {},
     "output_type": "display_data"
    },
    {
     "data": {
      "application/vnd.jupyter.widget-view+json": {
       "model_id": "d7127c965e314a768150b44f3dddb0a3",
       "version_major": 2,
       "version_minor": 0
      },
      "text/plain": [
       "Doing toys:   0%|          | 0/500 [00:00<?, ?it/s]"
      ]
     },
     "metadata": {},
     "output_type": "display_data"
    },
    {
     "data": {
      "application/vnd.jupyter.widget-view+json": {
       "model_id": "0064d54c265a47a8a72ff805111cf00b",
       "version_major": 2,
       "version_minor": 0
      },
      "text/plain": [
       "Doing toys:   0%|          | 0/500 [00:00<?, ?it/s]"
      ]
     },
     "metadata": {},
     "output_type": "display_data"
    },
    {
     "data": {
      "application/vnd.jupyter.widget-view+json": {
       "model_id": "bef8db29bb064fa2914e3e4644914f26",
       "version_major": 2,
       "version_minor": 0
      },
      "text/plain": [
       "Doing toys:   0%|          | 0/500 [00:00<?, ?it/s]"
      ]
     },
     "metadata": {},
     "output_type": "display_data"
    },
    {
     "data": {
      "application/vnd.jupyter.widget-view+json": {
       "model_id": "a862f97b9a334be7a8025a12a4d12c41",
       "version_major": 2,
       "version_minor": 0
      },
      "text/plain": [
       "Doing toys:   0%|          | 0/500 [00:00<?, ?it/s]"
      ]
     },
     "metadata": {},
     "output_type": "display_data"
    },
    {
     "data": {
      "application/vnd.jupyter.widget-view+json": {
       "model_id": "4f21cd4abb4c48d186c788e96705339f",
       "version_major": 2,
       "version_minor": 0
      },
      "text/plain": [
       "Doing toys:   0%|          | 0/500 [00:00<?, ?it/s]"
      ]
     },
     "metadata": {},
     "output_type": "display_data"
    },
    {
     "data": {
      "application/vnd.jupyter.widget-view+json": {
       "model_id": "449d44f50180472386393c99cb3a622d",
       "version_major": 2,
       "version_minor": 0
      },
      "text/plain": [
       "Doing toys:   0%|          | 0/500 [00:00<?, ?it/s]"
      ]
     },
     "metadata": {},
     "output_type": "display_data"
    },
    {
     "data": {
      "application/vnd.jupyter.widget-view+json": {
       "model_id": "8e984b8197e547ed931ecd1d6d796ff0",
       "version_major": 2,
       "version_minor": 0
      },
      "text/plain": [
       "Doing toys:   0%|          | 0/500 [00:00<?, ?it/s]"
      ]
     },
     "metadata": {},
     "output_type": "display_data"
    },
    {
     "data": {
      "application/vnd.jupyter.widget-view+json": {
       "model_id": "5e17a94d83c74aaa88d1fed6546f77bc",
       "version_major": 2,
       "version_minor": 0
      },
      "text/plain": [
       "Doing toys:   0%|          | 0/500 [00:00<?, ?it/s]"
      ]
     },
     "metadata": {},
     "output_type": "display_data"
    },
    {
     "data": {
      "application/vnd.jupyter.widget-view+json": {
       "model_id": "53e574595d0f46a6bf3cf1fd056e4ea8",
       "version_major": 2,
       "version_minor": 0
      },
      "text/plain": [
       "Doing toys:   0%|          | 0/500 [00:00<?, ?it/s]"
      ]
     },
     "metadata": {},
     "output_type": "display_data"
    },
    {
     "data": {
      "application/vnd.jupyter.widget-view+json": {
       "model_id": "aa1d84fb5c5546819d2e6801facace25",
       "version_major": 2,
       "version_minor": 0
      },
      "text/plain": [
       "Doing toys:   0%|          | 0/500 [00:00<?, ?it/s]"
      ]
     },
     "metadata": {},
     "output_type": "display_data"
    },
    {
     "data": {
      "application/vnd.jupyter.widget-view+json": {
       "model_id": "f2a4ef542d1b438aae186dbc77d657d6",
       "version_major": 2,
       "version_minor": 0
      },
      "text/plain": [
       "Doing toys:   0%|          | 0/500 [00:00<?, ?it/s]"
      ]
     },
     "metadata": {},
     "output_type": "display_data"
    },
    {
     "data": {
      "application/vnd.jupyter.widget-view+json": {
       "model_id": "2d4a9ba9e73a4acabb2455fd3d1bf71f",
       "version_major": 2,
       "version_minor": 0
      },
      "text/plain": [
       "Doing toys:   0%|          | 0/500 [00:00<?, ?it/s]"
      ]
     },
     "metadata": {},
     "output_type": "display_data"
    },
    {
     "data": {
      "application/vnd.jupyter.widget-view+json": {
       "model_id": "ead180ca314242339a13fd8fea02485f",
       "version_major": 2,
       "version_minor": 0
      },
      "text/plain": [
       "Doing toys:   0%|          | 0/500 [00:00<?, ?it/s]"
      ]
     },
     "metadata": {},
     "output_type": "display_data"
    },
    {
     "data": {
      "application/vnd.jupyter.widget-view+json": {
       "model_id": "67be36ecf7574cfe912caf8dbf0f51c6",
       "version_major": 2,
       "version_minor": 0
      },
      "text/plain": [
       "Doing toys:   0%|          | 0/500 [00:00<?, ?it/s]"
      ]
     },
     "metadata": {},
     "output_type": "display_data"
    },
    {
     "data": {
      "application/vnd.jupyter.widget-view+json": {
       "model_id": "652ac8659648435f859a83a548605325",
       "version_major": 2,
       "version_minor": 0
      },
      "text/plain": [
       "Doing toys:   0%|          | 0/500 [00:00<?, ?it/s]"
      ]
     },
     "metadata": {},
     "output_type": "display_data"
    },
    {
     "data": {
      "application/vnd.jupyter.widget-view+json": {
       "model_id": "b7078d60b1c0435cad882785ca7e6d2f",
       "version_major": 2,
       "version_minor": 0
      },
      "text/plain": [
       "Doing toys:   0%|          | 0/500 [00:00<?, ?it/s]"
      ]
     },
     "metadata": {},
     "output_type": "display_data"
    },
    {
     "data": {
      "application/vnd.jupyter.widget-view+json": {
       "model_id": "0490fe65b1a541eab3588a90f008a1f9",
       "version_major": 2,
       "version_minor": 0
      },
      "text/plain": [
       "Doing toys:   0%|          | 0/500 [00:00<?, ?it/s]"
      ]
     },
     "metadata": {},
     "output_type": "display_data"
    },
    {
     "data": {
      "application/vnd.jupyter.widget-view+json": {
       "model_id": "b02cf9c0c6a643d4a7c4333b97b5703b",
       "version_major": 2,
       "version_minor": 0
      },
      "text/plain": [
       "Doing toys:   0%|          | 0/500 [00:00<?, ?it/s]"
      ]
     },
     "metadata": {},
     "output_type": "display_data"
    },
    {
     "data": {
      "application/vnd.jupyter.widget-view+json": {
       "model_id": "f0fb7c53bbba4b709ff9e7096c625bbc",
       "version_major": 2,
       "version_minor": 0
      },
      "text/plain": [
       "Doing toys:   0%|          | 0/500 [00:00<?, ?it/s]"
      ]
     },
     "metadata": {},
     "output_type": "display_data"
    },
    {
     "data": {
      "application/vnd.jupyter.widget-view+json": {
       "model_id": "c4cc1d9936894665815b95a27498c1be",
       "version_major": 2,
       "version_minor": 0
      },
      "text/plain": [
       "Doing toys:   0%|          | 0/500 [00:00<?, ?it/s]"
      ]
     },
     "metadata": {},
     "output_type": "display_data"
    },
    {
     "data": {
      "application/vnd.jupyter.widget-view+json": {
       "model_id": "c69c70dd6c3847b39df7cfd69037239d",
       "version_major": 2,
       "version_minor": 0
      },
      "text/plain": [
       "Doing toys:   0%|          | 0/500 [00:00<?, ?it/s]"
      ]
     },
     "metadata": {},
     "output_type": "display_data"
    },
    {
     "data": {
      "application/vnd.jupyter.widget-view+json": {
       "model_id": "07634f02045346748e5eb8fc1b990d4f",
       "version_major": 2,
       "version_minor": 0
      },
      "text/plain": [
       "Doing toys:   0%|          | 0/500 [00:00<?, ?it/s]"
      ]
     },
     "metadata": {},
     "output_type": "display_data"
    },
    {
     "data": {
      "application/vnd.jupyter.widget-view+json": {
       "model_id": "724a6fcfb0c34b33830c1459d8cae084",
       "version_major": 2,
       "version_minor": 0
      },
      "text/plain": [
       "Doing toys:   0%|          | 0/500 [00:00<?, ?it/s]"
      ]
     },
     "metadata": {},
     "output_type": "display_data"
    },
    {
     "data": {
      "application/vnd.jupyter.widget-view+json": {
       "model_id": "24d826ff56ba492d925d8e32f5ba1511",
       "version_major": 2,
       "version_minor": 0
      },
      "text/plain": [
       "Doing toys:   0%|          | 0/500 [00:00<?, ?it/s]"
      ]
     },
     "metadata": {},
     "output_type": "display_data"
    },
    {
     "data": {
      "application/vnd.jupyter.widget-view+json": {
       "model_id": "2f426038681442a3ae3cc612ada5f3d1",
       "version_major": 2,
       "version_minor": 0
      },
      "text/plain": [
       "Doing toys:   0%|          | 0/500 [00:00<?, ?it/s]"
      ]
     },
     "metadata": {},
     "output_type": "display_data"
    },
    {
     "data": {
      "application/vnd.jupyter.widget-view+json": {
       "model_id": "502aa7bccd164ce993bde60b87f98e0c",
       "version_major": 2,
       "version_minor": 0
      },
      "text/plain": [
       "Doing toys:   0%|          | 0/500 [00:00<?, ?it/s]"
      ]
     },
     "metadata": {},
     "output_type": "display_data"
    },
    {
     "data": {
      "application/vnd.jupyter.widget-view+json": {
       "model_id": "df2a86aeea6547b1b318a5bebd9711a3",
       "version_major": 2,
       "version_minor": 0
      },
      "text/plain": [
       "Doing toys:   0%|          | 0/500 [00:00<?, ?it/s]"
      ]
     },
     "metadata": {},
     "output_type": "display_data"
    },
    {
     "data": {
      "application/vnd.jupyter.widget-view+json": {
       "model_id": "c03fd1fe6d9148c3887feb8d6cbf4ab2",
       "version_major": 2,
       "version_minor": 0
      },
      "text/plain": [
       "Doing toys:   0%|          | 0/500 [00:00<?, ?it/s]"
      ]
     },
     "metadata": {},
     "output_type": "display_data"
    },
    {
     "data": {
      "application/vnd.jupyter.widget-view+json": {
       "model_id": "a7cfcb7311cb4ac484b21d6234d2f214",
       "version_major": 2,
       "version_minor": 0
      },
      "text/plain": [
       "Doing toys:   0%|          | 0/500 [00:00<?, ?it/s]"
      ]
     },
     "metadata": {},
     "output_type": "display_data"
    },
    {
     "data": {
      "application/vnd.jupyter.widget-view+json": {
       "model_id": "d719dbd5971d4cb4bf63c91663a6e1dd",
       "version_major": 2,
       "version_minor": 0
      },
      "text/plain": [
       "Doing toys:   0%|          | 0/500 [00:00<?, ?it/s]"
      ]
     },
     "metadata": {},
     "output_type": "display_data"
    },
    {
     "data": {
      "application/vnd.jupyter.widget-view+json": {
       "model_id": "df80d7e7c7634a12a5da75460d64b65c",
       "version_major": 2,
       "version_minor": 0
      },
      "text/plain": [
       "Doing toys:   0%|          | 0/500 [00:00<?, ?it/s]"
      ]
     },
     "metadata": {},
     "output_type": "display_data"
    },
    {
     "data": {
      "application/vnd.jupyter.widget-view+json": {
       "model_id": "12ad9f587a024e96b9983efa1c718a6e",
       "version_major": 2,
       "version_minor": 0
      },
      "text/plain": [
       "Doing toys:   0%|          | 0/500 [00:00<?, ?it/s]"
      ]
     },
     "metadata": {},
     "output_type": "display_data"
    },
    {
     "name": "stderr",
     "output_type": "stream",
     "text": [
      "/Users/amirr/Desktop/Flame/flamedisx/flamedisx/source.py:271: UserWarning: Defaults for unused settings ignored: {'max_sigma': None, 'max_sigma_outer': None}\n",
      "  warnings.warn(f\"Defaults for unused settings ignored: {unused}\")\n",
      "Estimating mus: 0it [00:00, ?it/s]\n",
      "Estimating mus: 0it [00:00, ?it/s]\n",
      "Estimating mus: 0it [00:00, ?it/s]\n",
      "Estimating mus: 0it [00:00, ?it/s]\n",
      "Estimating mus: 0it [00:00, ?it/s]\n",
      "Estimating mus: 0it [00:00, ?it/s]\n",
      "Estimating mus: 0it [00:00, ?it/s]\n",
      "Estimating mus: 0it [00:00, ?it/s]\n"
     ]
    },
    {
     "data": {
      "application/vnd.jupyter.widget-view+json": {
       "model_id": "3f13fa7f75614663b1839c55e65e2ff5",
       "version_major": 2,
       "version_minor": 0
      },
      "text/plain": [
       "Scanning over mus:   0%|          | 0/40 [00:00<?, ?it/s]"
      ]
     },
     "metadata": {},
     "output_type": "display_data"
    },
    {
     "data": {
      "application/vnd.jupyter.widget-view+json": {
       "model_id": "bd664c3ea6694de281a2328794b1d13e",
       "version_major": 2,
       "version_minor": 0
      },
      "text/plain": [
       "Doing toys:   0%|          | 0/500 [00:00<?, ?it/s]"
      ]
     },
     "metadata": {},
     "output_type": "display_data"
    },
    {
     "data": {
      "application/vnd.jupyter.widget-view+json": {
       "model_id": "7715827be90c4be4a81a1e9d0233d3ef",
       "version_major": 2,
       "version_minor": 0
      },
      "text/plain": [
       "Doing toys:   0%|          | 0/500 [00:00<?, ?it/s]"
      ]
     },
     "metadata": {},
     "output_type": "display_data"
    },
    {
     "data": {
      "application/vnd.jupyter.widget-view+json": {
       "model_id": "436471c7bb3947088caa92f9287d6094",
       "version_major": 2,
       "version_minor": 0
      },
      "text/plain": [
       "Doing toys:   0%|          | 0/500 [00:00<?, ?it/s]"
      ]
     },
     "metadata": {},
     "output_type": "display_data"
    },
    {
     "data": {
      "application/vnd.jupyter.widget-view+json": {
       "model_id": "c1efedcf22e54d96b41a9c6a07b5efe0",
       "version_major": 2,
       "version_minor": 0
      },
      "text/plain": [
       "Doing toys:   0%|          | 0/500 [00:00<?, ?it/s]"
      ]
     },
     "metadata": {},
     "output_type": "display_data"
    },
    {
     "data": {
      "application/vnd.jupyter.widget-view+json": {
       "model_id": "cb911e2821674ffcac7e0c6327989b22",
       "version_major": 2,
       "version_minor": 0
      },
      "text/plain": [
       "Doing toys:   0%|          | 0/500 [00:00<?, ?it/s]"
      ]
     },
     "metadata": {},
     "output_type": "display_data"
    },
    {
     "data": {
      "application/vnd.jupyter.widget-view+json": {
       "model_id": "ab0e1f8cd2df4accbda37b5183ebb43e",
       "version_major": 2,
       "version_minor": 0
      },
      "text/plain": [
       "Doing toys:   0%|          | 0/500 [00:00<?, ?it/s]"
      ]
     },
     "metadata": {},
     "output_type": "display_data"
    },
    {
     "data": {
      "application/vnd.jupyter.widget-view+json": {
       "model_id": "2a9df45377054a15abfadd13d68e4ed5",
       "version_major": 2,
       "version_minor": 0
      },
      "text/plain": [
       "Doing toys:   0%|          | 0/500 [00:00<?, ?it/s]"
      ]
     },
     "metadata": {},
     "output_type": "display_data"
    },
    {
     "data": {
      "application/vnd.jupyter.widget-view+json": {
       "model_id": "06043c8ee59943d5bf005c85c51af74d",
       "version_major": 2,
       "version_minor": 0
      },
      "text/plain": [
       "Doing toys:   0%|          | 0/500 [00:00<?, ?it/s]"
      ]
     },
     "metadata": {},
     "output_type": "display_data"
    },
    {
     "data": {
      "application/vnd.jupyter.widget-view+json": {
       "model_id": "2cc951ceb53b4d34a54d45177b9b9468",
       "version_major": 2,
       "version_minor": 0
      },
      "text/plain": [
       "Doing toys:   0%|          | 0/500 [00:00<?, ?it/s]"
      ]
     },
     "metadata": {},
     "output_type": "display_data"
    },
    {
     "data": {
      "application/vnd.jupyter.widget-view+json": {
       "model_id": "6c866ac5aba847628a28d1d806ffe33f",
       "version_major": 2,
       "version_minor": 0
      },
      "text/plain": [
       "Doing toys:   0%|          | 0/500 [00:00<?, ?it/s]"
      ]
     },
     "metadata": {},
     "output_type": "display_data"
    },
    {
     "data": {
      "application/vnd.jupyter.widget-view+json": {
       "model_id": "8fa5a2c1e98c4d6bb2e54263b9cd85f5",
       "version_major": 2,
       "version_minor": 0
      },
      "text/plain": [
       "Doing toys:   0%|          | 0/500 [00:00<?, ?it/s]"
      ]
     },
     "metadata": {},
     "output_type": "display_data"
    },
    {
     "data": {
      "application/vnd.jupyter.widget-view+json": {
       "model_id": "e667c4faabe94bbf97437947b8489954",
       "version_major": 2,
       "version_minor": 0
      },
      "text/plain": [
       "Doing toys:   0%|          | 0/500 [00:00<?, ?it/s]"
      ]
     },
     "metadata": {},
     "output_type": "display_data"
    },
    {
     "data": {
      "application/vnd.jupyter.widget-view+json": {
       "model_id": "32b9d7a1cc6842569cb7637e36e05937",
       "version_major": 2,
       "version_minor": 0
      },
      "text/plain": [
       "Doing toys:   0%|          | 0/500 [00:00<?, ?it/s]"
      ]
     },
     "metadata": {},
     "output_type": "display_data"
    },
    {
     "data": {
      "application/vnd.jupyter.widget-view+json": {
       "model_id": "cce5e79432174a168b64a1073afb993a",
       "version_major": 2,
       "version_minor": 0
      },
      "text/plain": [
       "Doing toys:   0%|          | 0/500 [00:00<?, ?it/s]"
      ]
     },
     "metadata": {},
     "output_type": "display_data"
    },
    {
     "data": {
      "application/vnd.jupyter.widget-view+json": {
       "model_id": "83facdc378864354a65ccf55d6b67bf1",
       "version_major": 2,
       "version_minor": 0
      },
      "text/plain": [
       "Doing toys:   0%|          | 0/500 [00:00<?, ?it/s]"
      ]
     },
     "metadata": {},
     "output_type": "display_data"
    },
    {
     "data": {
      "application/vnd.jupyter.widget-view+json": {
       "model_id": "907ab9a6c8784a48a63a1d946abb88a5",
       "version_major": 2,
       "version_minor": 0
      },
      "text/plain": [
       "Doing toys:   0%|          | 0/500 [00:00<?, ?it/s]"
      ]
     },
     "metadata": {},
     "output_type": "display_data"
    },
    {
     "data": {
      "application/vnd.jupyter.widget-view+json": {
       "model_id": "1b5013b8a89d4984a09b4e4f92931524",
       "version_major": 2,
       "version_minor": 0
      },
      "text/plain": [
       "Doing toys:   0%|          | 0/500 [00:00<?, ?it/s]"
      ]
     },
     "metadata": {},
     "output_type": "display_data"
    },
    {
     "data": {
      "application/vnd.jupyter.widget-view+json": {
       "model_id": "c63b462c088f462c9a5be044a10ceef3",
       "version_major": 2,
       "version_minor": 0
      },
      "text/plain": [
       "Doing toys:   0%|          | 0/500 [00:00<?, ?it/s]"
      ]
     },
     "metadata": {},
     "output_type": "display_data"
    },
    {
     "data": {
      "application/vnd.jupyter.widget-view+json": {
       "model_id": "0ab53c3f27c8405d948920fe90eb664d",
       "version_major": 2,
       "version_minor": 0
      },
      "text/plain": [
       "Doing toys:   0%|          | 0/500 [00:00<?, ?it/s]"
      ]
     },
     "metadata": {},
     "output_type": "display_data"
    },
    {
     "data": {
      "application/vnd.jupyter.widget-view+json": {
       "model_id": "8fed5147161c45c9aa7ac3f996fd673e",
       "version_major": 2,
       "version_minor": 0
      },
      "text/plain": [
       "Doing toys:   0%|          | 0/500 [00:00<?, ?it/s]"
      ]
     },
     "metadata": {},
     "output_type": "display_data"
    },
    {
     "data": {
      "application/vnd.jupyter.widget-view+json": {
       "model_id": "f3fb51e2d4f04f308b09856df627f7de",
       "version_major": 2,
       "version_minor": 0
      },
      "text/plain": [
       "Doing toys:   0%|          | 0/500 [00:00<?, ?it/s]"
      ]
     },
     "metadata": {},
     "output_type": "display_data"
    },
    {
     "data": {
      "application/vnd.jupyter.widget-view+json": {
       "model_id": "a728f3b9a5d748859be9a144be88fea4",
       "version_major": 2,
       "version_minor": 0
      },
      "text/plain": [
       "Doing toys:   0%|          | 0/500 [00:00<?, ?it/s]"
      ]
     },
     "metadata": {},
     "output_type": "display_data"
    },
    {
     "data": {
      "application/vnd.jupyter.widget-view+json": {
       "model_id": "61f46210515a455997c0a81332d5a2e4",
       "version_major": 2,
       "version_minor": 0
      },
      "text/plain": [
       "Doing toys:   0%|          | 0/500 [00:00<?, ?it/s]"
      ]
     },
     "metadata": {},
     "output_type": "display_data"
    },
    {
     "data": {
      "application/vnd.jupyter.widget-view+json": {
       "model_id": "f192844bed384352aa56f36521792fc5",
       "version_major": 2,
       "version_minor": 0
      },
      "text/plain": [
       "Doing toys:   0%|          | 0/500 [00:00<?, ?it/s]"
      ]
     },
     "metadata": {},
     "output_type": "display_data"
    },
    {
     "data": {
      "application/vnd.jupyter.widget-view+json": {
       "model_id": "500d59c0ff184b37bc2598460ff3a225",
       "version_major": 2,
       "version_minor": 0
      },
      "text/plain": [
       "Doing toys:   0%|          | 0/500 [00:00<?, ?it/s]"
      ]
     },
     "metadata": {},
     "output_type": "display_data"
    },
    {
     "data": {
      "application/vnd.jupyter.widget-view+json": {
       "model_id": "c0970a11daff45aca3021b0b5d3003a7",
       "version_major": 2,
       "version_minor": 0
      },
      "text/plain": [
       "Doing toys:   0%|          | 0/500 [00:00<?, ?it/s]"
      ]
     },
     "metadata": {},
     "output_type": "display_data"
    },
    {
     "data": {
      "application/vnd.jupyter.widget-view+json": {
       "model_id": "c354567dd5204024a861a6e1c58502ad",
       "version_major": 2,
       "version_minor": 0
      },
      "text/plain": [
       "Doing toys:   0%|          | 0/500 [00:00<?, ?it/s]"
      ]
     },
     "metadata": {},
     "output_type": "display_data"
    },
    {
     "data": {
      "application/vnd.jupyter.widget-view+json": {
       "model_id": "47325f5097424f5996004a42f585f64e",
       "version_major": 2,
       "version_minor": 0
      },
      "text/plain": [
       "Doing toys:   0%|          | 0/500 [00:00<?, ?it/s]"
      ]
     },
     "metadata": {},
     "output_type": "display_data"
    },
    {
     "data": {
      "application/vnd.jupyter.widget-view+json": {
       "model_id": "8f4646017167449bbe89ceb5de87c02a",
       "version_major": 2,
       "version_minor": 0
      },
      "text/plain": [
       "Doing toys:   0%|          | 0/500 [00:00<?, ?it/s]"
      ]
     },
     "metadata": {},
     "output_type": "display_data"
    },
    {
     "data": {
      "application/vnd.jupyter.widget-view+json": {
       "model_id": "92a67a8fed9a41109a156a3f978cf267",
       "version_major": 2,
       "version_minor": 0
      },
      "text/plain": [
       "Doing toys:   0%|          | 0/500 [00:00<?, ?it/s]"
      ]
     },
     "metadata": {},
     "output_type": "display_data"
    },
    {
     "data": {
      "application/vnd.jupyter.widget-view+json": {
       "model_id": "ab5c0ea7066c4bb19d0e4d9f85112e47",
       "version_major": 2,
       "version_minor": 0
      },
      "text/plain": [
       "Doing toys:   0%|          | 0/500 [00:00<?, ?it/s]"
      ]
     },
     "metadata": {},
     "output_type": "display_data"
    },
    {
     "data": {
      "application/vnd.jupyter.widget-view+json": {
       "model_id": "409d26e1a8c24a78b7bad170d16dd166",
       "version_major": 2,
       "version_minor": 0
      },
      "text/plain": [
       "Doing toys:   0%|          | 0/500 [00:00<?, ?it/s]"
      ]
     },
     "metadata": {},
     "output_type": "display_data"
    },
    {
     "data": {
      "application/vnd.jupyter.widget-view+json": {
       "model_id": "84c9e448581649089f9a7de625531946",
       "version_major": 2,
       "version_minor": 0
      },
      "text/plain": [
       "Doing toys:   0%|          | 0/500 [00:00<?, ?it/s]"
      ]
     },
     "metadata": {},
     "output_type": "display_data"
    },
    {
     "data": {
      "application/vnd.jupyter.widget-view+json": {
       "model_id": "b10e44436e4a40a296f935be221a9be6",
       "version_major": 2,
       "version_minor": 0
      },
      "text/plain": [
       "Doing toys:   0%|          | 0/500 [00:00<?, ?it/s]"
      ]
     },
     "metadata": {},
     "output_type": "display_data"
    },
    {
     "data": {
      "application/vnd.jupyter.widget-view+json": {
       "model_id": "591fd7a0a6c9488c92eec450af3e3549",
       "version_major": 2,
       "version_minor": 0
      },
      "text/plain": [
       "Doing toys:   0%|          | 0/500 [00:00<?, ?it/s]"
      ]
     },
     "metadata": {},
     "output_type": "display_data"
    },
    {
     "data": {
      "application/vnd.jupyter.widget-view+json": {
       "model_id": "ed636ec48a67419eb43af06db89188b3",
       "version_major": 2,
       "version_minor": 0
      },
      "text/plain": [
       "Doing toys:   0%|          | 0/500 [00:00<?, ?it/s]"
      ]
     },
     "metadata": {},
     "output_type": "display_data"
    },
    {
     "data": {
      "application/vnd.jupyter.widget-view+json": {
       "model_id": "5a7a80ec63004a5892ea6cb9a9e948bb",
       "version_major": 2,
       "version_minor": 0
      },
      "text/plain": [
       "Doing toys:   0%|          | 0/500 [00:00<?, ?it/s]"
      ]
     },
     "metadata": {},
     "output_type": "display_data"
    },
    {
     "data": {
      "application/vnd.jupyter.widget-view+json": {
       "model_id": "20565ee667c74f74bdc7f634b9629901",
       "version_major": 2,
       "version_minor": 0
      },
      "text/plain": [
       "Doing toys:   0%|          | 0/500 [00:00<?, ?it/s]"
      ]
     },
     "metadata": {},
     "output_type": "display_data"
    },
    {
     "data": {
      "application/vnd.jupyter.widget-view+json": {
       "model_id": "4f7e24f2d74c49a88b53b01a338c61f0",
       "version_major": 2,
       "version_minor": 0
      },
      "text/plain": [
       "Doing toys:   0%|          | 0/500 [00:00<?, ?it/s]"
      ]
     },
     "metadata": {},
     "output_type": "display_data"
    },
    {
     "data": {
      "application/vnd.jupyter.widget-view+json": {
       "model_id": "4fcb8cc82588429cae0516522ddc8beb",
       "version_major": 2,
       "version_minor": 0
      },
      "text/plain": [
       "Doing toys:   0%|          | 0/500 [00:00<?, ?it/s]"
      ]
     },
     "metadata": {},
     "output_type": "display_data"
    },
    {
     "name": "stderr",
     "output_type": "stream",
     "text": [
      "/Users/amirr/Desktop/Flame/flamedisx/flamedisx/source.py:271: UserWarning: Defaults for unused settings ignored: {'max_sigma': None, 'max_sigma_outer': None}\n",
      "  warnings.warn(f\"Defaults for unused settings ignored: {unused}\")\n",
      "Estimating mus: 0it [00:00, ?it/s]\n",
      "Estimating mus: 0it [00:00, ?it/s]\n",
      "Estimating mus: 0it [00:00, ?it/s]\n",
      "Estimating mus: 0it [00:00, ?it/s]\n",
      "Estimating mus: 0it [00:00, ?it/s]\n",
      "Estimating mus: 0it [00:00, ?it/s]\n",
      "Estimating mus: 0it [00:00, ?it/s]\n",
      "Estimating mus: 0it [00:00, ?it/s]\n"
     ]
    },
    {
     "data": {
      "application/vnd.jupyter.widget-view+json": {
       "model_id": "cb939d7f1cdd43d492b682f7bad58549",
       "version_major": 2,
       "version_minor": 0
      },
      "text/plain": [
       "Scanning over mus:   0%|          | 0/40 [00:00<?, ?it/s]"
      ]
     },
     "metadata": {},
     "output_type": "display_data"
    },
    {
     "data": {
      "application/vnd.jupyter.widget-view+json": {
       "model_id": "a8c1a43ca70447e38432748b10858a4d",
       "version_major": 2,
       "version_minor": 0
      },
      "text/plain": [
       "Doing toys:   0%|          | 0/500 [00:00<?, ?it/s]"
      ]
     },
     "metadata": {},
     "output_type": "display_data"
    },
    {
     "data": {
      "application/vnd.jupyter.widget-view+json": {
       "model_id": "b00c4e48a2f54687b324b2b8b7c28b2b",
       "version_major": 2,
       "version_minor": 0
      },
      "text/plain": [
       "Doing toys:   0%|          | 0/500 [00:00<?, ?it/s]"
      ]
     },
     "metadata": {},
     "output_type": "display_data"
    },
    {
     "data": {
      "application/vnd.jupyter.widget-view+json": {
       "model_id": "e74def0880d34ce4b8911355393bc231",
       "version_major": 2,
       "version_minor": 0
      },
      "text/plain": [
       "Doing toys:   0%|          | 0/500 [00:00<?, ?it/s]"
      ]
     },
     "metadata": {},
     "output_type": "display_data"
    },
    {
     "data": {
      "application/vnd.jupyter.widget-view+json": {
       "model_id": "0d25c8187f4348cfb3a1d8308ee4cc05",
       "version_major": 2,
       "version_minor": 0
      },
      "text/plain": [
       "Doing toys:   0%|          | 0/500 [00:00<?, ?it/s]"
      ]
     },
     "metadata": {},
     "output_type": "display_data"
    },
    {
     "data": {
      "application/vnd.jupyter.widget-view+json": {
       "model_id": "6ab4861c7e784192a20d4361d894c34e",
       "version_major": 2,
       "version_minor": 0
      },
      "text/plain": [
       "Doing toys:   0%|          | 0/500 [00:00<?, ?it/s]"
      ]
     },
     "metadata": {},
     "output_type": "display_data"
    },
    {
     "data": {
      "application/vnd.jupyter.widget-view+json": {
       "model_id": "815e082fac6c4287965f8951e8f314ef",
       "version_major": 2,
       "version_minor": 0
      },
      "text/plain": [
       "Doing toys:   0%|          | 0/500 [00:00<?, ?it/s]"
      ]
     },
     "metadata": {},
     "output_type": "display_data"
    },
    {
     "data": {
      "application/vnd.jupyter.widget-view+json": {
       "model_id": "ba378838d4f4442f9db672a5995616a2",
       "version_major": 2,
       "version_minor": 0
      },
      "text/plain": [
       "Doing toys:   0%|          | 0/500 [00:00<?, ?it/s]"
      ]
     },
     "metadata": {},
     "output_type": "display_data"
    },
    {
     "data": {
      "application/vnd.jupyter.widget-view+json": {
       "model_id": "5ea7cd7c4670404a92bde5d8ed8db27a",
       "version_major": 2,
       "version_minor": 0
      },
      "text/plain": [
       "Doing toys:   0%|          | 0/500 [00:00<?, ?it/s]"
      ]
     },
     "metadata": {},
     "output_type": "display_data"
    },
    {
     "data": {
      "application/vnd.jupyter.widget-view+json": {
       "model_id": "124929b714494f3e8ea89a9fb8586c24",
       "version_major": 2,
       "version_minor": 0
      },
      "text/plain": [
       "Doing toys:   0%|          | 0/500 [00:00<?, ?it/s]"
      ]
     },
     "metadata": {},
     "output_type": "display_data"
    },
    {
     "data": {
      "application/vnd.jupyter.widget-view+json": {
       "model_id": "720a8f6fb5f14afe984de91c23c1fa71",
       "version_major": 2,
       "version_minor": 0
      },
      "text/plain": [
       "Doing toys:   0%|          | 0/500 [00:00<?, ?it/s]"
      ]
     },
     "metadata": {},
     "output_type": "display_data"
    },
    {
     "data": {
      "application/vnd.jupyter.widget-view+json": {
       "model_id": "ceddd026167042b3bc7fa3e2d6e20c38",
       "version_major": 2,
       "version_minor": 0
      },
      "text/plain": [
       "Doing toys:   0%|          | 0/500 [00:00<?, ?it/s]"
      ]
     },
     "metadata": {},
     "output_type": "display_data"
    },
    {
     "data": {
      "application/vnd.jupyter.widget-view+json": {
       "model_id": "b6d90cfcf25d4ca6b596c7b119fc192d",
       "version_major": 2,
       "version_minor": 0
      },
      "text/plain": [
       "Doing toys:   0%|          | 0/500 [00:00<?, ?it/s]"
      ]
     },
     "metadata": {},
     "output_type": "display_data"
    },
    {
     "data": {
      "application/vnd.jupyter.widget-view+json": {
       "model_id": "13a145dc3a3a49ffb18cb3ba42fbfb76",
       "version_major": 2,
       "version_minor": 0
      },
      "text/plain": [
       "Doing toys:   0%|          | 0/500 [00:00<?, ?it/s]"
      ]
     },
     "metadata": {},
     "output_type": "display_data"
    },
    {
     "data": {
      "application/vnd.jupyter.widget-view+json": {
       "model_id": "dc5b477973bd4628a8b13fe00ea4bea7",
       "version_major": 2,
       "version_minor": 0
      },
      "text/plain": [
       "Doing toys:   0%|          | 0/500 [00:00<?, ?it/s]"
      ]
     },
     "metadata": {},
     "output_type": "display_data"
    },
    {
     "data": {
      "application/vnd.jupyter.widget-view+json": {
       "model_id": "5e48c8ddd3ba4dd081c69661bf664650",
       "version_major": 2,
       "version_minor": 0
      },
      "text/plain": [
       "Doing toys:   0%|          | 0/500 [00:00<?, ?it/s]"
      ]
     },
     "metadata": {},
     "output_type": "display_data"
    },
    {
     "data": {
      "application/vnd.jupyter.widget-view+json": {
       "model_id": "ae389709ee4c4ab39644d4b0e9b6c7cd",
       "version_major": 2,
       "version_minor": 0
      },
      "text/plain": [
       "Doing toys:   0%|          | 0/500 [00:00<?, ?it/s]"
      ]
     },
     "metadata": {},
     "output_type": "display_data"
    },
    {
     "data": {
      "application/vnd.jupyter.widget-view+json": {
       "model_id": "18e70d603b514ee38c2d93cc01551b3d",
       "version_major": 2,
       "version_minor": 0
      },
      "text/plain": [
       "Doing toys:   0%|          | 0/500 [00:00<?, ?it/s]"
      ]
     },
     "metadata": {},
     "output_type": "display_data"
    },
    {
     "data": {
      "application/vnd.jupyter.widget-view+json": {
       "model_id": "572546a4880d4a93a27a2e66a675abbb",
       "version_major": 2,
       "version_minor": 0
      },
      "text/plain": [
       "Doing toys:   0%|          | 0/500 [00:00<?, ?it/s]"
      ]
     },
     "metadata": {},
     "output_type": "display_data"
    },
    {
     "data": {
      "application/vnd.jupyter.widget-view+json": {
       "model_id": "60bac7c9d0dc458ea630d6a10e76d6db",
       "version_major": 2,
       "version_minor": 0
      },
      "text/plain": [
       "Doing toys:   0%|          | 0/500 [00:00<?, ?it/s]"
      ]
     },
     "metadata": {},
     "output_type": "display_data"
    },
    {
     "data": {
      "application/vnd.jupyter.widget-view+json": {
       "model_id": "bb88d37a1a844a2ab1f587e11f05dadc",
       "version_major": 2,
       "version_minor": 0
      },
      "text/plain": [
       "Doing toys:   0%|          | 0/500 [00:00<?, ?it/s]"
      ]
     },
     "metadata": {},
     "output_type": "display_data"
    },
    {
     "data": {
      "application/vnd.jupyter.widget-view+json": {
       "model_id": "cc73e0c3f0e349cfaebfcacb37c8f362",
       "version_major": 2,
       "version_minor": 0
      },
      "text/plain": [
       "Doing toys:   0%|          | 0/500 [00:00<?, ?it/s]"
      ]
     },
     "metadata": {},
     "output_type": "display_data"
    },
    {
     "data": {
      "application/vnd.jupyter.widget-view+json": {
       "model_id": "ec64faf8f8ca4e5bb21400f25438da79",
       "version_major": 2,
       "version_minor": 0
      },
      "text/plain": [
       "Doing toys:   0%|          | 0/500 [00:00<?, ?it/s]"
      ]
     },
     "metadata": {},
     "output_type": "display_data"
    },
    {
     "data": {
      "application/vnd.jupyter.widget-view+json": {
       "model_id": "92f9ea4fef9e4a4eacfcf0e7128465c8",
       "version_major": 2,
       "version_minor": 0
      },
      "text/plain": [
       "Doing toys:   0%|          | 0/500 [00:00<?, ?it/s]"
      ]
     },
     "metadata": {},
     "output_type": "display_data"
    },
    {
     "data": {
      "application/vnd.jupyter.widget-view+json": {
       "model_id": "8148b7a4f6834a51847f88ae92a03405",
       "version_major": 2,
       "version_minor": 0
      },
      "text/plain": [
       "Doing toys:   0%|          | 0/500 [00:00<?, ?it/s]"
      ]
     },
     "metadata": {},
     "output_type": "display_data"
    },
    {
     "data": {
      "application/vnd.jupyter.widget-view+json": {
       "model_id": "e658d62e07a94400a6b8916c3bfadda4",
       "version_major": 2,
       "version_minor": 0
      },
      "text/plain": [
       "Doing toys:   0%|          | 0/500 [00:00<?, ?it/s]"
      ]
     },
     "metadata": {},
     "output_type": "display_data"
    },
    {
     "data": {
      "application/vnd.jupyter.widget-view+json": {
       "model_id": "c00eaf72304f4faeac2aca18cdf403aa",
       "version_major": 2,
       "version_minor": 0
      },
      "text/plain": [
       "Doing toys:   0%|          | 0/500 [00:00<?, ?it/s]"
      ]
     },
     "metadata": {},
     "output_type": "display_data"
    },
    {
     "data": {
      "application/vnd.jupyter.widget-view+json": {
       "model_id": "1dd9991e6157436bbb5a6812b80d5da6",
       "version_major": 2,
       "version_minor": 0
      },
      "text/plain": [
       "Doing toys:   0%|          | 0/500 [00:00<?, ?it/s]"
      ]
     },
     "metadata": {},
     "output_type": "display_data"
    },
    {
     "data": {
      "application/vnd.jupyter.widget-view+json": {
       "model_id": "38abb9b9992a433db079d8f566bc54e3",
       "version_major": 2,
       "version_minor": 0
      },
      "text/plain": [
       "Doing toys:   0%|          | 0/500 [00:00<?, ?it/s]"
      ]
     },
     "metadata": {},
     "output_type": "display_data"
    },
    {
     "data": {
      "application/vnd.jupyter.widget-view+json": {
       "model_id": "ba32f3fa377e44a9ab299e5ed7f4a3be",
       "version_major": 2,
       "version_minor": 0
      },
      "text/plain": [
       "Doing toys:   0%|          | 0/500 [00:00<?, ?it/s]"
      ]
     },
     "metadata": {},
     "output_type": "display_data"
    },
    {
     "data": {
      "application/vnd.jupyter.widget-view+json": {
       "model_id": "071d2fcb690440789bc93b43bf029696",
       "version_major": 2,
       "version_minor": 0
      },
      "text/plain": [
       "Doing toys:   0%|          | 0/500 [00:00<?, ?it/s]"
      ]
     },
     "metadata": {},
     "output_type": "display_data"
    },
    {
     "data": {
      "application/vnd.jupyter.widget-view+json": {
       "model_id": "5972a9cfc791434cbfa73c5b400aecf2",
       "version_major": 2,
       "version_minor": 0
      },
      "text/plain": [
       "Doing toys:   0%|          | 0/500 [00:00<?, ?it/s]"
      ]
     },
     "metadata": {},
     "output_type": "display_data"
    },
    {
     "data": {
      "application/vnd.jupyter.widget-view+json": {
       "model_id": "fffd1577179f4975ad6ee8a4786f6fca",
       "version_major": 2,
       "version_minor": 0
      },
      "text/plain": [
       "Doing toys:   0%|          | 0/500 [00:00<?, ?it/s]"
      ]
     },
     "metadata": {},
     "output_type": "display_data"
    },
    {
     "data": {
      "application/vnd.jupyter.widget-view+json": {
       "model_id": "81e146d9bbf142fb86560e27f48950ee",
       "version_major": 2,
       "version_minor": 0
      },
      "text/plain": [
       "Doing toys:   0%|          | 0/500 [00:00<?, ?it/s]"
      ]
     },
     "metadata": {},
     "output_type": "display_data"
    },
    {
     "data": {
      "application/vnd.jupyter.widget-view+json": {
       "model_id": "2fb6f2ba6e7e4aa2901e985133fba0a6",
       "version_major": 2,
       "version_minor": 0
      },
      "text/plain": [
       "Doing toys:   0%|          | 0/500 [00:00<?, ?it/s]"
      ]
     },
     "metadata": {},
     "output_type": "display_data"
    },
    {
     "data": {
      "application/vnd.jupyter.widget-view+json": {
       "model_id": "538f3cf8261e4ef8a5bcc88d44b7f3ab",
       "version_major": 2,
       "version_minor": 0
      },
      "text/plain": [
       "Doing toys:   0%|          | 0/500 [00:00<?, ?it/s]"
      ]
     },
     "metadata": {},
     "output_type": "display_data"
    },
    {
     "data": {
      "application/vnd.jupyter.widget-view+json": {
       "model_id": "f8fb0d79eb454985b01141d5f49e7d81",
       "version_major": 2,
       "version_minor": 0
      },
      "text/plain": [
       "Doing toys:   0%|          | 0/500 [00:00<?, ?it/s]"
      ]
     },
     "metadata": {},
     "output_type": "display_data"
    },
    {
     "data": {
      "application/vnd.jupyter.widget-view+json": {
       "model_id": "76085e1e8ede49c1ac4dc1bfb0dab29a",
       "version_major": 2,
       "version_minor": 0
      },
      "text/plain": [
       "Doing toys:   0%|          | 0/500 [00:00<?, ?it/s]"
      ]
     },
     "metadata": {},
     "output_type": "display_data"
    },
    {
     "data": {
      "application/vnd.jupyter.widget-view+json": {
       "model_id": "fde98f41f69a4667859ce765df3abfb3",
       "version_major": 2,
       "version_minor": 0
      },
      "text/plain": [
       "Doing toys:   0%|          | 0/500 [00:00<?, ?it/s]"
      ]
     },
     "metadata": {},
     "output_type": "display_data"
    },
    {
     "data": {
      "application/vnd.jupyter.widget-view+json": {
       "model_id": "e33061f60f93445ab01e9c906235d918",
       "version_major": 2,
       "version_minor": 0
      },
      "text/plain": [
       "Doing toys:   0%|          | 0/500 [00:00<?, ?it/s]"
      ]
     },
     "metadata": {},
     "output_type": "display_data"
    },
    {
     "data": {
      "application/vnd.jupyter.widget-view+json": {
       "model_id": "29986169bfd14dc8afa0f0ed36e4b52c",
       "version_major": 2,
       "version_minor": 0
      },
      "text/plain": [
       "Doing toys:   0%|          | 0/500 [00:00<?, ?it/s]"
      ]
     },
     "metadata": {},
     "output_type": "display_data"
    }
   ],
   "source": [
    "%run run_routine.py -l likelihoods/SI_60t_140ty_mig_0.2-2.0Gev_500toys_40_mu_AC_test.pkl -m create_simple_template_likelihood -c wimp_sensitivity/inference_configs/SI_WIMP.ini -o outputs/SI_60t_140ty_mig_0.2-2.0Gev_500toys_40_mu_AC_test\n"
   ]
  },
  {
   "cell_type": "code",
   "execution_count": 6,
   "metadata": {},
   "outputs": [],
   "source": [
    "#Okay final step which is stiching is left\n",
    "os.chdir('/Users/amirr/Desktop/Flame/FlameFitSimple/analyses')\n",
    "%run stitch.py -d outputs/SI_60t_140ty_mig_0.2-2.0Gev_500toys_40_mu_AC_test\n",
    "\n",
    "# It combines t_s distributions from all sources and places them in the same folder as where it took it's input from(recall the dir we made for submit_local.py, in that only) as pkl file "
   ]
  }
 ],
 "metadata": {
  "kernelspec": {
   "display_name": "fire",
   "language": "python",
   "name": "python3"
  },
  "language_info": {
   "codemirror_mode": {
    "name": "ipython",
    "version": 3
   },
   "file_extension": ".py",
   "mimetype": "text/x-python",
   "name": "python",
   "nbconvert_exporter": "python",
   "pygments_lexer": "ipython3",
   "version": "3.12.4"
  }
 },
 "nbformat": 4,
 "nbformat_minor": 2
}
