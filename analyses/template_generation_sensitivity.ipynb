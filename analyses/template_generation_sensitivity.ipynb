{
 "cells": [
  {
   "cell_type": "code",
   "execution_count": null,
   "metadata": {
    "tags": []
   },
   "outputs": [],
   "source": [
    "import numpy as np\n",
    "import matplotlib.pyplot as plt\n",
    "\n",
    "import pickle as pkl\n",
    "\n",
    "import sys\n",
    "sys.path.append('../../xlzd_reqtask_nufog')\n",
    "from fogtask.fogtask import *"
   ]
  },
  {
   "cell_type": "code",
   "execution_count": null,
   "metadata": {
    "tags": []
   },
   "outputs": [],
   "source": [
    "generate_templates(mode='LENR', signal_type='WIMP',\n",
    "                   nominal_only=True, use_radius=True,\n",
    "                   file_name='v2.1_nominal_SI_WIMP',\n",
    "                   n_samples=int(1e6),\n",
    "                   version='v2.1')"
   ]
  },
  {
   "cell_type": "code",
   "execution_count": null,
   "metadata": {},
   "outputs": [],
   "source": [
    "generate_templates(mode='HENR', signal_type='WIMP',\n",
    "                   nominal_only=True, use_radius=True,\n",
    "                   file_name='v2.1_nominal_EFT_O6_s_WIMP',\n",
    "                   n_samples=int(1e6),\n",
    "                   version='v2.1')"
   ]
  },
  {
   "cell_type": "code",
   "execution_count": null,
   "metadata": {},
   "outputs": [],
   "source": [
    "generate_templates(mode='LEER', signal_type='ALP',\n",
    "                   nominal_only=True,\n",
    "                   file_name='v2.1_nominal_ALP',\n",
    "                   n_samples=int(1e6),\n",
    "                   version='v2.1')"
   ]
  },
  {
   "cell_type": "code",
   "execution_count": null,
   "metadata": {},
   "outputs": [],
   "source": [
    "generate_templates(mode='LEER', signal_type='HP',\n",
    "                   nominal_only=True,\n",
    "                   file_name='v2.1_nominal_HP',\n",
    "                   n_samples=int(1e6),\n",
    "                   version='v2.1')"
   ]
  },
  {
   "cell_type": "code",
   "execution_count": null,
   "metadata": {},
   "outputs": [],
   "source": []
  }
 ],
 "metadata": {
  "kernelspec": {
   "display_name": "flamedisx",
   "language": "python",
   "name": "flamedisx"
  },
  "language_info": {
   "codemirror_mode": {
    "name": "ipython",
    "version": 3
   },
   "file_extension": ".py",
   "mimetype": "text/x-python",
   "name": "python",
   "nbconvert_exporter": "python",
   "pygments_lexer": "ipython3",
   "version": "3.11.12"
  }
 },
 "nbformat": 4,
 "nbformat_minor": 4
}
