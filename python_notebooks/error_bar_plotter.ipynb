{
 "cells": [
  {
   "cell_type": "code",
   "execution_count": 2,
   "id": "207a15e5",
   "metadata": {},
   "outputs": [],
   "source": [
    "import numpy as np"
   ]
  },
  {
   "cell_type": "code",
   "execution_count": null,
   "id": "ce508fdd",
   "metadata": {},
   "outputs": [],
   "source": [
    "def percplusmin(arr, percentile=50, cl=68, N=1000):\n",
    "    per = np.percentile(arr, percentile)\n",
    "    pers = [np.percentile(np.random.choice(arr, size=len(arr)), percentile) for _ in range(N)]\n",
    "    pers = np.array(pers)\n",
    "    perd = np.percentile(pers, 0.5*(100-cl))\n",
    "    peru = np.percentile(pers, 100-0.5*(100-cl))\n",
    "    return per, perd, peru"
   ]
  },
  {
   "cell_type": "code",
   "execution_count": null,
   "id": "79668e43",
   "metadata": {},
   "outputs": [],
   "source": []
  }
 ],
 "metadata": {
  "kernelspec": {
   "display_name": "flamedisx",
   "language": "python",
   "name": "python3"
  },
  "language_info": {
   "codemirror_mode": {
    "name": "ipython",
    "version": 3
   },
   "file_extension": ".py",
   "mimetype": "text/x-python",
   "name": "python",
   "nbconvert_exporter": "python",
   "pygments_lexer": "ipython3",
   "version": "3.11.12"
  }
 },
 "nbformat": 4,
 "nbformat_minor": 5
}
